{
 "cells": [
  {
   "cell_type": "code",
   "execution_count": 1,
   "metadata": {
    "ExecuteTime": {
     "end_time": "2020-12-07T08:30:46.138571Z",
     "start_time": "2020-12-07T08:30:44.628644Z"
    }
   },
   "outputs": [],
   "source": [
    "import pandas as pd\n",
    "import numpy as np\n",
    "import matplotlib.pyplot as plt\n",
    "import seaborn as sns"
   ]
  },
  {
   "cell_type": "code",
   "execution_count": 2,
   "metadata": {
    "ExecuteTime": {
     "end_time": "2020-12-07T08:30:48.657907Z",
     "start_time": "2020-12-07T08:30:46.141495Z"
    }
   },
   "outputs": [],
   "source": [
    "df = pd.read_excel(\"../datasets/msft_test.xlsx\")\n",
    "\n",
    "df1 = pd.read_csv(\"../datasets/constituents_csv.csv\")\n",
    "sp_energ = df1[df1[\"Sector\"] == \"Energy\"]\n",
    "big_df = pd.read_excel(\"../datasets/100_ratings_06-17.xlsx\")\n",
    "figs_1 = pd.read_excel(\"../datasets/fin_figs_1.xlsx\")"
   ]
  },
  {
   "cell_type": "code",
   "execution_count": 42,
   "metadata": {
    "ExecuteTime": {
     "end_time": "2020-11-15T07:24:37.710419Z",
     "start_time": "2020-11-15T07:24:37.686564Z"
    },
    "code_folding": []
   },
   "outputs": [],
   "source": [
    "a = list(sp_energ[\"Symbol\"])\n",
    "b = [\"RDS.A\", \"PTR\", \"TOT\", \"SNP\", \"BP\", \"ENB\", \"PBR\", \"CEO\", \"EQNR\", \"EPD\", \"TRP\", \"COP\",\"E\", \"KMI\",'PSX', \n",
    " 'EOG', 'SLB', 'WMB', 'MPC', 'CNQ', 'EC', 'MPLX', 'SU', 'VLO', 'BKR', 'CQP', 'PXD', 'ET', 'OKE', 'HES', \n",
    " 'LNG', 'HAL', 'PBA', 'IMO', 'OXY', 'CXO', 'MMP', 'TS', 'COG', 'PAA', 'PSXP', 'FANG', 'CLR', 'CVE', \n",
    " 'WES', 'TRGP', 'HESM', 'PE', 'DVN', 'SSL', 'SHI', 'NOV','TPL','EQT','MRO','PDS','APA','VVV','UGP',\n",
    " 'NFG','CZZ','SHLX','HFC','CCJ','YPF','WPX','FTI','DCP','XEC','AM','ETRN','OVV','REGI','ENBL','SUN','CNX',\n",
    " 'CHX', 'TCP','SWN','HP','RRC','WHD','INT','EURN','PDCE','ENLC','PAGP','BSM','CVI','MUR','MGY','HEP',\n",
    " 'NS','DKL','FRO','CRC']\n",
    "a.extend(b)\n",
    "tik = set(a)\n",
    "file = open(\"tickers.txt\",'w')\n",
    "\n",
    "for l in tik:\n",
    "    file.write(l)\n",
    "    file.write('\\n')\n",
    "file.close()\n"
   ]
  },
  {
   "cell_type": "code",
   "execution_count": 36,
   "metadata": {
    "ExecuteTime": {
     "end_time": "2020-12-07T08:55:30.438099Z",
     "start_time": "2020-12-07T08:55:30.396205Z"
    }
   },
   "outputs": [
    {
     "data": {
      "text/html": [
       "<div>\n",
       "<style scoped>\n",
       "    .dataframe tbody tr th:only-of-type {\n",
       "        vertical-align: middle;\n",
       "    }\n",
       "\n",
       "    .dataframe tbody tr th {\n",
       "        vertical-align: top;\n",
       "    }\n",
       "\n",
       "    .dataframe thead th {\n",
       "        text-align: right;\n",
       "    }\n",
       "</style>\n",
       "<table border=\"1\" class=\"dataframe\">\n",
       "  <thead>\n",
       "    <tr style=\"text-align: right;\">\n",
       "      <th></th>\n",
       "      <th>Cash</th>\n",
       "    </tr>\n",
       "  </thead>\n",
       "  <tbody>\n",
       "    <tr>\n",
       "      <th>count</th>\n",
       "      <td>97.000000</td>\n",
       "    </tr>\n",
       "    <tr>\n",
       "      <th>mean</th>\n",
       "      <td>1953.577573</td>\n",
       "    </tr>\n",
       "    <tr>\n",
       "      <th>std</th>\n",
       "      <td>4019.292973</td>\n",
       "    </tr>\n",
       "    <tr>\n",
       "      <th>min</th>\n",
       "      <td>0.000000</td>\n",
       "    </tr>\n",
       "    <tr>\n",
       "      <th>25%</th>\n",
       "      <td>77.400000</td>\n",
       "    </tr>\n",
       "    <tr>\n",
       "      <th>50%</th>\n",
       "      <td>348.034091</td>\n",
       "    </tr>\n",
       "    <tr>\n",
       "      <th>75%</th>\n",
       "      <td>1627.807775</td>\n",
       "    </tr>\n",
       "    <tr>\n",
       "      <th>max</th>\n",
       "      <td>19107.086950</td>\n",
       "    </tr>\n",
       "  </tbody>\n",
       "</table>\n",
       "</div>"
      ],
      "text/plain": [
       "               Cash\n",
       "count     97.000000\n",
       "mean    1953.577573\n",
       "std     4019.292973\n",
       "min        0.000000\n",
       "25%       77.400000\n",
       "50%      348.034091\n",
       "75%     1627.807775\n",
       "max    19107.086950"
      ]
     },
     "execution_count": 36,
     "metadata": {},
     "output_type": "execute_result"
    }
   ],
   "source": [
    "big_df[\"S&P Domestic Long Term Issuer Credit Rating\"].value_counts()\n",
    "# len(figs_1[\"Global Company Key\"].uni\n",
    "pd.DataFrame(figs_1.groupby('Ticker Symbol')['Cash'].mean()).describe()\n",
    "# big_df[\"S&P Domestic Long Term Issuer Credit Rating\"].isna().sum()\n",
    "\n"
   ]
  },
  {
   "cell_type": "markdown",
   "metadata": {},
   "source": [
    "### Delaware is the state of incorporation of nearly 90% of samples companies"
   ]
  },
  {
   "cell_type": "code",
   "execution_count": 67,
   "metadata": {
    "ExecuteTime": {
     "end_time": "2020-11-15T07:55:37.906736Z",
     "start_time": "2020-11-15T07:55:37.880774Z"
    }
   },
   "outputs": [
    {
     "data": {
      "text/plain": [
       "array(['DE', nan, 'OK', 'PA', 'NJ', 'FL', 'KY'], dtype=object)"
      ]
     },
     "execution_count": 67,
     "metadata": {},
     "output_type": "execute_result"
    }
   ],
   "source": [
    "(big_df[\"Current State/Province of Incorporation Code\"].value_counts()\n",
    "/big_df[\"Current State/Province of Incorporation Code\"].notna().sum())\n",
    "big_df[\"Current State/Province of Incorporation Code\"].unique()"
   ]
  },
  {
   "cell_type": "code",
   "execution_count": null,
   "metadata": {},
   "outputs": [],
   "source": []
  }
 ],
 "metadata": {
  "kernelspec": {
   "display_name": "Python 3",
   "language": "python",
   "name": "python3"
  },
  "language_info": {
   "codemirror_mode": {
    "name": "ipython",
    "version": 3
   },
   "file_extension": ".py",
   "mimetype": "text/x-python",
   "name": "python",
   "nbconvert_exporter": "python",
   "pygments_lexer": "ipython3",
   "version": "3.7.0"
  },
  "toc": {
   "base_numbering": 1,
   "nav_menu": {},
   "number_sections": true,
   "sideBar": true,
   "skip_h1_title": false,
   "title_cell": "Table of Contents",
   "title_sidebar": "Contents",
   "toc_cell": false,
   "toc_position": {},
   "toc_section_display": true,
   "toc_window_display": false
  }
 },
 "nbformat": 4,
 "nbformat_minor": 2
}
