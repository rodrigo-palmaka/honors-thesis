{
 "cells": [
  {
   "cell_type": "code",
   "execution_count": 1,
   "metadata": {
    "ExecuteTime": {
     "end_time": "2021-03-20T23:37:29.298272Z",
     "start_time": "2021-03-20T23:37:20.809594Z"
    }
   },
   "outputs": [],
   "source": [
    "import pandas as pd\n",
    "import numpy as np\n",
    "import matplotlib.pyplot as plt\n",
    "# from mpl_toolkits.mplot3d import axes3d  \n",
    "import seaborn as sns\n",
    "from scipy import stats\n",
    "\n",
    "from sklearn.preprocessing import MinMaxScaler, StandardScaler\n",
    "from sklearn.decomposition import PCA\n",
    "from EDA_helper import *"
   ]
  },
  {
   "cell_type": "code",
   "execution_count": 3,
   "metadata": {
    "ExecuteTime": {
     "end_time": "2021-03-05T22:58:28.380107Z",
     "start_time": "2021-03-05T22:58:24.647049Z"
    }
   },
   "outputs": [
    {
     "name": "stderr",
     "output_type": "stream",
     "text": [
      "c:\\users\\rodri\\appdata\\local\\programs\\python\\python37\\lib\\site-packages\\openpyxl\\styles\\stylesheet.py:214: UserWarning: Workbook contains no default style, apply openpyxl's default\n",
      "  warn(\"Workbook contains no default style, apply openpyxl's default\")\n"
     ]
    }
   ],
   "source": [
    "df = pd.read_excel(\"../datasets/msft_test.xlsx\", engine='openpyxl')\n",
    "\n",
    "df1 = pd.read_csv(\"../datasets/constituents_csv.csv\")\n",
    "sp_energ = df1[df1[\"Sector\"] == \"Energy\"]\n",
    "ratings = pd.read_excel(\"../datasets/100_ratings_06-17.xlsx\")\n",
    "figs = pd.read_excel(\"../datasets/fin_figs_1.xlsx\")"
   ]
  },
  {
   "cell_type": "code",
   "execution_count": 3,
   "metadata": {
    "ExecuteTime": {
     "end_time": "2021-01-08T02:20:34.498110Z",
     "start_time": "2021-01-08T02:20:34.473177Z"
    }
   },
   "outputs": [
    {
     "data": {
      "text/plain": [
       "86"
      ]
     },
     "execution_count": 3,
     "metadata": {},
     "output_type": "execute_result"
    }
   ],
   "source": [
    "len(ratings['Company Name'].unique())"
   ]
  },
  {
   "cell_type": "code",
   "execution_count": 3,
   "metadata": {
    "ExecuteTime": {
     "end_time": "2021-01-23T02:15:30.768340Z",
     "start_time": "2021-01-23T02:15:30.727286Z"
    },
    "code_folding": []
   },
   "outputs": [],
   "source": [
    "a = list(sp_energ[\"Symbol\"])\n",
    "b = [\"RDS.A\", \"PTR\", \"TOT\", \"SNP\", \"BP\", \"ENB\", \"PBR\", \"CEO\", \"EQNR\", \"EPD\", \"TRP\", \"COP\",\"E\", \"KMI\",'PSX', \n",
    " 'EOG', 'SLB', 'WMB', 'MPC', 'CNQ', 'EC', 'MPLX', 'SU', 'VLO', 'BKR', 'CQP', 'PXD', 'ET', 'OKE', 'HES', \n",
    " 'LNG', 'HAL', 'PBA', 'IMO', 'OXY', 'CXO', 'MMP', 'TS', 'COG', 'PAA', 'PSXP', 'FANG', 'CLR', 'CVE', \n",
    " 'WES', 'TRGP', 'HESM', 'PE', 'DVN', 'SSL', 'SHI', 'NOV','TPL','EQT','MRO','PDS','APA','VVV','UGP',\n",
    " 'NFG','CZZ','SHLX','HFC','CCJ','YPF','WPX','FTI','DCP','XEC','AM','ETRN','OVV','REGI','ENBL','SUN','CNX',\n",
    " 'CHX', 'TCP','SWN','HP','RRC',\n",
    "     \n",
    "    'WHD','INT','EURN','PDCE','ENLC','PAGP','BSM','CVI','MUR','MGY','HEP',\n",
    "     'NS','DKL','FRO','CRC', 'WHD',  'CZZ',  'TCP',  'SWN',  'INT',  'CLNE',  'RRC',  'CRC',  'MUR',  'ENLC', \n",
    "    'CVI',  'MTDR', 'PAGP',  'AR', 'RIG',  'NS',  'DKL',  'CLB',  'EURN',  'BSM', \n",
    "    'HEP',  'DEN',  'CPG',  'AROC', 'DK',  'LBRT',  'CEQP',  'RTLR',  'USAC',  'BPMP',  'GLNG', 'FRO', \n",
    "     'DRQ',  'BROG', 'PTEN',  'KOS',  'NBLX',  'TGP', 'CRK',  'SM',\n",
    "    'OH',  'NXE',  'PBF',  'VNOM',  'WLL',  'DHT', 'DNOW', 'NESR',  'CKH',  'PUMP',\n",
    "     'VTOL',  'RES',  'TELL',  'VET',  'TALO', 'OAS', 'NEX', 'PARR',  'QEP', 'BOOM'] \n",
    "\n",
    "## did top 140 energy companies by market cap on finviz\n",
    "\n",
    "a.extend(b)\n",
    "tik = set(a)\n",
    "file = open(\"tickers_plus.txt\",'w')\n",
    "\n",
    "for l in tik:\n",
    "    file.write(l)\n",
    "    file.write('\\n')\n",
    "file.close()\n"
   ]
  },
  {
   "cell_type": "code",
   "execution_count": 4,
   "metadata": {
    "ExecuteTime": {
     "end_time": "2021-03-05T22:58:32.526799Z",
     "start_time": "2021-03-05T22:58:31.746818Z"
    }
   },
   "outputs": [],
   "source": [
    "ticks = pd.read_excel(\"../datasets/energ_tickers.xlsx\")"
   ]
  },
  {
   "cell_type": "code",
   "execution_count": 9,
   "metadata": {
    "ExecuteTime": {
     "end_time": "2021-03-05T22:59:17.406266Z",
     "start_time": "2021-03-05T22:59:17.386320Z"
    }
   },
   "outputs": [],
   "source": [
    "big_ticks = list(ticks['Ticker Symbol'].unique())\n"
   ]
  },
  {
   "cell_type": "code",
   "execution_count": 10,
   "metadata": {
    "ExecuteTime": {
     "end_time": "2021-03-05T22:59:24.892658Z",
     "start_time": "2021-03-05T22:59:24.868082Z"
    },
    "code_folding": [
     0
    ]
   },
   "outputs": [],
   "source": [
    "file = open(\"tickers_energ_all.txt\",'w')\n",
    "\n",
    "for l in big_ticks:\n",
    "    file.write(l)\n",
    "    file.write('\\n')\n",
    "file.close()"
   ]
  },
  {
   "cell_type": "code",
   "execution_count": 5,
   "metadata": {
    "ExecuteTime": {
     "end_time": "2021-01-08T02:20:34.575902Z",
     "start_time": "2021-01-08T02:20:34.557951Z"
    },
    "code_folding": [
     0
    ],
    "scrolled": true
   },
   "outputs": [],
   "source": [
    "# ratings[\"S&P Domestic Long Term Issuer Credit Rating\"].value_counts()\n",
    "# # len(figs_1[\"Global Company Key\"].uni\n",
    "# pd.DataFrame(figs_1.groupby('Ticker Symbol')['Cash'].mean()).describe()\n",
    "# ratings[\"S&P Domestic Long Term Issuer Credit Rating\"].isna().sum()/len(ratings)\n"
   ]
  },
  {
   "cell_type": "code",
   "execution_count": 6,
   "metadata": {
    "ExecuteTime": {
     "end_time": "2021-01-08T02:20:34.704676Z",
     "start_time": "2021-01-08T02:20:34.578895Z"
    }
   },
   "outputs": [
    {
     "name": "stdout",
     "output_type": "stream",
     "text": [
      "Unique Companies in Ratings:  73\n",
      "Unique Companies in Features:  95\n",
      "Intersection of companies:  73\n"
     ]
    }
   ],
   "source": [
    "figs_1, ratings1 = format_df(figs, ratings) "
   ]
  },
  {
   "cell_type": "markdown",
   "metadata": {},
   "source": [
    "### Delaware is the state of incorporation of nearly 90% of samples companies"
   ]
  },
  {
   "cell_type": "code",
   "execution_count": 7,
   "metadata": {
    "ExecuteTime": {
     "end_time": "2021-01-08T02:20:34.719632Z",
     "start_time": "2021-01-08T02:20:34.708661Z"
    },
    "scrolled": true
   },
   "outputs": [],
   "source": [
    "# (figs_1[\"Current State/Province of Incorporation Code\"].value_counts()\n",
    "# /figs_1[\"Current State/Province of Incorporation Code\"].notna().sum())\n",
    "# figs_1[\"Current State/Province of Incorporation Code\"].unique()"
   ]
  },
  {
   "cell_type": "markdown",
   "metadata": {},
   "source": [
    "### Ratings Appear to be \"Normally\" Distributed\n",
    "\n",
    "\n",
    "However, ratings are discrete, categorical data and make no sense in the context of the normal distribution.\n",
    "For multi-class classification, we want uniformly distributed labels."
   ]
  },
  {
   "cell_type": "code",
   "execution_count": null,
   "metadata": {
    "ExecuteTime": {
     "end_time": "2021-01-06T04:13:23.555519Z",
     "start_time": "2021-01-06T04:13:19.850Z"
    }
   },
   "outputs": [],
   "source": [
    "embed = {'BBB-':-1, 'BBB':0, 'A-':2, 'BBB+':1, 'AA+':7, 'AA':6, 'A':3, 'AA-':5, 'BB':-3, 'BB+':-2,\n",
    "       'AAA':8, 'B':-6, 'B+':-5, 'A+':4, 'BB-':-4, 'CCC+':-8, 'B-':-7}\n",
    "\n",
    "fig, ax = plt.subplots(figsize=(7,7))\n",
    "embedded =  merged['rating'].apply(lambda x: embed[x])\n",
    "ax.hist(embedded,bins=17)\n",
    "ax.set_xticklabels([0, 'CCC+', 'B','BB-','BB+', 'BBB','A-','A+',\n",
    "                   'AA', 'AAA'])\n",
    "\n",
    "hmean = np.mean(embedded)\n",
    "hstd = np.std(embedded)\n",
    "pdf = stats.norm.pdf(embedded, hmean, hstd)\n",
    "\n",
    "ax2 = ax.twinx()\n",
    "ax2.plot(embedded, pdf, 'r.')\n",
    "plt.show()"
   ]
  },
  {
   "cell_type": "markdown",
   "metadata": {
    "ExecuteTime": {
     "end_time": "2021-01-02T00:05:19.042623Z",
     "start_time": "2021-01-02T00:05:18.765796Z"
    }
   },
   "source": [
    "### Ratings are discrete and can't be understood by a continuous distribution like the Gaussian \n",
    "\n",
    "Jarque-Bera Goodness of Fit test checks skewness and kurtosis of distribution to qualify if it is normally distributed\n",
    "\n",
    "\n",
    "High statistic value and low p-value implies the distribution is NOT Gaussian.\n",
    "\n",
    "This is obvious since our ratings are categorical data and make no sense in the context of the normal distribution. However, the fact that the labels, when plotted, seem to resemble a normal dist. around BBB may be useful."
   ]
  },
  {
   "cell_type": "code",
   "execution_count": null,
   "metadata": {
    "ExecuteTime": {
     "end_time": "2021-01-06T04:13:23.557513Z",
     "start_time": "2021-01-06T04:13:19.853Z"
    }
   },
   "outputs": [],
   "source": [
    "t = np.random.normal(0,1, 100)\n",
    "\n",
    "print(\"JB test for Ratings: \", \"statistic: \", stats.jarque_bera(embedded)[0], \"p-value: \", stats.jarque_bera(embedded)[1])\n",
    "print(\"JB test for Std Normal (Control): \", \"statistic: \", stats.jarque_bera(t)[0], \"p-value: \", stats.jarque_bera(t)[1])"
   ]
  },
  {
   "cell_type": "code",
   "execution_count": null,
   "metadata": {},
   "outputs": [],
   "source": [
    "# energs = pd.read_excel(\"../datasets/energ_specific_all.xlsx\")\n",
    "# m = pd.to_datetime(energs['Data Date'], infer_datetime_format=True)\n",
    "# q = m.apply(lambda x: x.strftime('%Y%m%d'))\n",
    "# energs['Data Date'] = q\n",
    "# energs.to_excel(\"../datasets/energ_specific_all_new.xlsx\")"
   ]
  }
 ],
 "metadata": {
  "kernelspec": {
   "display_name": "Python 3",
   "language": "python",
   "name": "python3"
  },
  "language_info": {
   "codemirror_mode": {
    "name": "ipython",
    "version": 3
   },
   "file_extension": ".py",
   "mimetype": "text/x-python",
   "name": "python",
   "nbconvert_exporter": "python",
   "pygments_lexer": "ipython3",
   "version": "3.7.0"
  },
  "toc": {
   "base_numbering": 1,
   "nav_menu": {},
   "number_sections": true,
   "sideBar": true,
   "skip_h1_title": false,
   "title_cell": "Table of Contents",
   "title_sidebar": "Contents",
   "toc_cell": false,
   "toc_position": {},
   "toc_section_display": true,
   "toc_window_display": false
  }
 },
 "nbformat": 4,
 "nbformat_minor": 2
}
