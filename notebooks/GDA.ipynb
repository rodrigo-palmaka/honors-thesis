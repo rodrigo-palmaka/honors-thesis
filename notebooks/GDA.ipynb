{
 "cells": [
  {
   "cell_type": "code",
   "execution_count": 2,
   "metadata": {
    "ExecuteTime": {
     "end_time": "2021-02-01T05:31:48.215187Z",
     "start_time": "2021-02-01T05:31:45.368229Z"
    }
   },
   "outputs": [],
   "source": [
    "import pandas as pd\n",
    "import numpy as np\n",
    "import matplotlib.pyplot as plt\n",
    "# from mpl_toolkits.mplot3d import axes3d  \n",
    "import seaborn as sns\n",
    "from scipy import stats\n",
    "\n",
    "from sklearn.preprocessing import MinMaxScaler, StandardScaler\n",
    "from sklearn.decomposition import PCA\n",
    "\n",
    "from sklearn.metrics import plot_confusion_matrix\n",
    "from sklearn.metrics import classification_report\n",
    "from sklearn import svm\n",
    "import random\n",
    "from imblearn.over_sampling import SMOTE\n",
    "import rcca\n",
    "from sklearn.model_selection import cross_val_score\n",
    "from sklearn.model_selection import RepeatedStratifiedKFold\n",
    "from sklearn.discriminant_analysis import LinearDiscriminantAnalysis, QuadraticDiscriminantAnalysis\n",
    "from sklearn.feature_selection import RFE"
   ]
  },
  {
   "cell_type": "code",
   "execution_count": 3,
   "metadata": {
    "ExecuteTime": {
     "end_time": "2021-02-01T05:31:48.231144Z",
     "start_time": "2021-02-01T05:31:48.218178Z"
    }
   },
   "outputs": [],
   "source": [
    "from EDA_helper import *"
   ]
  },
  {
   "cell_type": "code",
   "execution_count": 15,
   "metadata": {
    "ExecuteTime": {
     "end_time": "2021-02-01T05:39:47.550338Z",
     "start_time": "2021-02-01T05:39:43.415049Z"
    }
   },
   "outputs": [
    {
     "name": "stdout",
     "output_type": "stream",
     "text": [
      "Unique Companies in Ratings:  88\n",
      "Unique Companies in Features:  42\n",
      "Intersection of companies:  26\n",
      "Unique Companies in Ratings:  88\n",
      "Unique Companies in Features:  42\n",
      "Intersection of companies:  26\n",
      "Unique Companies in Ratings:  88\n",
      "Unique Companies in Features:  42\n",
      "Intersection of companies:  26\n"
     ]
    }
   ],
   "source": [
    "ratings = pd.read_excel(\"../datasets/ratings_2_06-17.xlsx\")\n",
    "ratio = pd.read_excel(\"../datasets/ratio_figs_2.xlsx\")\n",
    "ratio = ratio.rename(columns = {'Public Date':'Data Date','EXCHANGE TICKER SYMBOL - HISTORICAL':'Ticker Symbol'})\n",
    "\n",
    "###########################################################################################################\n",
    "ratio1, ratings1 = format_df(ratio.copy(), ratings.copy(), ['Trailing P/E to Growth (PEG) ratio','Dividend Yield'])\n",
    "numer = list(ratio1.columns[4:-1])\n",
    "X1,Y1,full1 = join_numerical(ratio1, ratings1, numerical=numer)\n",
    "\n",
    "ratio2, ratings2 = format_df(ratio.copy(), ratings.copy(), ['Trailing P/E to Growth (PEG) ratio','Dividend Yield', \n",
    "                        'Cash Ratio', 'Total Debt/Capital', 'Operating Profit Margin Before Depreciation',\n",
    "                            'Enterprise Value Multiple', 'Cash Balance/Total Liabilities'])\n",
    "numer = list(ratio2.columns[4:-1])\n",
    "X2,Y2,full2 = join_numerical(ratio2, ratings2, numerical=numer)\n",
    "\n",
    "ratio3, ratings3 = format_df(ratio.copy(), ratings.copy(), ['Trailing P/E to Growth (PEG) ratio','Dividend Yield', \n",
    "                        'Cash Ratio', 'Total Debt/Capital', 'Operating Profit Margin Before Depreciation',\n",
    "                            'Enterprise Value Multiple', 'Cash Balance/Total Liabilities',\n",
    "                            'Profit Before Depreciation/Current Liabilities', 'Cash Flow Margin'])\n",
    "numer = list(ratio3.columns[4:-1])\n",
    "X3,Y3,full3 = join_numerical(ratio3, ratings3, numerical=numer)\n",
    "\n",
    "# ratio1, ratings1 = format_df(ratio.copy(), ratings.copy(), ['Trailing P/E to Growth (PEG) ratio','Dividend Yield'])\n",
    "# numer = list(ratio1.columns[4:-1])\n",
    "# X1,Y1,full1 = join_numerical(ratio1, ratings1, numerical=numer)\n"
   ]
  },
  {
   "cell_type": "code",
   "execution_count": 16,
   "metadata": {
    "ExecuteTime": {
     "end_time": "2021-02-01T05:39:47.575165Z",
     "start_time": "2021-02-01T05:39:47.550338Z"
    }
   },
   "outputs": [],
   "source": [
    "# ac = pd.DataFrame(X,columns = numer)\n",
    "# cor = ac.corr()\n",
    "# plt.figure(figsize=(20,20))\n",
    "# sns.heatmap(cor, annot=True, cmap=plt.cm.Reds)\n",
    "# plt.show()\n"
   ]
  },
  {
   "cell_type": "code",
   "execution_count": 17,
   "metadata": {
    "ExecuteTime": {
     "end_time": "2021-02-01T05:39:47.608945Z",
     "start_time": "2021-02-01T05:39:47.579168Z"
    }
   },
   "outputs": [],
   "source": [
    "xs = [StandardScaler().fit_transform(X1), StandardScaler().fit_transform(X2), \n",
    "      StandardScaler().fit_transform(X3)]\n",
    "ys = [encode(Y1)[0], encode(Y2)[0], encode(Y3)[0]]\n",
    "fulls = [full1, full2, full3]"
   ]
  },
  {
   "cell_type": "code",
   "execution_count": 28,
   "metadata": {
    "ExecuteTime": {
     "end_time": "2021-02-01T05:47:10.832201Z",
     "start_time": "2021-02-01T05:47:10.812204Z"
    }
   },
   "outputs": [],
   "source": [
    "def GDA(X, Y, full, shrink=None, reg=0.0):\n",
    "    \n",
    "    results = {}\n",
    "    X_train, Y_train, _, _, X_test, Y_test = data_split(X, Y, full, split=[0.8, 0.0],smote=True)\n",
    "    # LDA w/ smote\n",
    "    lda = LinearDiscriminantAnalysis(solver='eigen', shrinkage=shrink)\n",
    "    lda.fit(X_train, Y_train)\n",
    "    preds_train = lda.predict(X_train)\n",
    "    preds_test = lda.predict(X_test)\n",
    "    results['lda_smote'] = (np.mean(Y_train == preds_train), np.mean(Y_test == preds_test))\n",
    "    # QDA w/ smote\n",
    "    qda = QuadraticDiscriminantAnalysis(reg_param = reg)\n",
    "    qda.fit(X_train, Y_train)\n",
    "    preds_train = qda.predict(X_train)\n",
    "    preds_test = qda.predict(X_test)\n",
    "    \n",
    "    results['qda_smote'] = (np.mean(Y_train == preds_train), np.mean(Y_test == preds_test))\n",
    "    \n",
    "    X_train, Y_train, _, _, X_test, Y_test = data_split(X, Y, full, split=[0.8, 0.0], smote=False)\n",
    "    # LDA w/o smote\n",
    "    lda = LinearDiscriminantAnalysis(solver='eigen',shrinkage=shrink)\n",
    "    lda.fit(X_train, Y_train)\n",
    "    preds_train = lda.predict(X_train)\n",
    "    preds_test = lda.predict(X_test)\n",
    "    results['lda'] = (np.mean(Y_train == preds_train), np.mean(Y_test == preds_test))\n",
    "    # QDA w/o smote\n",
    "    qda = QuadraticDiscriminantAnalysis(reg_param = reg)\n",
    "    qda.fit(X_train, Y_train)\n",
    "    preds_train = qda.predict(X_train)\n",
    "    preds_test = qda.predict(X_test)\n",
    "    results['qda'] = (np.mean(Y_train == preds_train), np.mean(Y_test == preds_test))    \n",
    "    \n",
    "    df_ = pd.DataFrame(results.values(),index=results.keys(), columns = ['train accuracy', 'test accuracy'])\n",
    "    max_test=np.argmax(df_.iloc[:, 1:].values)\n",
    "    max_elem = pd.DataFrame(df_.iloc[max_test, :])\n",
    "    return df_, max_elem\n",
    "    \n",
    "    "
   ]
  },
  {
   "cell_type": "code",
   "execution_count": 29,
   "metadata": {
    "ExecuteTime": {
     "end_time": "2021-02-01T05:47:13.054832Z",
     "start_time": "2021-02-01T05:47:12.894813Z"
    },
    "scrolled": true
   },
   "outputs": [
    {
     "name": "stderr",
     "output_type": "stream",
     "text": [
      "c:\\users\\rodri\\appdata\\local\\programs\\python\\python37\\lib\\site-packages\\sklearn\\discriminant_analysis.py:715: UserWarning: Variables are collinear\n",
      "  warnings.warn(\"Variables are collinear\")\n",
      "c:\\users\\rodri\\appdata\\local\\programs\\python\\python37\\lib\\site-packages\\sklearn\\discriminant_analysis.py:715: UserWarning: Variables are collinear\n",
      "  warnings.warn(\"Variables are collinear\")\n",
      "c:\\users\\rodri\\appdata\\local\\programs\\python\\python37\\lib\\site-packages\\sklearn\\discriminant_analysis.py:715: UserWarning: Variables are collinear\n",
      "  warnings.warn(\"Variables are collinear\")\n",
      "c:\\users\\rodri\\appdata\\local\\programs\\python\\python37\\lib\\site-packages\\sklearn\\discriminant_analysis.py:715: UserWarning: Variables are collinear\n",
      "  warnings.warn(\"Variables are collinear\")\n",
      "c:\\users\\rodri\\appdata\\local\\programs\\python\\python37\\lib\\site-packages\\sklearn\\discriminant_analysis.py:715: UserWarning: Variables are collinear\n",
      "  warnings.warn(\"Variables are collinear\")\n",
      "c:\\users\\rodri\\appdata\\local\\programs\\python\\python37\\lib\\site-packages\\sklearn\\discriminant_analysis.py:715: UserWarning: Variables are collinear\n",
      "  warnings.warn(\"Variables are collinear\")\n"
     ]
    },
    {
     "data": {
      "text/html": [
       "<div>\n",
       "<style scoped>\n",
       "    .dataframe tbody tr th:only-of-type {\n",
       "        vertical-align: middle;\n",
       "    }\n",
       "\n",
       "    .dataframe tbody tr th {\n",
       "        vertical-align: top;\n",
       "    }\n",
       "\n",
       "    .dataframe thead th {\n",
       "        text-align: right;\n",
       "    }\n",
       "</style>\n",
       "<table border=\"1\" class=\"dataframe\">\n",
       "  <thead>\n",
       "    <tr style=\"text-align: right;\">\n",
       "      <th></th>\n",
       "      <th>train accuracy</th>\n",
       "      <th>test accuracy</th>\n",
       "      <th>train accuracy</th>\n",
       "      <th>test accuracy</th>\n",
       "      <th>train accuracy</th>\n",
       "      <th>test accuracy</th>\n",
       "    </tr>\n",
       "  </thead>\n",
       "  <tbody>\n",
       "    <tr>\n",
       "      <th>lda_smote</th>\n",
       "      <td>0.817300</td>\n",
       "      <td>0.511905</td>\n",
       "      <td>0.690717</td>\n",
       "      <td>0.482143</td>\n",
       "      <td>0.677637</td>\n",
       "      <td>0.482143</td>\n",
       "    </tr>\n",
       "    <tr>\n",
       "      <th>qda_smote</th>\n",
       "      <td>0.957806</td>\n",
       "      <td>0.744048</td>\n",
       "      <td>0.931224</td>\n",
       "      <td>0.696429</td>\n",
       "      <td>0.925316</td>\n",
       "      <td>0.678571</td>\n",
       "    </tr>\n",
       "    <tr>\n",
       "      <th>lda</th>\n",
       "      <td>0.764179</td>\n",
       "      <td>0.732143</td>\n",
       "      <td>0.720896</td>\n",
       "      <td>0.630952</td>\n",
       "      <td>0.704478</td>\n",
       "      <td>0.583333</td>\n",
       "    </tr>\n",
       "    <tr>\n",
       "      <th>qda</th>\n",
       "      <td>0.886567</td>\n",
       "      <td>0.791667</td>\n",
       "      <td>0.849254</td>\n",
       "      <td>0.761905</td>\n",
       "      <td>0.841791</td>\n",
       "      <td>0.744048</td>\n",
       "    </tr>\n",
       "  </tbody>\n",
       "</table>\n",
       "</div>"
      ],
      "text/plain": [
       "           train accuracy  test accuracy  train accuracy  test accuracy  \\\n",
       "lda_smote        0.817300       0.511905        0.690717       0.482143   \n",
       "qda_smote        0.957806       0.744048        0.931224       0.696429   \n",
       "lda              0.764179       0.732143        0.720896       0.630952   \n",
       "qda              0.886567       0.791667        0.849254       0.761905   \n",
       "\n",
       "           train accuracy  test accuracy  \n",
       "lda_smote        0.677637       0.482143  \n",
       "qda_smote        0.925316       0.678571  \n",
       "lda              0.704478       0.583333  \n",
       "qda              0.841791       0.744048  "
      ]
     },
     "execution_count": 29,
     "metadata": {},
     "output_type": "execute_result"
    }
   ],
   "source": [
    " \n",
    "dfs = []\n",
    "maxis = []\n",
    "for i in range(len(xs)):\n",
    "    df, maxi = GDA(xs[i], ys[i], fulls[i])\n",
    "    dfs.append(df)\n",
    "    maxis.append(maxi)\n",
    "pd.concat(dfs, axis=1)\n"
   ]
  },
  {
   "cell_type": "code",
   "execution_count": 31,
   "metadata": {
    "ExecuteTime": {
     "end_time": "2021-02-01T05:48:19.797499Z",
     "start_time": "2021-02-01T05:48:19.197029Z"
    }
   },
   "outputs": [
    {
     "name": "stderr",
     "output_type": "stream",
     "text": [
      "c:\\users\\rodri\\appdata\\local\\programs\\python\\python37\\lib\\site-packages\\sklearn\\discriminant_analysis.py:715: UserWarning: Variables are collinear\n",
      "  warnings.warn(\"Variables are collinear\")\n",
      "c:\\users\\rodri\\appdata\\local\\programs\\python\\python37\\lib\\site-packages\\sklearn\\discriminant_analysis.py:715: UserWarning: Variables are collinear\n",
      "  warnings.warn(\"Variables are collinear\")\n",
      "c:\\users\\rodri\\appdata\\local\\programs\\python\\python37\\lib\\site-packages\\sklearn\\discriminant_analysis.py:715: UserWarning: Variables are collinear\n",
      "  warnings.warn(\"Variables are collinear\")\n",
      "c:\\users\\rodri\\appdata\\local\\programs\\python\\python37\\lib\\site-packages\\sklearn\\discriminant_analysis.py:715: UserWarning: Variables are collinear\n",
      "  warnings.warn(\"Variables are collinear\")\n",
      "c:\\users\\rodri\\appdata\\local\\programs\\python\\python37\\lib\\site-packages\\sklearn\\discriminant_analysis.py:715: UserWarning: Variables are collinear\n",
      "  warnings.warn(\"Variables are collinear\")\n",
      "c:\\users\\rodri\\appdata\\local\\programs\\python\\python37\\lib\\site-packages\\sklearn\\discriminant_analysis.py:715: UserWarning: Variables are collinear\n",
      "  warnings.warn(\"Variables are collinear\")\n",
      "c:\\users\\rodri\\appdata\\local\\programs\\python\\python37\\lib\\site-packages\\sklearn\\discriminant_analysis.py:715: UserWarning: Variables are collinear\n",
      "  warnings.warn(\"Variables are collinear\")\n",
      "c:\\users\\rodri\\appdata\\local\\programs\\python\\python37\\lib\\site-packages\\sklearn\\discriminant_analysis.py:715: UserWarning: Variables are collinear\n",
      "  warnings.warn(\"Variables are collinear\")\n",
      "c:\\users\\rodri\\appdata\\local\\programs\\python\\python37\\lib\\site-packages\\sklearn\\discriminant_analysis.py:715: UserWarning: Variables are collinear\n",
      "  warnings.warn(\"Variables are collinear\")\n",
      "c:\\users\\rodri\\appdata\\local\\programs\\python\\python37\\lib\\site-packages\\sklearn\\discriminant_analysis.py:715: UserWarning: Variables are collinear\n",
      "  warnings.warn(\"Variables are collinear\")\n",
      "c:\\users\\rodri\\appdata\\local\\programs\\python\\python37\\lib\\site-packages\\sklearn\\discriminant_analysis.py:715: UserWarning: Variables are collinear\n",
      "  warnings.warn(\"Variables are collinear\")\n",
      "c:\\users\\rodri\\appdata\\local\\programs\\python\\python37\\lib\\site-packages\\sklearn\\discriminant_analysis.py:715: UserWarning: Variables are collinear\n",
      "  warnings.warn(\"Variables are collinear\")\n",
      "c:\\users\\rodri\\appdata\\local\\programs\\python\\python37\\lib\\site-packages\\sklearn\\discriminant_analysis.py:715: UserWarning: Variables are collinear\n",
      "  warnings.warn(\"Variables are collinear\")\n",
      "c:\\users\\rodri\\appdata\\local\\programs\\python\\python37\\lib\\site-packages\\sklearn\\discriminant_analysis.py:715: UserWarning: Variables are collinear\n",
      "  warnings.warn(\"Variables are collinear\")\n",
      "c:\\users\\rodri\\appdata\\local\\programs\\python\\python37\\lib\\site-packages\\sklearn\\discriminant_analysis.py:715: UserWarning: Variables are collinear\n",
      "  warnings.warn(\"Variables are collinear\")\n",
      "c:\\users\\rodri\\appdata\\local\\programs\\python\\python37\\lib\\site-packages\\sklearn\\discriminant_analysis.py:740: RuntimeWarning: invalid value encountered in power\n",
      "  X2 = np.dot(Xm, R * (S ** (-0.5)))\n",
      "c:\\users\\rodri\\appdata\\local\\programs\\python\\python37\\lib\\site-packages\\sklearn\\discriminant_analysis.py:743: RuntimeWarning: invalid value encountered in log\n",
      "  u = np.asarray([np.sum(np.log(s)) for s in self.scalings_])\n",
      "c:\\users\\rodri\\appdata\\local\\programs\\python\\python37\\lib\\site-packages\\sklearn\\discriminant_analysis.py:740: RuntimeWarning: invalid value encountered in power\n",
      "  X2 = np.dot(Xm, R * (S ** (-0.5)))\n",
      "c:\\users\\rodri\\appdata\\local\\programs\\python\\python37\\lib\\site-packages\\sklearn\\discriminant_analysis.py:743: RuntimeWarning: invalid value encountered in log\n",
      "  u = np.asarray([np.sum(np.log(s)) for s in self.scalings_])\n",
      "c:\\users\\rodri\\appdata\\local\\programs\\python\\python37\\lib\\site-packages\\sklearn\\discriminant_analysis.py:715: UserWarning: Variables are collinear\n",
      "  warnings.warn(\"Variables are collinear\")\n",
      "c:\\users\\rodri\\appdata\\local\\programs\\python\\python37\\lib\\site-packages\\sklearn\\discriminant_analysis.py:740: RuntimeWarning: invalid value encountered in power\n",
      "  X2 = np.dot(Xm, R * (S ** (-0.5)))\n",
      "c:\\users\\rodri\\appdata\\local\\programs\\python\\python37\\lib\\site-packages\\sklearn\\discriminant_analysis.py:743: RuntimeWarning: invalid value encountered in log\n",
      "  u = np.asarray([np.sum(np.log(s)) for s in self.scalings_])\n",
      "c:\\users\\rodri\\appdata\\local\\programs\\python\\python37\\lib\\site-packages\\sklearn\\discriminant_analysis.py:740: RuntimeWarning: invalid value encountered in power\n",
      "  X2 = np.dot(Xm, R * (S ** (-0.5)))\n",
      "c:\\users\\rodri\\appdata\\local\\programs\\python\\python37\\lib\\site-packages\\sklearn\\discriminant_analysis.py:743: RuntimeWarning: invalid value encountered in log\n",
      "  u = np.asarray([np.sum(np.log(s)) for s in self.scalings_])\n"
     ]
    },
    {
     "data": {
      "text/html": [
       "<div>\n",
       "<style scoped>\n",
       "    .dataframe tbody tr th:only-of-type {\n",
       "        vertical-align: middle;\n",
       "    }\n",
       "\n",
       "    .dataframe tbody tr th {\n",
       "        vertical-align: top;\n",
       "    }\n",
       "\n",
       "    .dataframe thead th {\n",
       "        text-align: right;\n",
       "    }\n",
       "</style>\n",
       "<table border=\"1\" class=\"dataframe\">\n",
       "  <thead>\n",
       "    <tr style=\"text-align: right;\">\n",
       "      <th></th>\n",
       "      <th>train accuracy</th>\n",
       "      <th>test accuracy</th>\n",
       "      <th>train accuracy</th>\n",
       "      <th>test accuracy</th>\n",
       "      <th>train accuracy</th>\n",
       "      <th>test accuracy</th>\n",
       "      <th>train accuracy</th>\n",
       "      <th>test accuracy</th>\n",
       "      <th>train accuracy</th>\n",
       "      <th>test accuracy</th>\n",
       "      <th>train accuracy</th>\n",
       "      <th>test accuracy</th>\n",
       "      <th>train accuracy</th>\n",
       "      <th>test accuracy</th>\n",
       "      <th>train accuracy</th>\n",
       "      <th>test accuracy</th>\n",
       "    </tr>\n",
       "  </thead>\n",
       "  <tbody>\n",
       "    <tr>\n",
       "      <th>lda_smote</th>\n",
       "      <td>0.776793</td>\n",
       "      <td>0.535714</td>\n",
       "      <td>0.776793</td>\n",
       "      <td>0.535714</td>\n",
       "      <td>0.776793</td>\n",
       "      <td>0.535714</td>\n",
       "      <td>0.776793</td>\n",
       "      <td>0.535714</td>\n",
       "      <td>0.776793</td>\n",
       "      <td>0.535714</td>\n",
       "      <td>0.776793</td>\n",
       "      <td>0.535714</td>\n",
       "      <td>0.776793</td>\n",
       "      <td>0.535714</td>\n",
       "      <td>0.776793</td>\n",
       "      <td>0.535714</td>\n",
       "    </tr>\n",
       "    <tr>\n",
       "      <th>qda_smote</th>\n",
       "      <td>0.957806</td>\n",
       "      <td>0.744048</td>\n",
       "      <td>0.957384</td>\n",
       "      <td>0.791667</td>\n",
       "      <td>0.956962</td>\n",
       "      <td>0.821429</td>\n",
       "      <td>0.954430</td>\n",
       "      <td>0.821429</td>\n",
       "      <td>0.927426</td>\n",
       "      <td>0.773810</td>\n",
       "      <td>0.841772</td>\n",
       "      <td>0.571429</td>\n",
       "      <td>0.662869</td>\n",
       "      <td>0.494048</td>\n",
       "      <td>0.166667</td>\n",
       "      <td>0.029762</td>\n",
       "    </tr>\n",
       "    <tr>\n",
       "      <th>lda</th>\n",
       "      <td>0.726866</td>\n",
       "      <td>0.642857</td>\n",
       "      <td>0.726866</td>\n",
       "      <td>0.642857</td>\n",
       "      <td>0.726866</td>\n",
       "      <td>0.642857</td>\n",
       "      <td>0.726866</td>\n",
       "      <td>0.642857</td>\n",
       "      <td>0.726866</td>\n",
       "      <td>0.642857</td>\n",
       "      <td>0.726866</td>\n",
       "      <td>0.642857</td>\n",
       "      <td>0.726866</td>\n",
       "      <td>0.642857</td>\n",
       "      <td>0.726866</td>\n",
       "      <td>0.642857</td>\n",
       "    </tr>\n",
       "    <tr>\n",
       "      <th>qda</th>\n",
       "      <td>0.886567</td>\n",
       "      <td>0.791667</td>\n",
       "      <td>0.885075</td>\n",
       "      <td>0.827381</td>\n",
       "      <td>0.879104</td>\n",
       "      <td>0.845238</td>\n",
       "      <td>0.874627</td>\n",
       "      <td>0.833333</td>\n",
       "      <td>0.819403</td>\n",
       "      <td>0.767857</td>\n",
       "      <td>0.685075</td>\n",
       "      <td>0.607143</td>\n",
       "      <td>0.680597</td>\n",
       "      <td>0.607143</td>\n",
       "      <td>0.014925</td>\n",
       "      <td>0.029762</td>\n",
       "    </tr>\n",
       "  </tbody>\n",
       "</table>\n",
       "</div>"
      ],
      "text/plain": [
       "           train accuracy  test accuracy  train accuracy  test accuracy  \\\n",
       "lda_smote        0.776793       0.535714        0.776793       0.535714   \n",
       "qda_smote        0.957806       0.744048        0.957384       0.791667   \n",
       "lda              0.726866       0.642857        0.726866       0.642857   \n",
       "qda              0.886567       0.791667        0.885075       0.827381   \n",
       "\n",
       "           train accuracy  test accuracy  train accuracy  test accuracy  \\\n",
       "lda_smote        0.776793       0.535714        0.776793       0.535714   \n",
       "qda_smote        0.956962       0.821429        0.954430       0.821429   \n",
       "lda              0.726866       0.642857        0.726866       0.642857   \n",
       "qda              0.879104       0.845238        0.874627       0.833333   \n",
       "\n",
       "           train accuracy  test accuracy  train accuracy  test accuracy  \\\n",
       "lda_smote        0.776793       0.535714        0.776793       0.535714   \n",
       "qda_smote        0.927426       0.773810        0.841772       0.571429   \n",
       "lda              0.726866       0.642857        0.726866       0.642857   \n",
       "qda              0.819403       0.767857        0.685075       0.607143   \n",
       "\n",
       "           train accuracy  test accuracy  train accuracy  test accuracy  \n",
       "lda_smote        0.776793       0.535714        0.776793       0.535714  \n",
       "qda_smote        0.662869       0.494048        0.166667       0.029762  \n",
       "lda              0.726866       0.642857        0.726866       0.642857  \n",
       "qda              0.680597       0.607143        0.014925       0.029762  "
      ]
     },
     "execution_count": 31,
     "metadata": {},
     "output_type": "execute_result"
    }
   ],
   "source": [
    "dfs = []\n",
    "for i in [0.0, 0.00001, 0.0001, 0.001, 0.01, 0.1, 1.0, 10.0]:\n",
    "    df, maxi = GDA(xs[0], ys[0], fulls[0], shrink='auto', reg=i)\n",
    "    dfs.append(df)\n",
    "pd.concat(dfs, axis=1)"
   ]
  },
  {
   "cell_type": "markdown",
   "metadata": {},
   "source": [
    "### LDA w/ Smote"
   ]
  },
  {
   "cell_type": "code",
   "execution_count": 17,
   "metadata": {
    "ExecuteTime": {
     "end_time": "2021-01-31T00:35:50.763618Z",
     "start_time": "2021-01-31T00:35:50.739211Z"
    }
   },
   "outputs": [],
   "source": [
    "X_train, Y_train, X_val, Y_val, X_test, Y_test = data_split(scl_X, enc_Y, full, split=[0.8, 0.0],smote=True)"
   ]
  },
  {
   "cell_type": "code",
   "execution_count": 18,
   "metadata": {
    "ExecuteTime": {
     "end_time": "2021-01-31T00:35:53.649273Z",
     "start_time": "2021-01-31T00:35:53.594957Z"
    }
   },
   "outputs": [
    {
     "name": "stdout",
     "output_type": "stream",
     "text": [
      "              precision    recall  f1-score   support\n",
      "\n",
      "           1       0.91      0.92      0.91       395\n",
      "           2       0.68      0.64      0.66       395\n",
      "           3       0.73      0.52      0.61       395\n",
      "           4       0.74      0.91      0.81       395\n",
      "           5       0.92      0.96      0.94       395\n",
      "           6       0.89      0.96      0.92       395\n",
      "\n",
      "    accuracy                           0.82      2370\n",
      "   macro avg       0.81      0.82      0.81      2370\n",
      "weighted avg       0.81      0.82      0.81      2370\n",
      "\n"
     ]
    },
    {
     "data": {
      "text/plain": [
       "0.8172995780590717"
      ]
     },
     "execution_count": 18,
     "metadata": {},
     "output_type": "execute_result"
    }
   ],
   "source": [
    "## TRAIN ACCURACY\n",
    "lda = LinearDiscriminantAnalysis()\n",
    "\n",
    "lda.fit(X_train, Y_train)\n",
    "# preds_test = lda.predict(X_test)\n",
    "preds_train = lda.predict(X_train)\n",
    "print(classification_report(Y_train, preds_train))\n",
    "# print(classification_report(Y_test, preds_test))\n",
    "np.mean(Y_train == preds_train)\n",
    "# np.mean(Y_test == preds_test)"
   ]
  },
  {
   "cell_type": "code",
   "execution_count": 15,
   "metadata": {
    "ExecuteTime": {
     "end_time": "2021-01-31T00:35:37.676668Z",
     "start_time": "2021-01-31T00:35:37.616400Z"
    }
   },
   "outputs": [
    {
     "name": "stdout",
     "output_type": "stream",
     "text": [
      "              precision    recall  f1-score   support\n",
      "\n",
      "           1       0.22      0.67      0.33         3\n",
      "           2       0.61      0.55      0.58        20\n",
      "           3       0.82      0.28      0.42        50\n",
      "           4       0.20      1.00      0.33         3\n",
      "           5       0.45      1.00      0.62         5\n",
      "           6       0.14      0.67      0.24         3\n",
      "\n",
      "    accuracy                           0.44        84\n",
      "   macro avg       0.41      0.69      0.42        84\n",
      "weighted avg       0.68      0.44      0.46        84\n",
      "\n"
     ]
    },
    {
     "data": {
      "text/plain": [
       "3    50\n",
       "2    20\n",
       "5     5\n",
       "6     3\n",
       "4     3\n",
       "1     3\n",
       "dtype: int64"
      ]
     },
     "execution_count": 15,
     "metadata": {},
     "output_type": "execute_result"
    }
   ],
   "source": [
    "X_train, Y_train, X_val, Y_val, X_test, Y_test = data_split(scl_X, enc_Y, full, split=[0.7, 0.1],smote=True)\n",
    "\n",
    "lda = LinearDiscriminantAnalysis()\n",
    "\n",
    "lda.fit(X_train, Y_train)\n",
    "# preds_test = lda.predict(X_test)\n",
    "preds_train = lda.predict(X_val)\n",
    "print(classification_report(Y_val, preds_train))\n",
    "# print(classification_report(Y_test, preds_test))\n",
    "np.mean(Y_val == preds_train)\n",
    "pd.Series(Y_val).value_counts()"
   ]
  },
  {
   "cell_type": "code",
   "execution_count": 158,
   "metadata": {
    "ExecuteTime": {
     "end_time": "2021-01-30T22:54:07.997169Z",
     "start_time": "2021-01-30T22:54:07.850571Z"
    }
   },
   "outputs": [
    {
     "name": "stdout",
     "output_type": "stream",
     "text": [
      "LDA Mean Accuracy (Stratified): 0.811 (0.010)\n",
      "LDA Mean Accuracy: 0.809 (0.007)\n"
     ]
    }
   ],
   "source": [
    "## VALIDATION ACCURACY USING CV\n",
    "## Getting abnormally high accuracy compared to Test bc DISTRIBUTION is different\n",
    "## CV is using Train data that has SMOTE, so has different dist. of Y compared to test\n",
    "## the vals have same dist. as train when doing CV on the train itself\n",
    "lda = LinearDiscriminantAnalysis()\n",
    "cv = RepeatedStratifiedKFold(n_splits=3, n_repeats=3, random_state=1)\n",
    "scores = cross_val_score(lda, X_train, Y_train, scoring='accuracy', cv=cv, n_jobs=-1)\n",
    "scores1 = cross_val_score(lda, X_train, Y_train, scoring='accuracy', n_jobs=-1)\n",
    "# scores1 = cross_val_score(qda, scl_x, Y_emb, scoring='accuracy', cv=cv, n_jobs=-1)\n",
    "# summarize result\n",
    "print('LDA Mean Accuracy (Stratified): %.3f (%.3f)' % (np.mean(scores), np.std(scores)))\n",
    "print('LDA Mean Accuracy: %.3f (%.3f)' % (np.mean(scores1), np.std(scores1)))\n",
    "\n",
    "# print('QDA Mean Accuracy: %.3f (%.3f)' % (np.mean(scores1), np.std(scores1)))"
   ]
  },
  {
   "cell_type": "code",
   "execution_count": 19,
   "metadata": {
    "ExecuteTime": {
     "end_time": "2021-01-31T00:35:57.153314Z",
     "start_time": "2021-01-31T00:35:57.104382Z"
    }
   },
   "outputs": [
    {
     "name": "stdout",
     "output_type": "stream",
     "text": [
      "              precision    recall  f1-score   support\n",
      "\n",
      "           1       0.19      0.60      0.29         5\n",
      "           2       0.45      0.60      0.51        35\n",
      "           3       0.82      0.42      0.55       101\n",
      "           4       0.24      0.75      0.36         8\n",
      "           5       0.64      0.88      0.74         8\n",
      "           6       0.39      0.64      0.48        11\n",
      "\n",
      "    accuracy                           0.51       168\n",
      "   macro avg       0.45      0.65      0.49       168\n",
      "weighted avg       0.66      0.51      0.53       168\n",
      "\n"
     ]
    },
    {
     "data": {
      "text/plain": [
       "0.5119047619047619"
      ]
     },
     "execution_count": 19,
     "metadata": {},
     "output_type": "execute_result"
    }
   ],
   "source": [
    "## TEST ACCURACY\n",
    "lda = LinearDiscriminantAnalysis()\n",
    "lda.fit(X_train, Y_train)\n",
    "preds_test = lda.predict(X_test)\n",
    "print(classification_report(Y_test, preds_test))\n",
    "np.mean(Y_test == preds_test)"
   ]
  },
  {
   "cell_type": "markdown",
   "metadata": {},
   "source": [
    "### LDA w/o SMOTE"
   ]
  },
  {
   "cell_type": "code",
   "execution_count": 135,
   "metadata": {
    "ExecuteTime": {
     "end_time": "2021-01-30T22:43:55.566220Z",
     "start_time": "2021-01-30T22:43:55.553965Z"
    }
   },
   "outputs": [],
   "source": [
    "X_train, Y_train, X_val, Y_val, X_test, Y_test = data_split(scl_X, enc_Y, full, split=[0.8, 0.0],smote=False, seed=200)"
   ]
  },
  {
   "cell_type": "code",
   "execution_count": 136,
   "metadata": {
    "ExecuteTime": {
     "end_time": "2021-01-30T22:43:57.353367Z",
     "start_time": "2021-01-30T22:43:57.311941Z"
    }
   },
   "outputs": [
    {
     "name": "stdout",
     "output_type": "stream",
     "text": [
      "              precision    recall  f1-score   support\n",
      "\n",
      "           1       0.57      0.73      0.64        11\n",
      "           2       0.71      0.46      0.56       153\n",
      "           3       0.81      0.91      0.85       405\n",
      "           4       0.47      0.48      0.47        29\n",
      "           5       0.72      0.92      0.81        37\n",
      "           6       0.88      0.60      0.71        35\n",
      "\n",
      "    accuracy                           0.77       670\n",
      "   macro avg       0.69      0.68      0.68       670\n",
      "weighted avg       0.76      0.77      0.76       670\n",
      "\n"
     ]
    },
    {
     "data": {
      "text/plain": [
       "0.7686567164179104"
      ]
     },
     "execution_count": 136,
     "metadata": {},
     "output_type": "execute_result"
    }
   ],
   "source": [
    "## TRAIN ACCURACY\n",
    "lda = LinearDiscriminantAnalysis()\n",
    "\n",
    "lda.fit(X_train, Y_train)\n",
    "# preds_test = lda.predict(X_test)\n",
    "preds_train = lda.predict(X_train)\n",
    "print(classification_report(Y_train, preds_train))\n",
    "# print(classification_report(Y_test, preds_test))\n",
    "np.mean(Y_train == preds_train)\n",
    "# np.mean(Y_test == preds_test)"
   ]
  },
  {
   "cell_type": "code",
   "execution_count": null,
   "metadata": {},
   "outputs": [],
   "source": [
    "## Raw Validation w/o CV\n",
    "# X_train, Y_train, X_val, Y_val, X_test, Y_test = data_split(scl_X, enc_Y, full, split=[0.7, 0.1],smote=True)\n",
    "\n",
    "# lda = LinearDiscriminantAnalysis()\n",
    "\n",
    "# lda.fit(X_train, Y_train)\n",
    "# # preds_test = lda.predict(X_test)\n",
    "# preds_train = lda.predict(X_val)\n",
    "# print(classification_report(Y_val, preds_train))\n",
    "# # print(classification_report(Y_test, preds_test))\n",
    "# np.mean(Y_val == preds_train)\n",
    "# pd.Series(Y_val).value_counts()"
   ]
  },
  {
   "cell_type": "code",
   "execution_count": 157,
   "metadata": {
    "ExecuteTime": {
     "end_time": "2021-01-30T22:54:01.211058Z",
     "start_time": "2021-01-30T22:54:01.058582Z"
    }
   },
   "outputs": [
    {
     "name": "stdout",
     "output_type": "stream",
     "text": [
      "LDA Mean Accuracy (Stratified): 0.811 (0.010)\n",
      "LDA Mean Accuracy: 0.809 (0.007)\n"
     ]
    }
   ],
   "source": [
    "## VALIDATION ACCURACY USING CV\n",
    "\n",
    "lda = LinearDiscriminantAnalysis()\n",
    "cv = RepeatedStratifiedKFold(n_splits=3, n_repeats=3, random_state=1)\n",
    "scores = cross_val_score(lda, X_train, Y_train, scoring='accuracy', cv=cv, n_jobs=-1)\n",
    "scores1 = cross_val_score(lda, X_train, Y_train, scoring='accuracy', n_jobs=-1)\n",
    "# scores1 = cross_val_score(qda, scl_x, Y_emb, scoring='accuracy', cv=cv, n_jobs=-1)\n",
    "# summarize result\n",
    "print('LDA Mean Accuracy (Stratified): %.3f (%.3f)' % (np.mean(scores), np.std(scores)))\n",
    "print('LDA Mean Accuracy: %.3f (%.3f)' % (np.mean(scores1), np.std(scores1)))\n",
    "\n",
    "# print('QDA Mean Accuracy: %.3f (%.3f)' % (np.mean(scores1), np.std(scores1)))"
   ]
  },
  {
   "cell_type": "code",
   "execution_count": 138,
   "metadata": {
    "ExecuteTime": {
     "end_time": "2021-01-30T22:44:00.974980Z",
     "start_time": "2021-01-30T22:44:00.938009Z"
    }
   },
   "outputs": [
    {
     "name": "stdout",
     "output_type": "stream",
     "text": [
      "              precision    recall  f1-score   support\n",
      "\n",
      "           1       0.20      0.25      0.22         4\n",
      "           2       0.67      0.47      0.55        43\n",
      "           3       0.76      0.90      0.82        91\n",
      "           4       0.50      0.36      0.42        14\n",
      "           5       1.00      1.00      1.00        10\n",
      "           6       1.00      0.83      0.91         6\n",
      "\n",
      "    accuracy                           0.73       168\n",
      "   macro avg       0.69      0.63      0.65       168\n",
      "weighted avg       0.72      0.73      0.72       168\n",
      "\n"
     ]
    },
    {
     "data": {
      "text/plain": [
       "0.7321428571428571"
      ]
     },
     "execution_count": 138,
     "metadata": {},
     "output_type": "execute_result"
    }
   ],
   "source": [
    "## TEST ACCURACY\n",
    "lda = LinearDiscriminantAnalysis()\n",
    "lda.fit(X_train, Y_train)\n",
    "preds_test = lda.predict(X_test)\n",
    "print(classification_report(Y_test, preds_test))\n",
    "np.mean(Y_test == preds_test)"
   ]
  },
  {
   "cell_type": "markdown",
   "metadata": {},
   "source": [
    "### QDA w/ SMOTE"
   ]
  },
  {
   "cell_type": "code",
   "execution_count": 140,
   "metadata": {
    "ExecuteTime": {
     "end_time": "2021-01-30T22:45:39.204876Z",
     "start_time": "2021-01-30T22:45:39.182939Z"
    }
   },
   "outputs": [],
   "source": [
    "X_train, Y_train, X_val, Y_val, X_test, Y_test = data_split(scl_X, enc_Y, full, split=[0.8, 0.0],smote=True)"
   ]
  },
  {
   "cell_type": "code",
   "execution_count": 153,
   "metadata": {
    "ExecuteTime": {
     "end_time": "2021-01-30T22:52:56.009341Z",
     "start_time": "2021-01-30T22:52:55.954822Z"
    }
   },
   "outputs": [
    {
     "name": "stdout",
     "output_type": "stream",
     "text": [
      "              precision    recall  f1-score   support\n",
      "\n",
      "           1       1.00      1.00      1.00       395\n",
      "           2       0.86      0.90      0.88       395\n",
      "           3       0.89      0.86      0.87       395\n",
      "           4       1.00      0.99      1.00       395\n",
      "           5       1.00      1.00      1.00       395\n",
      "           6       1.00      1.00      1.00       395\n",
      "\n",
      "    accuracy                           0.96      2370\n",
      "   macro avg       0.96      0.96      0.96      2370\n",
      "weighted avg       0.96      0.96      0.96      2370\n",
      "\n"
     ]
    },
    {
     "name": "stderr",
     "output_type": "stream",
     "text": [
      "c:\\users\\rodri\\appdata\\local\\programs\\python\\python37\\lib\\site-packages\\sklearn\\discriminant_analysis.py:715: UserWarning: Variables are collinear\n",
      "  warnings.warn(\"Variables are collinear\")\n"
     ]
    },
    {
     "data": {
      "text/plain": [
       "0.9578059071729957"
      ]
     },
     "execution_count": 153,
     "metadata": {},
     "output_type": "execute_result"
    }
   ],
   "source": [
    "qda = QuadraticDiscriminantAnalysis()\n",
    "\n",
    "qda.fit(X_train, Y_train)\n",
    "\n",
    "preds_train = qda.predict(X_train)\n",
    "print(classification_report(Y_train, preds_train))\n",
    "np.mean(Y_train == preds_train)\n"
   ]
  },
  {
   "cell_type": "code",
   "execution_count": 156,
   "metadata": {
    "ExecuteTime": {
     "end_time": "2021-01-30T22:53:52.825919Z",
     "start_time": "2021-01-30T22:53:52.631535Z"
    }
   },
   "outputs": [
    {
     "name": "stdout",
     "output_type": "stream",
     "text": [
      "QDA Mean Accuracy (Stratified): 0.944 (0.012)\n",
      "QDA Mean Accuracy: 0.942 (0.017)\n"
     ]
    }
   ],
   "source": [
    "## VALIDATION ACCURACY USING CV\n",
    "qda_cv = QuadraticDiscriminantAnalysis()\n",
    "cv = RepeatedStratifiedKFold(n_splits=3, n_repeats=3, random_state=1)\n",
    "scores = cross_val_score(qda_cv, X_train, Y_train, scoring='accuracy', cv=cv, n_jobs=-1)\n",
    "scores1 = cross_val_score(qda_cv, X_train, Y_train, scoring='accuracy', n_jobs=-1)\n",
    "# scores1 = cross_val_score(qda, scl_x, Y_emb, scoring='accuracy', cv=cv, n_jobs=-1)\n",
    "# summarize result\n",
    "print('QDA Mean Accuracy (Stratified): %.3f (%.3f)' % (np.mean(scores), np.std(scores)))\n",
    "print('QDA Mean Accuracy: %.3f (%.3f)' % (np.mean(scores1), np.std(scores1)))\n",
    "\n",
    "# print('QDA Mean Accuracy: %.3f (%.3f)' % (np.mean(scores1), np.std(scores1)))"
   ]
  },
  {
   "cell_type": "code",
   "execution_count": 154,
   "metadata": {
    "ExecuteTime": {
     "end_time": "2021-01-30T22:52:59.792400Z",
     "start_time": "2021-01-30T22:52:59.770457Z"
    },
    "scrolled": false
   },
   "outputs": [
    {
     "name": "stdout",
     "output_type": "stream",
     "text": [
      "              precision    recall  f1-score   support\n",
      "\n",
      "           1       0.00      0.00      0.00         5\n",
      "           2       0.60      0.77      0.68        35\n",
      "           3       0.77      0.84      0.81       101\n",
      "           4       1.00      0.62      0.77         8\n",
      "           5       1.00      0.25      0.40         8\n",
      "           6       1.00      0.55      0.71        11\n",
      "\n",
      "    accuracy                           0.74       168\n",
      "   macro avg       0.73      0.51      0.56       168\n",
      "weighted avg       0.75      0.74      0.73       168\n",
      "\n"
     ]
    },
    {
     "name": "stderr",
     "output_type": "stream",
     "text": [
      "c:\\users\\rodri\\appdata\\local\\programs\\python\\python37\\lib\\site-packages\\sklearn\\metrics\\_classification.py:1221: UndefinedMetricWarning: Precision and F-score are ill-defined and being set to 0.0 in labels with no predicted samples. Use `zero_division` parameter to control this behavior.\n",
      "  _warn_prf(average, modifier, msg_start, len(result))\n"
     ]
    },
    {
     "data": {
      "text/plain": [
       "0.7440476190476191"
      ]
     },
     "execution_count": 154,
     "metadata": {},
     "output_type": "execute_result"
    }
   ],
   "source": [
    "preds_test = qda.predict(X_test)\n",
    "print(classification_report(Y_test, preds_test))\n",
    "np.mean(Y_test == preds_test)"
   ]
  },
  {
   "cell_type": "code",
   "execution_count": null,
   "metadata": {},
   "outputs": [],
   "source": []
  },
  {
   "cell_type": "code",
   "execution_count": 7,
   "metadata": {
    "ExecuteTime": {
     "end_time": "2021-01-30T23:18:19.098263Z",
     "start_time": "2021-01-30T23:18:19.089409Z"
    }
   },
   "outputs": [],
   "source": [
    "X_train, Y_train, X_val, Y_val, X_test, Y_test = data_split(scl_X, enc_Y, full, split=[0.8, 0.0])"
   ]
  },
  {
   "cell_type": "code",
   "execution_count": 11,
   "metadata": {
    "ExecuteTime": {
     "end_time": "2021-01-30T23:18:44.501358Z",
     "start_time": "2021-01-30T23:18:44.460942Z"
    }
   },
   "outputs": [
    {
     "name": "stdout",
     "output_type": "stream",
     "text": [
      "              precision    recall  f1-score   support\n",
      "\n",
      "           1       1.00      1.00      1.00        10\n",
      "           2       0.78      0.73      0.76       161\n",
      "           3       0.89      0.92      0.91       395\n",
      "           4       1.00      1.00      1.00        35\n",
      "           5       1.00      1.00      1.00        39\n",
      "           6       1.00      1.00      1.00        30\n",
      "\n",
      "    accuracy                           0.89       670\n",
      "   macro avg       0.95      0.94      0.94       670\n",
      "weighted avg       0.88      0.89      0.89       670\n",
      "\n"
     ]
    },
    {
     "name": "stderr",
     "output_type": "stream",
     "text": [
      "c:\\users\\rodri\\appdata\\local\\programs\\python\\python37\\lib\\site-packages\\sklearn\\discriminant_analysis.py:715: UserWarning: Variables are collinear\n",
      "  warnings.warn(\"Variables are collinear\")\n"
     ]
    },
    {
     "data": {
      "text/plain": [
       "0.8865671641791045"
      ]
     },
     "execution_count": 11,
     "metadata": {},
     "output_type": "execute_result"
    }
   ],
   "source": [
    "qda = QuadraticDiscriminantAnalysis()\n",
    "\n",
    "qda.fit(X_train, Y_train)\n",
    "\n",
    "preds_train = qda.predict(X_train)\n",
    "print(classification_report(Y_train, preds_train))\n",
    "np.mean(Y_train == preds_train)"
   ]
  },
  {
   "cell_type": "code",
   "execution_count": 12,
   "metadata": {
    "ExecuteTime": {
     "end_time": "2021-01-30T23:18:46.786696Z",
     "start_time": "2021-01-30T23:18:46.577137Z"
    }
   },
   "outputs": [
    {
     "name": "stdout",
     "output_type": "stream",
     "text": [
      "QDA Mean Accuracy (Stratified): 0.720 (0.031)\n",
      "QDA Mean Accuracy: 0.778 (0.043)\n"
     ]
    }
   ],
   "source": [
    "## VALIDATION ACCURACY USING CV\n",
    "qda_cv = QuadraticDiscriminantAnalysis()\n",
    "cv = RepeatedStratifiedKFold(n_splits=3, n_repeats=3, random_state=1)\n",
    "scores = cross_val_score(qda_cv, X_train, Y_train, scoring='accuracy', cv=cv, n_jobs=-1)\n",
    "scores1 = cross_val_score(qda_cv, X_train, Y_train, scoring='accuracy', n_jobs=-1)\n",
    "# scores1 = cross_val_score(qda, scl_x, Y_emb, scoring='accuracy', cv=cv, n_jobs=-1)\n",
    "# summarize result\n",
    "print('QDA Mean Accuracy (Stratified): %.3f (%.3f)' % (np.mean(scores), np.std(scores)))\n",
    "print('QDA Mean Accuracy: %.3f (%.3f)' % (np.mean(scores1), np.std(scores1)))\n",
    "\n",
    "# print('QDA Mean Accuracy: %.3f (%.3f)' % (np.mean(scores1), np.std(scores1)))"
   ]
  },
  {
   "cell_type": "code",
   "execution_count": 13,
   "metadata": {
    "ExecuteTime": {
     "end_time": "2021-01-30T23:18:48.643564Z",
     "start_time": "2021-01-30T23:18:48.617559Z"
    }
   },
   "outputs": [
    {
     "name": "stdout",
     "output_type": "stream",
     "text": [
      "              precision    recall  f1-score   support\n",
      "\n",
      "           1       0.00      0.00      0.00         5\n",
      "           2       0.73      0.54      0.62        35\n",
      "           3       0.77      0.95      0.85       101\n",
      "           4       1.00      0.75      0.86         8\n",
      "           5       1.00      0.62      0.77         8\n",
      "           6       1.00      0.64      0.78        11\n",
      "\n",
      "    accuracy                           0.79       168\n",
      "   macro avg       0.75      0.58      0.65       168\n",
      "weighted avg       0.78      0.79      0.77       168\n",
      "\n"
     ]
    },
    {
     "name": "stderr",
     "output_type": "stream",
     "text": [
      "c:\\users\\rodri\\appdata\\local\\programs\\python\\python37\\lib\\site-packages\\sklearn\\metrics\\_classification.py:1221: UndefinedMetricWarning: Precision and F-score are ill-defined and being set to 0.0 in labels with no predicted samples. Use `zero_division` parameter to control this behavior.\n",
      "  _warn_prf(average, modifier, msg_start, len(result))\n"
     ]
    },
    {
     "data": {
      "text/plain": [
       "0.7916666666666666"
      ]
     },
     "execution_count": 13,
     "metadata": {},
     "output_type": "execute_result"
    }
   ],
   "source": [
    "preds_test = qda.predict(X_test)\n",
    "print(classification_report(Y_test, preds_test))\n",
    "np.mean(Y_test == preds_test)"
   ]
  },
  {
   "cell_type": "code",
   "execution_count": null,
   "metadata": {},
   "outputs": [],
   "source": []
  },
  {
   "cell_type": "code",
   "execution_count": null,
   "metadata": {},
   "outputs": [],
   "source": []
  },
  {
   "cell_type": "code",
   "execution_count": null,
   "metadata": {},
   "outputs": [],
   "source": []
  },
  {
   "cell_type": "code",
   "execution_count": null,
   "metadata": {},
   "outputs": [],
   "source": []
  },
  {
   "cell_type": "code",
   "execution_count": 8,
   "metadata": {
    "ExecuteTime": {
     "end_time": "2021-01-30T05:50:38.809984Z",
     "start_time": "2021-01-30T05:50:38.567310Z"
    }
   },
   "outputs": [
    {
     "ename": "NameError",
     "evalue": "name 'cca_df' is not defined",
     "output_type": "error",
     "traceback": [
      "\u001b[1;31m---------------------------------------------------------------------------\u001b[0m",
      "\u001b[1;31mNameError\u001b[0m                                 Traceback (most recent call last)",
      "\u001b[1;32m<ipython-input-8-b629e096d248>\u001b[0m in \u001b[0;36m<module>\u001b[1;34m\u001b[0m\n\u001b[0;32m      3\u001b[0m \u001b[0mcv\u001b[0m \u001b[1;33m=\u001b[0m \u001b[0mRepeatedStratifiedKFold\u001b[0m\u001b[1;33m(\u001b[0m\u001b[0mn_splits\u001b[0m\u001b[1;33m=\u001b[0m\u001b[1;36m3\u001b[0m\u001b[1;33m,\u001b[0m \u001b[0mn_repeats\u001b[0m\u001b[1;33m=\u001b[0m\u001b[1;36m3\u001b[0m\u001b[1;33m,\u001b[0m \u001b[0mrandom_state\u001b[0m\u001b[1;33m=\u001b[0m\u001b[1;36m1\u001b[0m\u001b[1;33m)\u001b[0m\u001b[1;33m\u001b[0m\u001b[0m\n\u001b[0;32m      4\u001b[0m \u001b[1;31m# evaluate model\u001b[0m\u001b[1;33m\u001b[0m\u001b[1;33m\u001b[0m\u001b[0m\n\u001b[1;32m----> 5\u001b[1;33m \u001b[0mscores\u001b[0m \u001b[1;33m=\u001b[0m \u001b[0mcross_val_score\u001b[0m\u001b[1;33m(\u001b[0m\u001b[0mlda\u001b[0m\u001b[1;33m,\u001b[0m \u001b[0mcca_df\u001b[0m\u001b[1;33m[\u001b[0m\u001b[1;33m[\u001b[0m\u001b[1;34m'CVX1'\u001b[0m\u001b[1;33m,\u001b[0m \u001b[1;34m'CVX2'\u001b[0m\u001b[1;33m]\u001b[0m\u001b[1;33m]\u001b[0m\u001b[1;33m,\u001b[0m \u001b[0mcca_df\u001b[0m\u001b[1;33m[\u001b[0m\u001b[1;34m'Y'\u001b[0m\u001b[1;33m]\u001b[0m\u001b[1;33m,\u001b[0m \u001b[0mscoring\u001b[0m\u001b[1;33m=\u001b[0m\u001b[1;34m'accuracy'\u001b[0m\u001b[1;33m,\u001b[0m \u001b[0mcv\u001b[0m\u001b[1;33m=\u001b[0m\u001b[0mcv\u001b[0m\u001b[1;33m,\u001b[0m \u001b[0mn_jobs\u001b[0m\u001b[1;33m=\u001b[0m\u001b[1;33m-\u001b[0m\u001b[1;36m1\u001b[0m\u001b[1;33m)\u001b[0m\u001b[1;33m\u001b[0m\u001b[0m\n\u001b[0m\u001b[0;32m      6\u001b[0m \u001b[0mscores1\u001b[0m \u001b[1;33m=\u001b[0m \u001b[0mcross_val_score\u001b[0m\u001b[1;33m(\u001b[0m\u001b[0mqda\u001b[0m\u001b[1;33m,\u001b[0m \u001b[0mcca_df\u001b[0m\u001b[1;33m[\u001b[0m\u001b[1;33m[\u001b[0m\u001b[1;34m'CVX1'\u001b[0m\u001b[1;33m,\u001b[0m \u001b[1;34m'CVX2'\u001b[0m\u001b[1;33m]\u001b[0m\u001b[1;33m]\u001b[0m\u001b[1;33m,\u001b[0m \u001b[0mcca_df\u001b[0m\u001b[1;33m[\u001b[0m\u001b[1;34m'Y'\u001b[0m\u001b[1;33m]\u001b[0m\u001b[1;33m,\u001b[0m \u001b[0mscoring\u001b[0m\u001b[1;33m=\u001b[0m\u001b[1;34m'accuracy'\u001b[0m\u001b[1;33m,\u001b[0m \u001b[0mcv\u001b[0m\u001b[1;33m=\u001b[0m\u001b[0mcv\u001b[0m\u001b[1;33m,\u001b[0m \u001b[0mn_jobs\u001b[0m\u001b[1;33m=\u001b[0m\u001b[1;33m-\u001b[0m\u001b[1;36m1\u001b[0m\u001b[1;33m)\u001b[0m\u001b[1;33m\u001b[0m\u001b[0m\n\u001b[0;32m      7\u001b[0m \u001b[1;33m\u001b[0m\u001b[0m\n",
      "\u001b[1;31mNameError\u001b[0m: name 'cca_df' is not defined"
     ]
    }
   ],
   "source": [
    "\n",
    "\n",
    "# evaluate model\n",
    "scores = cross_val_score(lda, cca_df[['CVX1', 'CVX2']], cca_df['Y'], scoring='accuracy', cv=cv, n_jobs=-1)\n",
    "scores1 = cross_val_score(qda, cca_df[['CVX1', 'CVX2']], cca_df['Y'], scoring='accuracy', cv=cv, n_jobs=-1)\n",
    "\n",
    "print('LDA Mean Accuracy: %.3f (%.3f)' % (np.mean(scores), np.std(scores)))\n",
    "print('QDA Mean Accuracy: %.3f (%.3f)' % (np.mean(scores1), np.std(scores1)))\n",
    "\n",
    "scores = cross_val_score(lda, scl_x, Y_emb, scoring='accuracy', cv=cv, n_jobs=-1)\n",
    "scores1 = cross_val_score(qda, scl_x, Y_emb, scoring='accuracy', cv=cv, n_jobs=-1)\n",
    "# summarize result\n",
    "print('LDA Mean Accuracy: %.3f (%.3f)' % (np.mean(scores), np.std(scores)))\n",
    "print('QDA Mean Accuracy: %.3f (%.3f)' % (np.mean(scores1), np.std(scores1)))\n",
    "\n",
    "scores = cross_val_score(lda, smote_x, smote_y, scoring='accuracy', cv=cv, n_jobs=-1)\n",
    "scores1 = cross_val_score(qda, smote_x, smote_y, scoring='accuracy', cv=cv, n_jobs=-1)\n",
    "# summarize result\n",
    "print('LDA Mean Accuracy: %.3f (%.3f)' % (np.mean(scores), np.std(scores)))\n",
    "print('QDA Mean Accuracy: %.3f (%.3f)' % (np.mean(scores1), np.std(scores1)))"
   ]
  },
  {
   "cell_type": "code",
   "execution_count": null,
   "metadata": {},
   "outputs": [],
   "source": [
    "qda = QuadraticDiscriminantAnalysis()"
   ]
  }
 ],
 "metadata": {
  "kernelspec": {
   "display_name": "Python 3",
   "language": "python",
   "name": "python3"
  },
  "language_info": {
   "codemirror_mode": {
    "name": "ipython",
    "version": 3
   },
   "file_extension": ".py",
   "mimetype": "text/x-python",
   "name": "python",
   "nbconvert_exporter": "python",
   "pygments_lexer": "ipython3",
   "version": "3.7.0"
  },
  "toc": {
   "base_numbering": 1,
   "nav_menu": {},
   "number_sections": true,
   "sideBar": true,
   "skip_h1_title": false,
   "title_cell": "Table of Contents",
   "title_sidebar": "Contents",
   "toc_cell": false,
   "toc_position": {},
   "toc_section_display": true,
   "toc_window_display": false
  }
 },
 "nbformat": 4,
 "nbformat_minor": 4
}
