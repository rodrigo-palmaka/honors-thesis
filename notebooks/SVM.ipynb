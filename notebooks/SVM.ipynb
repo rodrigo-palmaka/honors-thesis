{
 "cells": [
  {
   "cell_type": "code",
   "execution_count": 1,
   "metadata": {
    "ExecuteTime": {
     "end_time": "2021-02-01T05:21:37.020422Z",
     "start_time": "2021-02-01T05:21:34.449426Z"
    }
   },
   "outputs": [],
   "source": [
    "import pandas as pd\n",
    "import numpy as np\n",
    "import matplotlib.pyplot as plt\n",
    "# from mpl_toolkits.mplot3d import axes3d  \n",
    "import seaborn as sns\n",
    "from scipy import stats\n",
    "\n",
    "from sklearn.preprocessing import MinMaxScaler, StandardScaler\n",
    "from sklearn.decomposition import PCA\n",
    "\n",
    "from sklearn.metrics import plot_confusion_matrix\n",
    "from sklearn.metrics import classification_report\n",
    "from sklearn import svm\n",
    "import random\n",
    "from imblearn.over_sampling import SMOTE\n",
    "from EDA_helper import *\n",
    "from sklearn.model_selection import cross_val_score\n",
    "from sklearn.model_selection import RepeatedStratifiedKFold\n",
    "from sklearn.discriminant_analysis import LinearDiscriminantAnalysis, QuadraticDiscriminantAnalysis\n",
    "from sklearn.feature_selection import RFE, RFECV\n",
    "from sklearn.model_selection import train_test_split\n",
    "from sklearn.model_selection import GridSearchCV"
   ]
  },
  {
   "cell_type": "code",
   "execution_count": 2,
   "metadata": {
    "ExecuteTime": {
     "end_time": "2021-02-01T05:21:40.859568Z",
     "start_time": "2021-02-01T05:21:37.027405Z"
    }
   },
   "outputs": [
    {
     "name": "stdout",
     "output_type": "stream",
     "text": [
      "Unique Companies in Ratings:  88\n",
      "Unique Companies in Features:  42\n",
      "Intersection of companies:  26\n"
     ]
    }
   ],
   "source": [
    "ratings = pd.read_excel(\"../datasets/ratings_2_06-17.xlsx\")\n",
    "ratio = pd.read_excel(\"../datasets/ratio_figs_2.xlsx\")\n",
    "ratio = ratio.rename(columns = {'Public Date':'Data Date','EXCHANGE TICKER SYMBOL - HISTORICAL':'Ticker Symbol'})\n",
    "\n",
    "\n",
    "ratio1, ratings1 = format_df(ratio.copy(), ratings.copy(), ['Trailing P/E to Growth (PEG) ratio','Dividend Yield'])\n",
    "numer = list(ratio1.columns[4:-1])\n",
    "X1,Y1,full1 = join_numerical(ratio1, ratings1, numerical=numer)"
   ]
  },
  {
   "cell_type": "code",
   "execution_count": 11,
   "metadata": {
    "ExecuteTime": {
     "end_time": "2021-02-01T05:29:53.791162Z",
     "start_time": "2021-02-01T05:29:53.770957Z"
    }
   },
   "outputs": [],
   "source": [
    "scl_X = StandardScaler().fit_transform(X1)\n",
    "enc_Y, _ = encode(Y1, form='full')\n",
    "# enc_Y = Y1.T[0]"
   ]
  },
  {
   "cell_type": "code",
   "execution_count": null,
   "metadata": {
    "ExecuteTime": {
     "end_time": "2021-02-01T00:26:01.320867Z",
     "start_time": "2021-02-01T00:26:01.170065Z"
    }
   },
   "outputs": [],
   "source": []
  },
  {
   "cell_type": "code",
   "execution_count": 123,
   "metadata": {
    "ExecuteTime": {
     "end_time": "2021-02-01T05:01:39.935240Z",
     "start_time": "2021-02-01T05:01:39.911305Z"
    }
   },
   "outputs": [],
   "source": [
    "# comps = list(full1['Ticker Symbol'].unique())\n",
    "# np.random.shuffle(comps)\n",
    "# split = int(np.round(0.8*len(comps)))\n",
    "# train_comps = comps[:split]\n",
    "# test_comps = comps[split:]\n",
    "# train_strat = []\n",
    "# test_strat = []\n",
    "# for comp in train_comps:\n",
    "#     train_strat.extend(full1.index[full1['Ticker Symbol'] == comp].tolist())\n",
    "# for comp in test_comps:\n",
    "#     test_strat.extend(full1.index[full1['Ticker Symbol'] == comp].tolist())\n",
    "\n",
    "# assert len(test_strat)/len(full1.index) + len(train_strat)/len(full1.index) == 1.0"
   ]
  },
  {
   "cell_type": "code",
   "execution_count": 126,
   "metadata": {
    "ExecuteTime": {
     "end_time": "2021-02-01T05:01:48.607511Z",
     "start_time": "2021-02-01T05:01:48.597536Z"
    }
   },
   "outputs": [],
   "source": [
    "# X_train = scl_X[train_strat,:]\n",
    "# X_test = scl_X[test_strat, :]\n",
    "# Y_train = enc_Y[train_strat]\n",
    "# Y_test = enc_Y[test_strat]"
   ]
  },
  {
   "cell_type": "code",
   "execution_count": 127,
   "metadata": {
    "ExecuteTime": {
     "end_time": "2021-02-01T05:02:05.530429Z",
     "start_time": "2021-02-01T05:02:05.522449Z"
    }
   },
   "outputs": [],
   "source": [
    "# pd.Series(Y_test).value_counts()"
   ]
  },
  {
   "cell_type": "code",
   "execution_count": 98,
   "metadata": {
    "ExecuteTime": {
     "end_time": "2021-02-01T05:00:23.675712Z",
     "start_time": "2021-02-01T05:00:23.656767Z"
    }
   },
   "outputs": [],
   "source": [
    "# X_train, Y_train, X_val, Y_val, X_test, Y_test = data_split(scl_X, enc_Y, full1, split=[0.8, 0.0],smote=False, seed=4)"
   ]
  },
  {
   "cell_type": "code",
   "execution_count": 12,
   "metadata": {
    "ExecuteTime": {
     "end_time": "2021-02-01T05:29:58.224780Z",
     "start_time": "2021-02-01T05:29:58.204020Z"
    }
   },
   "outputs": [],
   "source": [
    "X_train, X_test,Y_train, Y_test = train_test_split(scl_X, enc_Y, test_size=0.2, random_state=100)"
   ]
  },
  {
   "cell_type": "code",
   "execution_count": 13,
   "metadata": {
    "ExecuteTime": {
     "end_time": "2021-02-01T05:33:41.134904Z",
     "start_time": "2021-02-01T05:29:58.363861Z"
    }
   },
   "outputs": [
    {
     "name": "stderr",
     "output_type": "stream",
     "text": [
      "c:\\users\\rodri\\appdata\\local\\programs\\python\\python37\\lib\\site-packages\\sklearn\\model_selection\\_split.py:672: UserWarning: The least populated class in y has only 2 members, which is less than n_splits=5.\n",
      "  % (min_groups, self.n_splits)), UserWarning)\n",
      "c:\\users\\rodri\\appdata\\local\\programs\\python\\python37\\lib\\site-packages\\sklearn\\model_selection\\_split.py:672: UserWarning: The least populated class in y has only 2 members, which is less than n_splits=3.\n",
      "  % (min_groups, self.n_splits)), UserWarning)\n",
      "c:\\users\\rodri\\appdata\\local\\programs\\python\\python37\\lib\\site-packages\\sklearn\\model_selection\\_split.py:672: UserWarning: The least populated class in y has only 2 members, which is less than n_splits=3.\n",
      "  % (min_groups, self.n_splits)), UserWarning)\n",
      "c:\\users\\rodri\\appdata\\local\\programs\\python\\python37\\lib\\site-packages\\sklearn\\model_selection\\_split.py:672: UserWarning: The least populated class in y has only 2 members, which is less than n_splits=3.\n",
      "  % (min_groups, self.n_splits)), UserWarning)\n"
     ]
    },
    {
     "data": {
      "text/plain": [
       "GridSearchCV(cv=RepeatedStratifiedKFold(n_repeats=3, n_splits=3, random_state=1),\n",
       "             estimator=SVC(),\n",
       "             param_grid=[{'C': [0.001, 0.01, 0.1, 0.5, 1.0, 10.0, 100.0, 100.0,\n",
       "                                2000.0],\n",
       "                          'kernel': ['linear']},\n",
       "                         {'C': [0.001, 0.01, 0.1, 0.5, 1.0, 10.0, 100.0, 100.0,\n",
       "                                2000.0],\n",
       "                          'gamma': [0.01, 0.001, 0.0001], 'kernel': ['rbf']},\n",
       "                         {'C': [0.001, 0.01, 0.1, 0.5, 1.0, 10.0, 100.0, 100.0,\n",
       "                                2000.0],\n",
       "                          'degree': [2, 3, 4, 5, 6, 7, 8, 9],\n",
       "                          'kernel': ['poly']}],\n",
       "             scoring='accuracy')"
      ]
     },
     "execution_count": 13,
     "metadata": {},
     "output_type": "execute_result"
    }
   ],
   "source": [
    "\n",
    "param_grid = [\n",
    "  {'C': [0.001, 0.01, 0.1, 0.5, 1.0, 10.0, 100.0, 100.0, 2000.0], 'kernel': ['linear']},\n",
    "  {'C': [0.001, 0.01, 0.1, 0.5, 1.0, 10.0, 100.0, 100.0,2000.0], 'gamma': [0.01, 0.001, 0.0001], 'kernel': ['rbf']},\n",
    "    {'C': [0.001, 0.01, 0.1, 0.5, 1.0, 10.0, 100.0, 100.0,2000.0], 'degree': [2, 3, 4, 5, 6,7,8,9], 'kernel': ['poly']},\n",
    " ]\n",
    "strat = RepeatedStratifiedKFold(n_splits=3, n_repeats=3, random_state=1)\n",
    "\n",
    "svc = svm.SVC()\n",
    "svm_cv = GridSearchCV(svc, param_grid, scoring='accuracy')\n",
    "svm_cv_strat = GridSearchCV(svc, param_grid, scoring='accuracy', cv=strat)\n",
    "\n",
    "svm_cv.fit(X_train, Y_train)\n",
    "svm_cv_strat.fit(X_train, Y_train)"
   ]
  },
  {
   "cell_type": "code",
   "execution_count": 14,
   "metadata": {
    "ExecuteTime": {
     "end_time": "2021-02-01T05:33:41.166312Z",
     "start_time": "2021-02-01T05:33:41.137897Z"
    }
   },
   "outputs": [
    {
     "name": "stdout",
     "output_type": "stream",
     "text": [
      "{'C': 2000.0, 'gamma': 0.01, 'kernel': 'rbf'} 0.7970149253731342\n",
      "{'C': 2000.0, 'gamma': 0.01, 'kernel': 'rbf'} 0.7955081322514058\n"
     ]
    }
   ],
   "source": [
    "print(svm_cv.best_params_,svm_cv.best_score_)\n",
    "print(svm_cv_strat.best_params_, svm_cv_strat.best_score_)"
   ]
  },
  {
   "cell_type": "code",
   "execution_count": 15,
   "metadata": {
    "ExecuteTime": {
     "end_time": "2021-02-01T05:33:41.214262Z",
     "start_time": "2021-02-01T05:33:41.169305Z"
    }
   },
   "outputs": [
    {
     "name": "stdout",
     "output_type": "stream",
     "text": [
      "              precision    recall  f1-score   support\n",
      "\n",
      "          -6       0.00      0.00      0.00         0\n",
      "          -4       0.33      0.50      0.40         6\n",
      "          -3       0.73      0.73      0.73        11\n",
      "          -2       0.69      0.45      0.55        20\n",
      "          -1       0.64      0.76      0.70        21\n",
      "           0       0.84      0.86      0.85        56\n",
      "           1       0.87      0.83      0.85        24\n",
      "           2       0.92      0.85      0.88        13\n",
      "           5       1.00      1.00      1.00         2\n",
      "           6       1.00      1.00      1.00         9\n",
      "           7       1.00      1.00      1.00         1\n",
      "           8       1.00      1.00      1.00         5\n",
      "\n",
      "    accuracy                           0.79       168\n",
      "   macro avg       0.75      0.75      0.75       168\n",
      "weighted avg       0.80      0.79      0.79       168\n",
      "\n",
      "              precision    recall  f1-score   support\n",
      "\n",
      "          -6       0.00      0.00      0.00         0\n",
      "          -4       0.33      0.50      0.40         6\n",
      "          -3       0.73      0.73      0.73        11\n",
      "          -2       0.69      0.45      0.55        20\n",
      "          -1       0.64      0.76      0.70        21\n",
      "           0       0.84      0.86      0.85        56\n",
      "           1       0.87      0.83      0.85        24\n",
      "           2       0.92      0.85      0.88        13\n",
      "           5       1.00      1.00      1.00         2\n",
      "           6       1.00      1.00      1.00         9\n",
      "           7       1.00      1.00      1.00         1\n",
      "           8       1.00      1.00      1.00         5\n",
      "\n",
      "    accuracy                           0.79       168\n",
      "   macro avg       0.75      0.75      0.75       168\n",
      "weighted avg       0.80      0.79      0.79       168\n",
      "\n"
     ]
    },
    {
     "name": "stderr",
     "output_type": "stream",
     "text": [
      "c:\\users\\rodri\\appdata\\local\\programs\\python\\python37\\lib\\site-packages\\sklearn\\metrics\\_classification.py:1221: UndefinedMetricWarning: Recall and F-score are ill-defined and being set to 0.0 in labels with no true samples. Use `zero_division` parameter to control this behavior.\n",
      "  _warn_prf(average, modifier, msg_start, len(result))\n",
      "c:\\users\\rodri\\appdata\\local\\programs\\python\\python37\\lib\\site-packages\\sklearn\\metrics\\_classification.py:1221: UndefinedMetricWarning: Recall and F-score are ill-defined and being set to 0.0 in labels with no true samples. Use `zero_division` parameter to control this behavior.\n",
      "  _warn_prf(average, modifier, msg_start, len(result))\n"
     ]
    }
   ],
   "source": [
    "cv_preds = svm_cv.predict(X_test)\n",
    "np.mean(cv_preds == Y_test)\n",
    "print(classification_report(Y_test, cv_preds))\n",
    "cv_preds1 = svm_cv_strat.predict(X_test)\n",
    "np.mean(cv_preds1 == Y_test)\n",
    "print(classification_report(Y_test, cv_preds1))"
   ]
  },
  {
   "cell_type": "code",
   "execution_count": null,
   "metadata": {},
   "outputs": [],
   "source": []
  },
  {
   "cell_type": "code",
   "execution_count": null,
   "metadata": {},
   "outputs": [],
   "source": []
  },
  {
   "cell_type": "code",
   "execution_count": null,
   "metadata": {},
   "outputs": [],
   "source": []
  },
  {
   "cell_type": "code",
   "execution_count": 43,
   "metadata": {
    "ExecuteTime": {
     "end_time": "2021-02-01T01:01:56.098379Z",
     "start_time": "2021-02-01T01:01:41.154028Z"
    }
   },
   "outputs": [],
   "source": [
    "svc_rfe = svm.SVC(kernel='linear', C=10.0)\n",
    "rfe = RFECV(estimator=svc_rfe, min_features_to_select=2, step=1)\n",
    "\n",
    "# rfe1 = RFECV(estimator=qda, n_features_to_select=2, step=1)\n",
    "rfe.fit(X_train, Y_train)\n",
    "# rfe1.fit(X1, Y1)\n",
    "sups = rfe.support_\n",
    "# sups1 = rfe1.support_\n",
    "X2 = X_train[:, sups]\n",
    "Y2 = Y1.copy\n",
    "# Y3, full3\n",
    "# X2\n"
   ]
  },
  {
   "cell_type": "code",
   "execution_count": null,
   "metadata": {
    "ExecuteTime": {
     "end_time": "2021-02-01T01:00:57.996090Z",
     "start_time": "2021-02-01T01:00:55.271Z"
    }
   },
   "outputs": [],
   "source": [
    "r_preds = rfe.predict(X_val)\n",
    "np.mean(r_preds == Y_val)\n",
    "classification_report(Y_val, )"
   ]
  },
  {
   "cell_type": "code",
   "execution_count": null,
   "metadata": {},
   "outputs": [],
   "source": []
  },
  {
   "cell_type": "code",
   "execution_count": null,
   "metadata": {},
   "outputs": [],
   "source": [
    "svvvvc = svm.SVC(kernel='linear', C=10.0)\n",
    "svvvvc.fit(X2, Y1)\n",
    "s_preds = svvvvc.predict(X2)\n",
    "np.mean(s_preds == Y1)\n",
    "\n"
   ]
  },
  {
   "cell_type": "code",
   "execution_count": 11,
   "metadata": {
    "ExecuteTime": {
     "end_time": "2021-02-01T00:09:25.040652Z",
     "start_time": "2021-02-01T00:09:25.028601Z"
    }
   },
   "outputs": [
    {
     "data": {
      "text/plain": [
       "3    496\n",
       "2    196\n",
       "5     47\n",
       "4     43\n",
       "6     41\n",
       "1     15\n",
       "dtype: int64"
      ]
     },
     "execution_count": 11,
     "metadata": {},
     "output_type": "execute_result"
    }
   ],
   "source": [
    "pd.Series(enc_Y).value_counts()"
   ]
  },
  {
   "cell_type": "code",
   "execution_count": 7,
   "metadata": {
    "ExecuteTime": {
     "end_time": "2021-01-31T23:58:03.549452Z",
     "start_time": "2021-01-31T23:58:03.387869Z"
    }
   },
   "outputs": [
    {
     "ename": "NameError",
     "evalue": "name 'tr_x' is not defined",
     "output_type": "error",
     "traceback": [
      "\u001b[1;31m---------------------------------------------------------------------------\u001b[0m",
      "\u001b[1;31mNameError\u001b[0m                                 Traceback (most recent call last)",
      "\u001b[1;32m<ipython-input-7-598b5127e273>\u001b[0m in \u001b[0;36m<module>\u001b[1;34m\u001b[0m\n\u001b[0;32m      1\u001b[0m \u001b[0mC\u001b[0m \u001b[1;33m=\u001b[0m \u001b[1;36m10.0\u001b[0m  \u001b[1;31m# SVM regularization parameter\u001b[0m\u001b[1;33m\u001b[0m\u001b[0m\n\u001b[0;32m      2\u001b[0m \u001b[1;33m\u001b[0m\u001b[0m\n\u001b[1;32m----> 3\u001b[1;33m \u001b[0msvc\u001b[0m \u001b[1;33m=\u001b[0m \u001b[0msvm\u001b[0m\u001b[1;33m.\u001b[0m\u001b[0mSVC\u001b[0m\u001b[1;33m(\u001b[0m\u001b[0mkernel\u001b[0m\u001b[1;33m=\u001b[0m\u001b[1;34m'linear'\u001b[0m\u001b[1;33m,\u001b[0m \u001b[0mC\u001b[0m\u001b[1;33m=\u001b[0m\u001b[0mC\u001b[0m\u001b[1;33m)\u001b[0m\u001b[1;33m.\u001b[0m\u001b[0mfit\u001b[0m\u001b[1;33m(\u001b[0m\u001b[0mtr_x\u001b[0m\u001b[1;33m,\u001b[0m \u001b[0mtr_y\u001b[0m\u001b[1;33m)\u001b[0m\u001b[1;33m\u001b[0m\u001b[0m\n\u001b[0m\u001b[0;32m      4\u001b[0m \u001b[0mrbf_svc\u001b[0m \u001b[1;33m=\u001b[0m \u001b[0msvm\u001b[0m\u001b[1;33m.\u001b[0m\u001b[0mSVC\u001b[0m\u001b[1;33m(\u001b[0m\u001b[0mkernel\u001b[0m\u001b[1;33m=\u001b[0m\u001b[1;34m'rbf'\u001b[0m\u001b[1;33m,\u001b[0m \u001b[0mgamma\u001b[0m\u001b[1;33m=\u001b[0m\u001b[1;36m0.7\u001b[0m\u001b[1;33m,\u001b[0m \u001b[0mC\u001b[0m\u001b[1;33m=\u001b[0m\u001b[0mC\u001b[0m\u001b[1;33m)\u001b[0m\u001b[1;33m.\u001b[0m\u001b[0mfit\u001b[0m\u001b[1;33m(\u001b[0m\u001b[0mtr_x\u001b[0m\u001b[1;33m,\u001b[0m \u001b[0mtr_y\u001b[0m\u001b[1;33m)\u001b[0m\u001b[1;33m\u001b[0m\u001b[0m\n\u001b[0;32m      5\u001b[0m \u001b[0mpoly_svc\u001b[0m \u001b[1;33m=\u001b[0m \u001b[0msvm\u001b[0m\u001b[1;33m.\u001b[0m\u001b[0mSVC\u001b[0m\u001b[1;33m(\u001b[0m\u001b[0mkernel\u001b[0m\u001b[1;33m=\u001b[0m\u001b[1;34m'poly'\u001b[0m\u001b[1;33m,\u001b[0m \u001b[0mdegree\u001b[0m\u001b[1;33m=\u001b[0m\u001b[1;36m3\u001b[0m\u001b[1;33m,\u001b[0m \u001b[0mC\u001b[0m\u001b[1;33m=\u001b[0m\u001b[0mC\u001b[0m\u001b[1;33m)\u001b[0m\u001b[1;33m.\u001b[0m\u001b[0mfit\u001b[0m\u001b[1;33m(\u001b[0m\u001b[0mtr_x\u001b[0m\u001b[1;33m,\u001b[0m \u001b[0mtr_y\u001b[0m\u001b[1;33m)\u001b[0m\u001b[1;33m\u001b[0m\u001b[0m\n",
      "\u001b[1;31mNameError\u001b[0m: name 'tr_x' is not defined"
     ]
    }
   ],
   "source": [
    "C = 10.0  # SVM regularization parameter\n",
    "\n",
    "svc = svm.SVC(kernel='linear', C=C).fit(X1, )\n",
    "rbf_svc = svm.SVC(kernel='rbf', gamma=0.7, C=C).fit(tr_x, tr_y)\n",
    "poly_svc = svm.SVC(kernel='poly', degree=3, C=C).fit(tr_x, tr_y)\n",
    "lin_svc = svm.LinearSVC(C=C).fit(tr_x, tr_y)"
   ]
  },
  {
   "cell_type": "code",
   "execution_count": null,
   "metadata": {},
   "outputs": [],
   "source": [
    "# preds = svc.predict(two_x)\n",
    "# preds1 = rbf_svc.predict(two_x)\n",
    "# preds2 = poly_svc.predict(two_x)\n",
    "# preds3 = lin_svc.predict(two_x)\n",
    "\n",
    "\n",
    "preds = svc.predict(cca_tex)\n",
    "preds1 = rbf_svc.predict(cca_tex)\n",
    "preds2 = poly_svc.predict(cca_tex)\n",
    "preds3 = lin_svc.predict(cca_tex)\n",
    "print(\"linear kernel :\",'\\n', pd.Series(preds).value_counts(),'\\n',\n",
    "\"RBF kernel :\",'\\n',pd.Series(preds1).value_counts(),'\\n',\n",
    "\"Poly kernel :\",'\\n',pd.Series(preds2).value_counts(),'\\n',\n",
    "\"linear SVC :\",'\\n',pd.Series(preds3).value_counts(),'\\n',\n",
    "\"True dist. :\",'\\n',pd.Series(te_y).value_counts())"
   ]
  },
  {
   "cell_type": "code",
   "execution_count": null,
   "metadata": {},
   "outputs": [],
   "source": [
    "titles = ['SVC with linear kernel',\n",
    "          'LinearSVC (linear kernel)',\n",
    "          'SVC with RBF kernel',\n",
    "          'SVC with polynomial (degree 3) kernel']\n",
    "\n",
    "# low','med', 'high'\n",
    "for i, clf in enumerate((svc, lin_svc, rbf_svc, poly_svc)):\n",
    "    print(titles[i], '\\n')\n",
    "    print(classification_report(te_y, pd.Series(clf.predict(cca_tex)).apply(lambda x: int(x)), target_names=['B','BB','BBB','A','AA','AAA']))"
   ]
  },
  {
   "cell_type": "code",
   "execution_count": null,
   "metadata": {},
   "outputs": [],
   "source": []
  },
  {
   "cell_type": "code",
   "execution_count": null,
   "metadata": {},
   "outputs": [],
   "source": []
  },
  {
   "cell_type": "code",
   "execution_count": null,
   "metadata": {},
   "outputs": [],
   "source": []
  },
  {
   "cell_type": "code",
   "execution_count": null,
   "metadata": {},
   "outputs": [],
   "source": []
  },
  {
   "cell_type": "code",
   "execution_count": 2,
   "metadata": {
    "ExecuteTime": {
     "end_time": "2021-01-31T23:54:29.196117Z",
     "start_time": "2021-01-31T23:54:29.174072Z"
    }
   },
   "outputs": [],
   "source": [
    "def score_one_off(clf, preds, true):\n",
    "    \"\"\" \n",
    "    preds/true: must be array of int\n",
    "    \"\"\"\n",
    "    assert len(preds) == len(true)\n",
    "    bools = np.zeros(len(preds))\n",
    "    for i in range(len(preds)):\n",
    "        bools[i] = (preds[i] == true[i]) | (preds[i] == (true[i] + 1)) | (preds[i] == (true[i] - 1)) \n",
    "    return np.mean(bools)"
   ]
  }
 ],
 "metadata": {
  "kernelspec": {
   "display_name": "Python 3",
   "language": "python",
   "name": "python3"
  },
  "language_info": {
   "codemirror_mode": {
    "name": "ipython",
    "version": 3
   },
   "file_extension": ".py",
   "mimetype": "text/x-python",
   "name": "python",
   "nbconvert_exporter": "python",
   "pygments_lexer": "ipython3",
   "version": "3.7.0"
  },
  "toc": {
   "base_numbering": 1,
   "nav_menu": {},
   "number_sections": true,
   "sideBar": true,
   "skip_h1_title": false,
   "title_cell": "Table of Contents",
   "title_sidebar": "Contents",
   "toc_cell": false,
   "toc_position": {},
   "toc_section_display": true,
   "toc_window_display": false
  }
 },
 "nbformat": 4,
 "nbformat_minor": 4
}
