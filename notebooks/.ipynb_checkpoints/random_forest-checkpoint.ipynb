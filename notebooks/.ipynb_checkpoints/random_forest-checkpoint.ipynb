{
 "cells": [
  {
   "cell_type": "code",
   "execution_count": 1,
   "metadata": {
    "ExecuteTime": {
     "end_time": "2021-05-10T08:06:54.631444Z",
     "start_time": "2021-05-10T08:06:52.743044Z"
    }
   },
   "outputs": [],
   "source": [
    "import pandas as pd\n",
    "import numpy as np\n",
    "import matplotlib.pyplot as plt\n",
    "# from mpl_toolkits.mplot3d import axes3d  \n",
    "import seaborn as sns\n",
    "from scipy import stats\n",
    "\n",
    "from sklearn.preprocessing import MinMaxScaler, StandardScaler\n",
    "from sklearn.decomposition import PCA\n",
    "\n",
    "from sklearn.metrics import plot_confusion_matrix,mean_absolute_error, classification_report\n",
    "from sklearn import svm\n",
    "import random\n",
    "from imblearn.over_sampling import SMOTE, SVMSMOTE\n",
    "from EDA_helper import *\n",
    "from sklearn.model_selection import cross_val_score\n",
    "from sklearn.model_selection import RepeatedStratifiedKFold\n",
    "from sklearn.discriminant_analysis import LinearDiscriminantAnalysis, QuadraticDiscriminantAnalysis\n",
    "from sklearn.feature_selection import RFE, RFECV\n",
    "from sklearn.model_selection import train_test_split\n",
    "from sklearn.model_selection import GridSearchCV\n",
    "from sklearn.neural_network import MLPClassifier\n",
    "from imblearn.under_sampling import RandomUnderSampler\n",
    "from imblearn.pipeline import Pipeline\n",
    "from sklearn.ensemble import RandomForestClassifier"
   ]
  },
  {
   "cell_type": "code",
   "execution_count": 2,
   "metadata": {
    "ExecuteTime": {
     "end_time": "2021-05-10T08:06:54.757092Z",
     "start_time": "2021-05-10T08:06:54.633424Z"
    },
    "code_folding": [
     0
    ]
   },
   "outputs": [],
   "source": [
    "def process_rf(stratified=False):\n",
    "    ratings = pd.read_excel(\"../datasets/ratings_all_energ_new.xlsx\")\n",
    "    ratio = pd.read_excel(\"../datasets/ratios_2_all_energ_new.xlsx\")\n",
    "    energ = pd.read_excel(\"../datasets/energ_specific_all_new.xlsx\")\n",
    "    # ratings = pd.read_excel(\"../datasets/ratings_2_06-17.xlsx\")\n",
    "    # ratio = pd.read_excel(\"../datasets/ratio_figs_2.xlsx\")\n",
    "    cols = ratio.columns\n",
    "    ratio = ratio.drop(cols[0], axis=1)\n",
    "    ratio = ratio.rename(columns = {'Public Date':'Data Date','EXCHANGE TICKER SYMBOL - HISTORICAL':'Ticker Symbol'})\n",
    "\n",
    "    ratio1, ratings1 = format_df(ratio.copy(), ratings.copy(), \n",
    "                                 ['Trailing P/E to Growth (PEG) ratio','Dividend Yield', \n",
    "                                  'Interest/Average Total Debt', 'Free Cash Flow/Operating Cash Flow'])\n",
    "\n",
    "    numer = list(ratio1.columns[4:-1])\n",
    "    # yr = ['2006', '2007', '2008','2009','2010','2011','2012','2013']\n",
    "    # X1,Y1,full1 = join_numerical(ratio1, ratings1, numerical=numer)\n",
    "    cols = energ.columns\n",
    "#     print(cols)\n",
    "    # aa = cols[[0,1,2,3,4,5,6, 18,19,20,21,22,23,24,25,26,27,28,29,30,31,32,33,34,35]]\n",
    "    aa = cols[[0,1,2,3,4,5,6, 10,11,14,18,19,20,21,22,23,24,25,26,27,28,29,30,31,32,33,34,35]]\n",
    "    energ1 = energ.drop(\n",
    "           aa, \n",
    "        axis=1)\n",
    "    # energ1 = energ_.fillna(energ_.mean()) \n",
    "    # energ1, _ = format_df(energ.copy(), ratings.copy(), \n",
    "    #                             aa)\n",
    "    energ1['Data Date'] = energ1['Data Date'].astype(str)\n",
    "    energ1.shape\n",
    "    features = pd.merge(ratio1, energ1,how='left',on=[\"Data Date\", \"Ticker Symbol\"])\n",
    "#     len(features[\"Ticker Symbol\"].unique())\n",
    "    lst3 = [value for value in ratio[\"Ticker Symbol\"].unique() if value in energ[\"Ticker Symbol\"].unique()]\n",
    "    # ratio1[\"Ticker Symbol\"].unique()\n",
    "#     len(lst3)\n",
    "#     print(len(ratio[\"Ticker Symbol\"].unique()), len(energ[\"Ticker Symbol\"].unique()), \n",
    "#           len(ratio1[\"Ticker Symbol\"].unique()), len(energ1[\"Ticker Symbol\"].unique()))\n",
    "\n",
    "    first_col = features.pop(\"Ticker Symbol\") \n",
    "    ff = len(features.columns)\n",
    "    features.insert(ff, \"Ticker Symbol\", first_col)\n",
    "    numer = list(features.columns[4:-1])\n",
    "\n",
    "    X1,Y1,full1 = join_numerical(features, ratings1, numerical=numer)\n",
    "    \n",
    "    if stratified:\n",
    "        full1 = full1.reset_index()\n",
    "        comps = list(full1['Ticker Symbol'].unique())\n",
    "        labout = []\n",
    "        inout = []\n",
    "        v_labout = []\n",
    "        v_inout = []\n",
    "        t_labout = []\n",
    "        t_inout = []\n",
    "        for c in comps:\n",
    "            curr_in = full1.index[full1['Ticker Symbol'] == c]\n",
    "            indXd = X1[curr_in,:]\n",
    "            indYd = Y1[curr_in]\n",
    "            if np.random.binomial(1, 0.9):\n",
    "                if np.random.binomial(1, 0.8):\n",
    "                    inout.append(indXd)\n",
    "                    labout.append(indYd)\n",
    "                else:\n",
    "                    v_inout.append(indXd)\n",
    "                    v_labout.append(indYd)\n",
    "            else:\n",
    "                t_inout.append(indXd)\n",
    "                t_labout.append(indYd)\n",
    "        X1,Y1, X_val_, Y_val, X_hold_,Y_hold = (np.vstack(inout),np.vstack(labout), np.vstack(v_inout),\n",
    "                                               np.vstack(v_labout), np.vstack(t_inout), np.vstack(t_labout)) \n",
    "        ss = StandardScaler()\n",
    "        scl_X = ss.fit_transform(X1)\n",
    "        scl_X = np.nan_to_num(scl_X)\n",
    "        enc_Y_, _ = encode(Y1, 'full') \n",
    "\n",
    "        X_val = ss.transform(X_val_)\n",
    "        X_val = np.nan_to_num(X_val)\n",
    "        Y_val, _ = encode(Y_val, 'full')\n",
    "        \n",
    "        X_hold = ss.transform(X_hold_)\n",
    "        X_hold = np.nan_to_num(X_hold)\n",
    "\n",
    "        Y_hold, _ = encode(Y_hold, 'full')\n",
    "        minny = np.abs(np.min((np.min(enc_Y_), np.min(Y_val), np.min(Y_hold))))\n",
    "        enc_Y = enc_Y_ + minny\n",
    "        Y_val += minny\n",
    "        Y_hold += minny\n",
    "\n",
    "\n",
    "    else:\n",
    "        X_val, Y_val = np.array([]),np.array([])\n",
    "        X1, X_hold_,Y1, Y_hold = train_test_split(X1, Y1, test_size=0.2, random_state=100)\n",
    "        ss = StandardScaler()\n",
    "        scl_X = ss.fit_transform(X1)\n",
    "        scl_X = np.nan_to_num(scl_X)\n",
    "        enc_Y_, _ = encode(Y1, 'full') \n",
    "\n",
    "        X_hold = ss.transform(X_hold_)\n",
    "        X_hold = np.nan_to_num(X_hold)\n",
    "\n",
    "        Y_hold, _ = encode(Y_hold, 'full')\n",
    "        minny = np.abs(np.min((np.min(enc_Y_), np.min(Y_hold))))\n",
    "        enc_Y = enc_Y_ + minny\n",
    "        Y_hold += minny\n",
    "    print(scl_X.shape, X_val.shape, X_hold.shape)\n",
    "    return scl_X, enc_Y, X_val, Y_val, X_hold, Y_hold"
   ]
  },
  {
   "cell_type": "markdown",
   "metadata": {},
   "source": [
    "## Random Forest Without SMOTE"
   ]
  },
  {
   "cell_type": "code",
   "execution_count": 15,
   "metadata": {
    "ExecuteTime": {
     "end_time": "2021-05-10T08:16:10.294332Z",
     "start_time": "2021-05-10T08:15:45.181355Z"
    }
   },
   "outputs": [
    {
     "name": "stdout",
     "output_type": "stream",
     "text": [
      "Unique Companies in Ratings:  335\n",
      "Unique Companies in Features:  253\n",
      "changed\n",
      "Intersection of Companies:  97\n",
      "(6375, 26) (0,) (1594, 26)\n"
     ]
    }
   ],
   "source": [
    "X_train, Y_train, X_val,Y_val, X_test, Y_test = process_rf() "
   ]
  },
  {
   "cell_type": "code",
   "execution_count": 16,
   "metadata": {
    "ExecuteTime": {
     "end_time": "2021-05-10T08:16:10.333226Z",
     "start_time": "2021-05-10T08:16:10.298322Z"
    }
   },
   "outputs": [],
   "source": [
    "X_train, Y_train, _, _,X_val, Y_val = data_split(X_train, Y_train, split=[0.85, 0.0], smote=False, seed = 200, neigh=5)"
   ]
  },
  {
   "cell_type": "code",
   "execution_count": 17,
   "metadata": {
    "ExecuteTime": {
     "end_time": "2021-05-10T08:16:59.441142Z",
     "start_time": "2021-05-10T08:16:10.343199Z"
    },
    "scrolled": true
   },
   "outputs": [
    {
     "name": "stdout",
     "output_type": "stream",
     "text": [
      "Val Accuracy (2):  0.2510460251046025 MAE:  2.3744769874476988\n",
      "Val Accuracy (3):  0.35251046025104604 MAE:  2.024058577405858\n",
      "Val Accuracy (4):  0.41631799163179917 MAE:  1.8148535564853556\n",
      "Val Accuracy (5):  0.5167364016736402 MAE:  1.348326359832636\n",
      "Val Accuracy (6):  0.6370292887029289 MAE:  0.9267782426778243\n",
      "Val Accuracy (7):  0.7207112970711297 MAE:  0.6820083682008368\n",
      "Val Accuracy (8):  0.8075313807531381 MAE:  0.41736401673640167\n",
      "Val Accuracy (9):  0.8692468619246861 MAE:  0.2625523012552301\n",
      "Val Accuracy (10):  0.9225941422594143 MAE:  0.14435146443514643\n",
      "Val Accuracy (11):  0.946652719665272 MAE:  0.10355648535564854\n",
      "Val Accuracy (12):  0.9497907949790795 MAE:  0.08054393305439331\n",
      "Val Accuracy (13):  0.9560669456066946 MAE:  0.07426778242677824\n",
      "Val Accuracy (14):  0.9571129707112971 MAE:  0.0596234309623431\n",
      "Val Accuracy (15):  0.9560669456066946 MAE:  0.07322175732217573\n",
      "Val Accuracy (16):  0.9539748953974896 MAE:  0.07531380753138076\n",
      "Val Accuracy (17):  0.9571129707112971 MAE:  0.07112970711297072\n",
      "Val Accuracy (18):  0.9612970711297071 MAE:  0.06485355648535565\n",
      "Val Accuracy (19):  0.9581589958158996 MAE:  0.0700836820083682\n"
     ]
    }
   ],
   "source": [
    "vals = []\n",
    "trains = []\n",
    "for i in range(2, 20):\n",
    "    clf = RandomForestClassifier(max_depth=i, random_state=1, max_features=10)\n",
    "    clf.fit(X_train, Y_train)\n",
    "#     preds = clf.predict(X_train)\n",
    "#     temps = np.mean(preds == Y_train)\n",
    "#     trains.append(temps)\n",
    "    preds = clf.predict(X_val)\n",
    "    temps = np.mean(preds == Y_val)\n",
    "    vals.append(temps)\n",
    "#     print(\"Train Accuracy (\" + str(i) + \"): \", temps,\"MAE: \", mean_absolute_error(Y_train, preds))\n",
    "    print(\"Val Accuracy (\" + str(i) + \"): \", temps,\"MAE: \", mean_absolute_error(Y_val, preds))"
   ]
  },
  {
   "cell_type": "code",
   "execution_count": 18,
   "metadata": {
    "ExecuteTime": {
     "end_time": "2021-05-10T08:16:59.662304Z",
     "start_time": "2021-05-10T08:16:59.443139Z"
    }
   },
   "outputs": [
    {
     "data": {
      "image/png": "[encoded data removed]",
      "text/plain": [
       "<Figure size 432x288 with 1 Axes>"
      ]
     },
     "metadata": {
      "needs_background": "light"
     },
     "output_type": "display_data"
    }
   ],
   "source": [
    "plt.plot(np.arange(2, 20), vals, c='g')\n",
    "plt.title(\"Random Forest Validation Accuracy\")\n",
    "plt.xlabel(\"Max Depth\")\n",
    "plt.ylabel(\"Accuracy\")\n",
    "plt.xticks(np.arange(2,20))\n",
    "plt.show()"
   ]
  },
  {
   "cell_type": "code",
   "execution_count": 20,
   "metadata": {
    "ExecuteTime": {
     "end_time": "2021-05-10T08:17:28.992785Z",
     "start_time": "2021-05-10T08:17:25.681061Z"
    }
   },
   "outputs": [
    {
     "name": "stdout",
     "output_type": "stream",
     "text": [
      "Test Accuracy:  0.9535759096612296 MAE:  0.08782936010037641\n"
     ]
    }
   ],
   "source": [
    "best_model = RandomForestClassifier(max_depth=12, random_state=10, max_features=10)\n",
    "best_model.fit(X_train, Y_train)\n",
    "preds = best_model.predict(X_test)\n",
    "temps = np.mean(preds == Y_test)\n",
    "print(\"Test Accuracy: \", temps, \"MAE: \", mean_absolute_error(Y_test, preds))"
   ]
  },
  {
   "cell_type": "markdown",
   "metadata": {},
   "source": [
    "## Random Forest with SMOTE"
   ]
  },
  {
   "cell_type": "code",
   "execution_count": 10,
   "metadata": {
    "ExecuteTime": {
     "end_time": "2021-05-10T08:11:36.570149Z",
     "start_time": "2021-05-10T08:11:11.400200Z"
    }
   },
   "outputs": [
    {
     "name": "stdout",
     "output_type": "stream",
     "text": [
      "Unique Companies in Ratings:  335\n",
      "Unique Companies in Features:  253\n",
      "changed\n",
      "Intersection of Companies:  97\n",
      "(6375, 26) (0,) (1594, 26)\n"
     ]
    }
   ],
   "source": [
    "X_train, Y_train, X_val,Y_val, X_test, Y_test = process_rf() "
   ]
  },
  {
   "cell_type": "code",
   "execution_count": 11,
   "metadata": {
    "ExecuteTime": {
     "end_time": "2021-05-10T08:11:36.741071Z",
     "start_time": "2021-05-10T08:11:36.573141Z"
    }
   },
   "outputs": [],
   "source": [
    "X_train, Y_train, _, _,X_val, Y_val = data_split(X_train, Y_train, split=[0.85, 0.0], smote=True, seed = 200, neigh=5)"
   ]
  },
  {
   "cell_type": "code",
   "execution_count": 12,
   "metadata": {
    "ExecuteTime": {
     "end_time": "2021-05-10T08:12:10.075483Z",
     "start_time": "2021-05-10T08:11:42.181355Z"
    }
   },
   "outputs": [
    {
     "name": "stdout",
     "output_type": "stream",
     "text": [
      "Val Accuracy (2):  0.27615062761506276 MAE:  2.467573221757322\n",
      "Val Accuracy (3):  0.399581589958159 MAE:  1.9121338912133892\n",
      "Val Accuracy (4):  0.45397489539748953 MAE:  1.6286610878661087\n",
      "Val Accuracy (5):  0.5334728033472803 MAE:  1.3807531380753137\n",
      "Val Accuracy (6):  0.6401673640167364 MAE:  0.9937238493723849\n",
      "Val Accuracy (7):  0.7259414225941423 MAE:  0.7123430962343096\n",
      "Val Accuracy (8):  0.8043933054393305 MAE:  0.4560669456066946\n",
      "Val Accuracy (9):  0.8629707112970711 MAE:  0.3399581589958159\n",
      "Val Accuracy (10):  0.9131799163179917 MAE:  0.17782426778242677\n",
      "Val Accuracy (11):  0.9278242677824268 MAE:  0.1412133891213389\n",
      "Val Accuracy (12):  0.9393305439330544 MAE:  0.11401673640167365\n",
      "Val Accuracy (13):  0.950836820083682 MAE:  0.09623430962343096\n",
      "Val Accuracy (14):  0.948744769874477 MAE:  0.10146443514644352\n",
      "Val Accuracy (15):  0.950836820083682 MAE:  0.09205020920502092\n",
      "Val Accuracy (16):  0.9518828451882845 MAE:  0.08263598326359832\n",
      "Val Accuracy (17):  0.9518828451882845 MAE:  0.08263598326359832\n",
      "Val Accuracy (18):  0.952928870292887 MAE:  0.08263598326359832\n",
      "Val Accuracy (19):  0.9539748953974896 MAE:  0.07635983263598327\n"
     ]
    },
    {
     "data": {
      "text/plain": [
       "[<matplotlib.lines.Line2D at 0x12a9ba21f28>]"
      ]
     },
     "execution_count": 12,
     "metadata": {},
     "output_type": "execute_result"
    },
    {
     "data": {
      "image/png": "[encoded data removed]",
      "text/plain": [
       "<Figure size 432x288 with 1 Axes>"
      ]
     },
     "metadata": {
      "needs_background": "light"
     },
     "output_type": "display_data"
    }
   ],
   "source": [
    "vals = []\n",
    "for i in range(2, 20):\n",
    "    clf = RandomForestClassifier(max_depth=i, random_state=10)\n",
    "    clf.fit(X_train, Y_train)\n",
    "    preds = clf.predict(X_val)\n",
    "    temps = np.mean(preds == Y_val)\n",
    "    vals.append(temps)\n",
    "    print(\"Val Accuracy (\" + str(i) + \"): \", temps,\"MAE: \", mean_absolute_error(Y_val, preds))\n",
    "plt.plot(vals)    "
   ]
  },
  {
   "cell_type": "code",
   "execution_count": 13,
   "metadata": {
    "ExecuteTime": {
     "end_time": "2021-05-10T08:12:27.537796Z",
     "start_time": "2021-05-10T08:12:25.575314Z"
    }
   },
   "outputs": [
    {
     "data": {
      "text/plain": [
       "0.9328732747804266"
      ]
     },
     "execution_count": 13,
     "metadata": {},
     "output_type": "execute_result"
    }
   ],
   "source": [
    "best_model = RandomForestClassifier(max_depth=12, random_state=10)\n",
    "best_model.fit(X_train, Y_train)\n",
    "preds = best_model.predict(X_test)\n",
    "temps = np.mean(preds == Y_test)\n",
    "temps"
   ]
  },
  {
   "cell_type": "code",
   "execution_count": null,
   "metadata": {},
   "outputs": [],
   "source": []
  },
  {
   "cell_type": "code",
   "execution_count": null,
   "metadata": {},
   "outputs": [],
   "source": []
  }
 ],
 "metadata": {
  "kernelspec": {
   "display_name": "Python 3",
   "language": "python",
   "name": "python3"
  },
  "language_info": {
   "codemirror_mode": {
    "name": "ipython",
    "version": 3
   },
   "file_extension": ".py",
   "mimetype": "text/x-python",
   "name": "python",
   "nbconvert_exporter": "python",
   "pygments_lexer": "ipython3",
   "version": "3.7.0"
  },
  "toc": {
   "base_numbering": 1,
   "nav_menu": {},
   "number_sections": true,
   "sideBar": true,
   "skip_h1_title": false,
   "title_cell": "Table of Contents",
   "title_sidebar": "Contents",
   "toc_cell": false,
   "toc_position": {},
   "toc_section_display": true,
   "toc_window_display": false
  }
 },
 "nbformat": 4,
 "nbformat_minor": 4
}
