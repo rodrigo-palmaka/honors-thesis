{
 "cells": [
  {
   "cell_type": "code",
   "execution_count": 1,
   "metadata": {
    "ExecuteTime": {
     "end_time": "2020-11-15T02:16:47.087455Z",
     "start_time": "2020-11-15T02:16:40.973564Z"
    }
   },
   "outputs": [],
   "source": [
    "import pandas as pd\n",
    "import numpy as np\n",
    "import matplotlib.pyplot as plt\n",
    "import seaborn as sns"
   ]
  },
  {
   "cell_type": "code",
   "execution_count": 45,
   "metadata": {
    "ExecuteTime": {
     "end_time": "2020-11-15T07:33:08.644232Z",
     "start_time": "2020-11-15T07:33:07.186129Z"
    }
   },
   "outputs": [],
   "source": [
    "df = pd.read_excel(\"../datasets/msft_test.xlsx\")\n",
    "\n",
    "df1 = pd.read_csv(\"../datasets/constituents_csv.csv\")\n",
    "sp_energ = df1[df1[\"Sector\"] == \"Energy\"]\n",
    "big_df = pd.read_excel(\"../datasets/100_ratings_06-17.xlsx\")"
   ]
  },
  {
   "cell_type": "code",
   "execution_count": 42,
   "metadata": {
    "ExecuteTime": {
     "end_time": "2020-11-15T07:24:37.710419Z",
     "start_time": "2020-11-15T07:24:37.686564Z"
    },
    "code_folding": []
   },
   "outputs": [],
   "source": [
    "a = list(sp_energ[\"Symbol\"])\n",
    "b = [\"RDS.A\", \"PTR\", \"TOT\", \"SNP\", \"BP\", \"ENB\", \"PBR\", \"CEO\", \"EQNR\", \"EPD\", \"TRP\", \"COP\",\"E\", \"KMI\",'PSX', \n",
    " 'EOG', 'SLB', 'WMB', 'MPC', 'CNQ', 'EC', 'MPLX', 'SU', 'VLO', 'BKR', 'CQP', 'PXD', 'ET', 'OKE', 'HES', \n",
    " 'LNG', 'HAL', 'PBA', 'IMO', 'OXY', 'CXO', 'MMP', 'TS', 'COG', 'PAA', 'PSXP', 'FANG', 'CLR', 'CVE', \n",
    " 'WES', 'TRGP', 'HESM', 'PE', 'DVN', 'SSL', 'SHI', 'NOV','TPL','EQT','MRO','PDS','APA','VVV','UGP',\n",
    " 'NFG','CZZ','SHLX','HFC','CCJ','YPF','WPX','FTI','DCP','XEC','AM','ETRN','OVV','REGI','ENBL','SUN','CNX',\n",
    " 'CHX', 'TCP','SWN','HP','RRC','WHD','INT','EURN','PDCE','ENLC','PAGP','BSM','CVI','MUR','MGY','HEP',\n",
    " 'NS','DKL','FRO','CRC']\n",
    "a.extend(b)\n",
    "tik = set(a)\n",
    "file = open(\"tickers.txt\",'w')\n",
    "\n",
    "for l in tik:\n",
    "    file.write(l)\n",
    "    file.write('\\n')\n",
    "file.close()\n"
   ]
  },
  {
   "cell_type": "code",
   "execution_count": 56,
   "metadata": {
    "ExecuteTime": {
     "end_time": "2020-11-15T07:35:57.416010Z",
     "start_time": "2020-11-15T07:35:57.405043Z"
    }
   },
   "outputs": [
    {
     "data": {
      "text/plain": [
       "BBB     1525\n",
       "BBB+     996\n",
       "BBB-     951\n",
       "A-       721\n",
       "BB       707\n",
       "BB+      706\n",
       "A        463\n",
       "AA       336\n",
       "AA-      302\n",
       "AAA      246\n",
       "BB-      229\n",
       "A+       221\n",
       "B+       147\n",
       "B        141\n",
       "AA+       64\n",
       "CCC+      57\n",
       "B-         9\n",
       "SD         1\n",
       "Name: S&P Domestic Long Term Issuer Credit Rating, dtype: int64"
      ]
     },
     "execution_count": 56,
     "metadata": {},
     "output_type": "execute_result"
    }
   ],
   "source": [
    "big_df[\"S&P Domestic Long Term Issuer Credit Rating\"].value_counts()\n",
    "# big_df[\"S&P Domestic Long Term Issuer Credit Rating\"].isna().sum()"
   ]
  },
  {
   "cell_type": "code",
   "execution_count": null,
   "metadata": {},
   "outputs": [],
   "source": []
  }
 ],
 "metadata": {
  "kernelspec": {
   "display_name": "Python 3",
   "language": "python",
   "name": "python3"
  },
  "language_info": {
   "codemirror_mode": {
    "name": "ipython",
    "version": 3
   },
   "file_extension": ".py",
   "mimetype": "text/x-python",
   "name": "python",
   "nbconvert_exporter": "python",
   "pygments_lexer": "ipython3",
   "version": "3.7.0"
  }
 },
 "nbformat": 4,
 "nbformat_minor": 2
}
