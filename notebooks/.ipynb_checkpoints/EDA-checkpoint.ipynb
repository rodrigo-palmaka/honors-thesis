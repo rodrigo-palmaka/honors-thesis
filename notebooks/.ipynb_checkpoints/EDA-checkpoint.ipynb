{
 "cells": [
  {
   "cell_type": "code",
   "execution_count": 1,
   "metadata": {
    "ExecuteTime": {
     "end_time": "2021-01-23T02:15:24.166553Z",
     "start_time": "2021-01-23T02:15:15.775155Z"
    }
   },
   "outputs": [],
   "source": [
    "import pandas as pd\n",
    "import numpy as np\n",
    "import matplotlib.pyplot as plt\n",
    "# from mpl_toolkits.mplot3d import axes3d  \n",
    "import seaborn as sns\n",
    "from scipy import stats\n",
    "\n",
    "from sklearn.preprocessing import MinMaxScaler, StandardScaler\n",
    "from sklearn.decomposition import PCA\n",
    "from EDA_helper import *"
   ]
  },
  {
   "cell_type": "code",
   "execution_count": 2,
   "metadata": {
    "ExecuteTime": {
     "end_time": "2021-01-23T02:15:29.297766Z",
     "start_time": "2021-01-23T02:15:24.169539Z"
    }
   },
   "outputs": [
    {
     "name": "stderr",
     "output_type": "stream",
     "text": [
      "c:\\users\\rodri\\appdata\\local\\programs\\python\\python37\\lib\\site-packages\\openpyxl\\styles\\stylesheet.py:214: UserWarning: Workbook contains no default style, apply openpyxl's default\n",
      "  warn(\"Workbook contains no default style, apply openpyxl's default\")\n"
     ]
    }
   ],
   "source": [
    "df = pd.read_excel(\"../datasets/msft_test.xlsx\", engine='openpyxl')\n",
    "\n",
    "df1 = pd.read_csv(\"../datasets/constituents_csv.csv\")\n",
    "sp_energ = df1[df1[\"Sector\"] == \"Energy\"]\n",
    "ratings = pd.read_excel(\"../datasets/100_ratings_06-17.xlsx\")\n",
    "figs = pd.read_excel(\"../datasets/fin_figs_1.xlsx\")"
   ]
  },
  {
   "cell_type": "code",
   "execution_count": 3,
   "metadata": {
    "ExecuteTime": {
     "end_time": "2021-01-08T02:20:34.498110Z",
     "start_time": "2021-01-08T02:20:34.473177Z"
    }
   },
   "outputs": [
    {
     "data": {
      "text/plain": [
       "86"
      ]
     },
     "execution_count": 3,
     "metadata": {},
     "output_type": "execute_result"
    }
   ],
   "source": [
    "len(ratings['Company Name'].unique())"
   ]
  },
  {
   "cell_type": "code",
   "execution_count": 3,
   "metadata": {
    "ExecuteTime": {
     "end_time": "2021-01-23T02:15:30.768340Z",
     "start_time": "2021-01-23T02:15:30.727286Z"
    },
    "code_folding": []
   },
   "outputs": [],
   "source": [
    "a = list(sp_energ[\"Symbol\"])\n",
    "b = [\"RDS.A\", \"PTR\", \"TOT\", \"SNP\", \"BP\", \"ENB\", \"PBR\", \"CEO\", \"EQNR\", \"EPD\", \"TRP\", \"COP\",\"E\", \"KMI\",'PSX', \n",
    " 'EOG', 'SLB', 'WMB', 'MPC', 'CNQ', 'EC', 'MPLX', 'SU', 'VLO', 'BKR', 'CQP', 'PXD', 'ET', 'OKE', 'HES', \n",
    " 'LNG', 'HAL', 'PBA', 'IMO', 'OXY', 'CXO', 'MMP', 'TS', 'COG', 'PAA', 'PSXP', 'FANG', 'CLR', 'CVE', \n",
    " 'WES', 'TRGP', 'HESM', 'PE', 'DVN', 'SSL', 'SHI', 'NOV','TPL','EQT','MRO','PDS','APA','VVV','UGP',\n",
    " 'NFG','CZZ','SHLX','HFC','CCJ','YPF','WPX','FTI','DCP','XEC','AM','ETRN','OVV','REGI','ENBL','SUN','CNX',\n",
    " 'CHX', 'TCP','SWN','HP','RRC',\n",
    "     \n",
    "    'WHD','INT','EURN','PDCE','ENLC','PAGP','BSM','CVI','MUR','MGY','HEP',\n",
    "     'NS','DKL','FRO','CRC', 'WHD',  'CZZ',  'TCP',  'SWN',  'INT',  'CLNE',  'RRC',  'CRC',  'MUR',  'ENLC', \n",
    "    'CVI',  'MTDR', 'PAGP',  'AR', 'RIG',  'NS',  'DKL',  'CLB',  'EURN',  'BSM', \n",
    "    'HEP',  'DEN',  'CPG',  'AROC', 'DK',  'LBRT',  'CEQP',  'RTLR',  'USAC',  'BPMP',  'GLNG', 'FRO', \n",
    "     'DRQ',  'BROG', 'PTEN',  'KOS',  'NBLX',  'TGP', 'CRK',  'SM',\n",
    "    'OH',  'NXE',  'PBF',  'VNOM',  'WLL',  'DHT', 'DNOW', 'NESR',  'CKH',  'PUMP',\n",
    "     'VTOL',  'RES',  'TELL',  'VET',  'TALO', 'OAS', 'NEX', 'PARR',  'QEP', 'BOOM'] \n",
    "\n",
    "## did top 140 energy companies by market cap on finviz\n",
    "\n",
    "a.extend(b)\n",
    "tik = set(a)\n",
    "file = open(\"tickers_plus.txt\",'w')\n",
    "\n",
    "for l in tik:\n",
    "    file.write(l)\n",
    "    file.write('\\n')\n",
    "file.close()\n"
   ]
  },
  {
   "cell_type": "code",
   "execution_count": null,
   "metadata": {
    "ExecuteTime": {
     "end_time": "2021-01-04T02:59:06.751158Z",
     "start_time": "2021-01-04T02:59:06.729214Z"
    },
    "code_folding": [
     0
    ]
   },
   "outputs": [],
   "source": []
  },
  {
   "cell_type": "code",
   "execution_count": 5,
   "metadata": {
    "ExecuteTime": {
     "end_time": "2021-01-08T02:20:34.575902Z",
     "start_time": "2021-01-08T02:20:34.557951Z"
    },
    "code_folding": [
     0
    ],
    "scrolled": true
   },
   "outputs": [],
   "source": [
    "# ratings[\"S&P Domestic Long Term Issuer Credit Rating\"].value_counts()\n",
    "# # len(figs_1[\"Global Company Key\"].uni\n",
    "# pd.DataFrame(figs_1.groupby('Ticker Symbol')['Cash'].mean()).describe()\n",
    "# ratings[\"S&P Domestic Long Term Issuer Credit Rating\"].isna().sum()/len(ratings)\n"
   ]
  },
  {
   "cell_type": "code",
   "execution_count": 6,
   "metadata": {
    "ExecuteTime": {
     "end_time": "2021-01-08T02:20:34.704676Z",
     "start_time": "2021-01-08T02:20:34.578895Z"
    }
   },
   "outputs": [
    {
     "name": "stdout",
     "output_type": "stream",
     "text": [
      "Unique Companies in Ratings:  73\n",
      "Unique Companies in Features:  95\n",
      "Intersection of companies:  73\n"
     ]
    }
   ],
   "source": [
    "figs_1, ratings1 = format_df(figs, ratings) "
   ]
  },
  {
   "cell_type": "markdown",
   "metadata": {},
   "source": [
    "### Delaware is the state of incorporation of nearly 90% of samples companies"
   ]
  },
  {
   "cell_type": "code",
   "execution_count": 7,
   "metadata": {
    "ExecuteTime": {
     "end_time": "2021-01-08T02:20:34.719632Z",
     "start_time": "2021-01-08T02:20:34.708661Z"
    },
    "scrolled": true
   },
   "outputs": [],
   "source": [
    "# (figs_1[\"Current State/Province of Incorporation Code\"].value_counts()\n",
    "# /figs_1[\"Current State/Province of Incorporation Code\"].notna().sum())\n",
    "# figs_1[\"Current State/Province of Incorporation Code\"].unique()"
   ]
  },
  {
   "cell_type": "markdown",
   "metadata": {},
   "source": [
    "## Data Cleaning"
   ]
  },
  {
   "cell_type": "code",
   "execution_count": 8,
   "metadata": {
    "ExecuteTime": {
     "end_time": "2021-01-08T02:20:34.750549Z",
     "start_time": "2021-01-08T02:20:34.733596Z"
    }
   },
   "outputs": [],
   "source": [
    "# list(ratings1[\"S&P Domestic Long Term Issuer Credit Rating\"].value_counts())\n",
    "# ratings1[\"S&P Domestic Long Term Issuer Credit Rating\"].value_counts()"
   ]
  },
  {
   "cell_type": "markdown",
   "metadata": {},
   "source": [
    "### Joining Raw Features and Labels"
   ]
  },
  {
   "cell_type": "code",
   "execution_count": null,
   "metadata": {
    "ExecuteTime": {
     "end_time": "2021-01-05T20:19:52.576617Z",
     "start_time": "2021-01-05T20:19:52.509780Z"
    },
    "code_folding": []
   },
   "outputs": [],
   "source": []
  },
  {
   "cell_type": "code",
   "execution_count": 9,
   "metadata": {
    "ExecuteTime": {
     "end_time": "2021-01-08T02:20:34.765512Z",
     "start_time": "2021-01-08T02:20:34.756534Z"
    }
   },
   "outputs": [],
   "source": [
    " numerical = ['Current Assets - Total', 'Cash','Long-Term Debt - Total',\n",
    "    'Earnings Per Share (Basic) - Including Extraordinary Items - 12 Months Moving',\n",
    "    'Invested Capital - Total - Quarterly','Inventories - Total',\n",
    "    \n",
    " 'Pretax Income',\n",
    "    'Operating Income Before Depreciation']\n",
    "    #'Liabilities and Stockholders Equity - Total',\n",
    "    # 'Assets - Total',\n",
    "    # 'Stockholders Equity - Total', \n",
    "    # 'Current Liabilities - Total',\n",
    "#         'Liabilities - Total',"
   ]
  },
  {
   "cell_type": "code",
   "execution_count": 10,
   "metadata": {
    "ExecuteTime": {
     "end_time": "2021-01-08T02:20:35.140876Z",
     "start_time": "2021-01-08T02:20:34.772490Z"
    }
   },
   "outputs": [
    {
     "ename": "NameError",
     "evalue": "name 'merged' is not defined",
     "output_type": "error",
     "traceback": [
      "\u001b[1;31m---------------------------------------------------------------------------\u001b[0m",
      "\u001b[1;31mNameError\u001b[0m                                 Traceback (most recent call last)",
      "\u001b[1;32m<ipython-input-10-db73082eb36c>\u001b[0m in \u001b[0;36m<module>\u001b[1;34m\u001b[0m\n\u001b[0;32m      1\u001b[0m \u001b[0mscaler\u001b[0m \u001b[1;33m=\u001b[0m \u001b[0mMinMaxScaler\u001b[0m\u001b[1;33m(\u001b[0m\u001b[1;33m)\u001b[0m\u001b[1;33m\u001b[0m\u001b[0m\n\u001b[1;32m----> 2\u001b[1;33m \u001b[0mdf_norm\u001b[0m \u001b[1;33m=\u001b[0m \u001b[0mpd\u001b[0m\u001b[1;33m.\u001b[0m\u001b[0mDataFrame\u001b[0m\u001b[1;33m(\u001b[0m\u001b[0mscaler\u001b[0m\u001b[1;33m.\u001b[0m\u001b[0mfit_transform\u001b[0m\u001b[1;33m(\u001b[0m\u001b[0mmerged\u001b[0m\u001b[1;33m[\u001b[0m\u001b[0mnumerical\u001b[0m\u001b[1;33m]\u001b[0m\u001b[1;33m)\u001b[0m\u001b[1;33m,\u001b[0m \u001b[0mcolumns\u001b[0m\u001b[1;33m=\u001b[0m\u001b[0mmerged\u001b[0m\u001b[1;33m[\u001b[0m\u001b[0mnumerical\u001b[0m\u001b[1;33m]\u001b[0m\u001b[1;33m.\u001b[0m\u001b[0mcolumns\u001b[0m\u001b[1;33m)\u001b[0m\u001b[1;33m\u001b[0m\u001b[0m\n\u001b[0m",
      "\u001b[1;31mNameError\u001b[0m: name 'merged' is not defined"
     ]
    }
   ],
   "source": [
    "scaler = MinMaxScaler()\n",
    "df_norm = pd.DataFrame(scaler.fit_transform(merged[numerical]), columns=merged[numerical].columns)\n"
   ]
  },
  {
   "cell_type": "markdown",
   "metadata": {},
   "source": [
    "### Ratings Appear to be \"Normally\" Distributed"
   ]
  },
  {
   "cell_type": "code",
   "execution_count": null,
   "metadata": {
    "ExecuteTime": {
     "end_time": "2021-01-06T04:13:23.555519Z",
     "start_time": "2021-01-06T04:13:19.850Z"
    }
   },
   "outputs": [],
   "source": [
    "embed = {'BBB-':-1, 'BBB':0, 'A-':2, 'BBB+':1, 'AA+':7, 'AA':6, 'A':3, 'AA-':5, 'BB':-3, 'BB+':-2,\n",
    "       'AAA':8, 'B':-6, 'B+':-5, 'A+':4, 'BB-':-4, 'CCC+':-8, 'B-':-7}\n",
    "\n",
    "fig, ax = plt.subplots(figsize=(7,7))\n",
    "embedded =  merged['rating'].apply(lambda x: embed[x])\n",
    "ax.hist(embedded,bins=17)\n",
    "ax.set_xticklabels([0, 'CCC+', 'B','BB-','BB+', 'BBB','A-','A+',\n",
    "                   'AA', 'AAA'])\n",
    "\n",
    "hmean = np.mean(embedded)\n",
    "hstd = np.std(embedded)\n",
    "pdf = stats.norm.pdf(embedded, hmean, hstd)\n",
    "\n",
    "ax2 = ax.twinx()\n",
    "ax2.plot(embedded, pdf, 'r.')\n",
    "plt.show()"
   ]
  },
  {
   "cell_type": "markdown",
   "metadata": {
    "ExecuteTime": {
     "end_time": "2021-01-02T00:05:19.042623Z",
     "start_time": "2021-01-02T00:05:18.765796Z"
    }
   },
   "source": [
    "### Ratings are discrete and can't be understood by a continuous distribution like the Gaussian \n",
    "\n",
    "Jarque-Bera Goodness of Fit test checks skewness and kurtosis of distribution to qualify if it is normally distributed\n",
    "\n",
    "\n",
    "High statistic value and low p-value implies the distribution is NOT Gaussian.\n",
    "\n",
    "This is obvious since our ratings are categorical data and make no sense in the context of the normal distribution. However, the fact that the labels, when plotted, seem to resemble a normal dist. around BBB may be useful."
   ]
  },
  {
   "cell_type": "code",
   "execution_count": null,
   "metadata": {
    "ExecuteTime": {
     "end_time": "2021-01-06T04:13:23.557513Z",
     "start_time": "2021-01-06T04:13:19.853Z"
    }
   },
   "outputs": [],
   "source": [
    "t = np.random.normal(0,1, 100)\n",
    "\n",
    "print(\"JB test for Ratings: \", \"statistic: \", stats.jarque_bera(embedded)[0], \"p-value: \", stats.jarque_bera(embedded)[1])\n",
    "print(\"JB test for Std Normal (Control): \", \"statistic: \", stats.jarque_bera(t)[0], \"p-value: \", stats.jarque_bera(t)[1])"
   ]
  },
  {
   "cell_type": "markdown",
   "metadata": {},
   "source": [
    "## PCA"
   ]
  },
  {
   "cell_type": "code",
   "execution_count": null,
   "metadata": {
    "ExecuteTime": {
     "end_time": "2021-01-06T04:13:23.561502Z",
     "start_time": "2021-01-06T04:13:19.856Z"
    }
   },
   "outputs": [],
   "source": [
    "\n",
    "# Separating out the target\n",
    "# simple trial: use only AAA, BBB, B\n",
    "three = ['AAA', 'BBB', 'B']\n",
    "ind_to_keep = (merged['rating'] == 'AAA') | (merged['rating'] == 'BBB') | (merged['rating'] == 'B')\n",
    "\n",
    "x = merged.loc[ind_to_keep, numerical].values\n",
    "y = merged.loc[ind_to_keep,['rating']].values\n",
    "# Standardizing the features\n",
    "# ind_to_keep\n",
    "# x = StandardScaler().fit_transform(x)\n"
   ]
  },
  {
   "cell_type": "code",
   "execution_count": null,
   "metadata": {
    "ExecuteTime": {
     "end_time": "2021-01-06T04:13:23.563497Z",
     "start_time": "2021-01-06T04:13:19.860Z"
    }
   },
   "outputs": [],
   "source": [
    "x,y,merged=join_numerical(figs_1, ratings1, ind_to_keep=ind_to_keep)"
   ]
  },
  {
   "cell_type": "code",
   "execution_count": null,
   "metadata": {
    "ExecuteTime": {
     "end_time": "2021-01-06T04:13:23.565491Z",
     "start_time": "2021-01-06T04:13:19.863Z"
    }
   },
   "outputs": [],
   "source": [
    "np.count_nonzero(np.isnan(x))"
   ]
  },
  {
   "cell_type": "code",
   "execution_count": null,
   "metadata": {
    "ExecuteTime": {
     "end_time": "2021-01-06T04:13:23.566489Z",
     "start_time": "2021-01-06T04:13:19.868Z"
    }
   },
   "outputs": [],
   "source": [
    "pca = PCA(n_components=2)\n",
    "principalComponents = pca.fit_transform(x)"
   ]
  },
  {
   "cell_type": "code",
   "execution_count": null,
   "metadata": {
    "ExecuteTime": {
     "end_time": "2021-01-06T04:13:23.568483Z",
     "start_time": "2021-01-06T04:13:19.877Z"
    }
   },
   "outputs": [],
   "source": [
    "principalDf = pd.DataFrame(data = principalComponents\n",
    "             , columns = ['principal component 1', 'principal component 2'])\n",
    "finalDf = pd.concat([principalDf, pd.DataFrame(y, columns=['rating'])], axis = 1)\n",
    "\n",
    "fig = plt.figure(figsize = (8,8))\n",
    "ax = fig.add_subplot(1,1,1) \n",
    "ax.set_xlabel('Principal Component 1', fontsize = 15)\n",
    "ax.set_ylabel('Principal Component 2', fontsize = 15)\n",
    "ax.set_title('2 component PCA', fontsize = 20)\n",
    "targets = ['B', 'BBB', 'AAA']\n",
    "colors = ['#630C3A', '#39C8C6', '#D3500C']\n",
    "for target, color in zip(targets,colors):\n",
    "    indicesToKeep = finalDf['rating'] == target\n",
    "    ax.scatter(finalDf.loc[indicesToKeep, 'principal component 1']\n",
    "               , finalDf.loc[indicesToKeep, 'principal component 2']\n",
    "               , c = color\n",
    "               , s = 50)\n",
    "ax.legend(targets)\n",
    "ax.grid()\n",
    "\n"
   ]
  },
  {
   "cell_type": "code",
   "execution_count": null,
   "metadata": {
    "ExecuteTime": {
     "end_time": "2021-01-06T04:13:23.569480Z",
     "start_time": "2021-01-06T04:13:19.880Z"
    },
    "scrolled": true
   },
   "outputs": [],
   "source": [
    "principalDf = pd.DataFrame(data = principalComponents\n",
    "             , columns = ['principal component 1', 'principal component 2'])\n",
    "finalDf = pd.concat([principalDf, pd.DataFrame(y, columns=['rating'])], axis = 1)\n",
    "\n",
    "fig = plt.figure(figsize = (8,8))\n",
    "ax = fig.add_subplot(1,1,1) \n",
    "ax.set_xlabel('Principal Component 1', fontsize = 15)\n",
    "ax.set_ylabel('Principal Component 2', fontsize = 15)\n",
    "ax.set_title('2 component PCA', fontsize = 20)\n",
    "targets = ['CCC+','B-', 'B', 'B+', 'BB-', 'BB', 'BB+', 'BBB-', 'BBB', 'BBB+', 'A-', 'A', 'A+',\n",
    "                   'AA-', 'AA', 'AA+', 'AAA']\n",
    "colors = ['#630C3A', '#39C8C6', '#D3500C', '#FFB139', '#17fff0', '#17d8ff', '#1770ff',\n",
    "         '#00158a', '#8f05ff', '#d8a8ff', '#fea8ff', '#cc00cf', '#ff002f', '#f56f27',\n",
    "         '#f5dd27', '#fff396', '#53f507']\n",
    "for target, color in zip(targets[:6],colors[:6]):\n",
    "    indicesToKeep = finalDf['rating'] == target\n",
    "    ax.scatter(finalDf.loc[indicesToKeep, 'principal component 1']\n",
    "               , finalDf.loc[indicesToKeep, 'principal component 2']\n",
    "               , c = color\n",
    "               , s = 50)\n",
    "ax.legend(targets)\n",
    "ax.grid()\n"
   ]
  },
  {
   "cell_type": "markdown",
   "metadata": {},
   "source": [
    "## CCA"
   ]
  },
  {
   "cell_type": "code",
   "execution_count": null,
   "metadata": {
    "ExecuteTime": {
     "end_time": "2021-01-06T04:13:23.571476Z",
     "start_time": "2021-01-06T04:13:19.885Z"
    }
   },
   "outputs": [],
   "source": [
    "from projection import Projections, Project2D"
   ]
  },
  {
   "cell_type": "code",
   "execution_count": 16,
   "metadata": {
    "ExecuteTime": {
     "end_time": "2021-01-06T04:14:32.853561Z",
     "start_time": "2021-01-06T04:14:32.829624Z"
    }
   },
   "outputs": [
    {
     "ename": "NameError",
     "evalue": "name 'y' is not defined",
     "output_type": "error",
     "traceback": [
      "\u001b[1;31m---------------------------------------------------------------------------\u001b[0m",
      "\u001b[1;31mNameError\u001b[0m                                 Traceback (most recent call last)",
      "\u001b[1;32m<ipython-input-16-d4cbcce1363f>\u001b[0m in \u001b[0;36m<module>\u001b[1;34m\u001b[0m\n\u001b[1;32m----> 1\u001b[1;33m \u001b[0mY\u001b[0m \u001b[1;33m=\u001b[0m \u001b[0mlist\u001b[0m\u001b[1;33m(\u001b[0m\u001b[0my\u001b[0m\u001b[1;33m.\u001b[0m\u001b[0mT\u001b[0m\u001b[1;33m[\u001b[0m\u001b[1;36m0\u001b[0m\u001b[1;33m]\u001b[0m\u001b[1;33m)\u001b[0m\u001b[1;33m\u001b[0m\u001b[0m\n\u001b[0m\u001b[0;32m      2\u001b[0m embed = {'BBB-':1, 'BBB':1, 'A-':1, 'BBB+':1, 'AA+':2, 'AA':2, 'A':2, 'AA-':2, 'BB':1, 'BB+':1,\n\u001b[0;32m      3\u001b[0m        'AAA':2, 'B':0, 'B+':0, 'A+':2, 'BB-':0, 'CCC+':0, 'B-':0}\n\u001b[0;32m      4\u001b[0m \u001b[0mY_emb\u001b[0m \u001b[1;33m=\u001b[0m \u001b[0mnp\u001b[0m\u001b[1;33m.\u001b[0m\u001b[0marray\u001b[0m\u001b[1;33m(\u001b[0m\u001b[1;33m[\u001b[0m\u001b[0memb\u001b[0m\u001b[1;33m[\u001b[0m\u001b[0mi\u001b[0m\u001b[1;33m]\u001b[0m \u001b[1;32mfor\u001b[0m \u001b[0mi\u001b[0m \u001b[1;32min\u001b[0m \u001b[0mY\u001b[0m\u001b[1;33m]\u001b[0m\u001b[1;33m)\u001b[0m\u001b[1;33m\u001b[0m\u001b[0m\n\u001b[0;32m      5\u001b[0m \u001b[0mY\u001b[0m \u001b[1;33m=\u001b[0m \u001b[0mY\u001b[0m\u001b[1;33m.\u001b[0m\u001b[0mreshape\u001b[0m\u001b[1;33m(\u001b[0m\u001b[1;33m(\u001b[0m\u001b[0mY\u001b[0m\u001b[1;33m.\u001b[0m\u001b[0mshape\u001b[0m\u001b[1;33m[\u001b[0m\u001b[1;36m0\u001b[0m\u001b[1;33m]\u001b[0m\u001b[1;33m,\u001b[0m \u001b[1;36m1\u001b[0m\u001b[1;33m)\u001b[0m\u001b[1;33m)\u001b[0m\u001b[1;33m\u001b[0m\u001b[0m\n",
      "\u001b[1;31mNameError\u001b[0m: name 'y' is not defined"
     ]
    }
   ],
   "source": [
    "Y = list(y.T[0])\n",
    "embed = {'BBB-':1, 'BBB':1, 'A-':1, 'BBB+':1, 'AA+':2, 'AA':2, 'A':2, 'AA-':2, 'BB':1, 'BB+':1,\n",
    "       'AAA':2, 'B':0, 'B+':0, 'A+':2, 'BB-':0, 'CCC+':0, 'B-':0}\n",
    "Y_emb = np.array([emb[i] for i in Y])\n",
    "Y = Y.reshape((Y.shape[0], 1))\n",
    "# Y = list(Y)\n",
    "# len(x)"
   ]
  },
  {
   "cell_type": "code",
   "execution_count": null,
   "metadata": {
    "ExecuteTime": {
     "end_time": "2021-01-06T04:13:13.144685Z",
     "start_time": "2021-01-06T04:13:12.866Z"
    }
   },
   "outputs": [],
   "source": [
    "from utils import create_one_hot_label"
   ]
  },
  {
   "cell_type": "code",
   "execution_count": 86,
   "metadata": {
    "ExecuteTime": {
     "end_time": "2021-01-04T03:16:56.783564Z",
     "start_time": "2021-01-04T03:16:56.765076Z"
    }
   },
   "outputs": [],
   "source": [
    "Y_one = create_one_hot_label(Y, 3)"
   ]
  },
  {
   "cell_type": "code",
   "execution_count": null,
   "metadata": {},
   "outputs": [],
   "source": []
  },
  {
   "cell_type": "code",
   "execution_count": 87,
   "metadata": {
    "ExecuteTime": {
     "end_time": "2021-01-04T03:16:57.473634Z",
     "start_time": "2021-01-04T03:16:57.160966Z"
    }
   },
   "outputs": [
    {
     "data": {
      "image/png": "[encoded data removed]",
      "text/plain": [
       "<Figure size 432x288 with 1 Axes>"
      ]
     },
     "metadata": {
      "needs_background": "light"
     },
     "output_type": "display_data"
    }
   ],
   "source": [
    "\n",
    "CLASS_LABELS = ['B', 'BBB', 'AAA']\n",
    "\n",
    "feat_dim = max(x[0].shape)\n",
    "projections = Projections(feat_dim, CLASS_LABELS)\n",
    "# CCA Projection\n",
    "cca_proj, white_cov = projections.cca_projection(x, Y)\n",
    "# Show CCA 2D Projection\n",
    "proj2D_viz = Project2D(cca_proj, CLASS_LABELS)\n",
    "proj2D_viz.project_data(x, Y, white=white_cov, title='CCA projection')\n"
   ]
  },
  {
   "cell_type": "markdown",
   "metadata": {},
   "source": [
    "## SVM: AAA vs BBB vs B"
   ]
  },
  {
   "cell_type": "code",
   "execution_count": 88,
   "metadata": {
    "ExecuteTime": {
     "end_time": "2021-01-04T03:16:57.536827Z",
     "start_time": "2021-01-04T03:16:57.513709Z"
    }
   },
   "outputs": [
    {
     "data": {
      "text/plain": [
       "(493, 1)"
      ]
     },
     "execution_count": 88,
     "metadata": {},
     "output_type": "execute_result"
    }
   ],
   "source": [
    "Y.shape"
   ]
  },
  {
   "cell_type": "code",
   "execution_count": 89,
   "metadata": {
    "ExecuteTime": {
     "end_time": "2021-01-04T03:16:58.727671Z",
     "start_time": "2021-01-04T03:16:57.719584Z"
    }
   },
   "outputs": [
    {
     "data": {
      "image/png": "[encoded data removed]",
      "text/plain": [
       "<Figure size 864x720 with 2 Axes>"
      ]
     },
     "metadata": {
      "needs_background": "light"
     },
     "output_type": "display_data"
    },
    {
     "data": {
      "text/html": [
       "<div>\n",
       "<style scoped>\n",
       "    .dataframe tbody tr th:only-of-type {\n",
       "        vertical-align: middle;\n",
       "    }\n",
       "\n",
       "    .dataframe tbody tr th {\n",
       "        vertical-align: top;\n",
       "    }\n",
       "\n",
       "    .dataframe thead th {\n",
       "        text-align: right;\n",
       "    }\n",
       "</style>\n",
       "<table border=\"1\" class=\"dataframe\">\n",
       "  <thead>\n",
       "    <tr style=\"text-align: right;\">\n",
       "      <th></th>\n",
       "      <th>Current Assets - Total</th>\n",
       "      <th>Cash</th>\n",
       "      <th>Long-Term Debt - Total</th>\n",
       "      <th>Earnings Per Share (Basic) - Including Extraordinary Items - 12 Months Moving</th>\n",
       "      <th>Invested Capital - Total - Quarterly</th>\n",
       "      <th>Inventories - Total</th>\n",
       "      <th>Pretax Income</th>\n",
       "      <th>Operating Income Before Depreciation</th>\n",
       "      <th>rating</th>\n",
       "    </tr>\n",
       "  </thead>\n",
       "  <tbody>\n",
       "    <tr>\n",
       "      <th>0</th>\n",
       "      <td>8839.000</td>\n",
       "      <td>2353.000</td>\n",
       "      <td>5541.000</td>\n",
       "      <td>7.46</td>\n",
       "      <td>21369.000</td>\n",
       "      <td>1682.000</td>\n",
       "      <td>1291.000</td>\n",
       "      <td>4363.000</td>\n",
       "      <td>1.0</td>\n",
       "    </tr>\n",
       "    <tr>\n",
       "      <th>1</th>\n",
       "      <td>8780.000</td>\n",
       "      <td>1608.000</td>\n",
       "      <td>5537.000</td>\n",
       "      <td>6.52</td>\n",
       "      <td>22346.000</td>\n",
       "      <td>1452.000</td>\n",
       "      <td>357.000</td>\n",
       "      <td>5770.000</td>\n",
       "      <td>1.0</td>\n",
       "    </tr>\n",
       "    <tr>\n",
       "      <th>2</th>\n",
       "      <td>9436.000</td>\n",
       "      <td>1968.000</td>\n",
       "      <td>5517.000</td>\n",
       "      <td>7.64</td>\n",
       "      <td>23634.000</td>\n",
       "      <td>1552.000</td>\n",
       "      <td>1485.000</td>\n",
       "      <td>1842.000</td>\n",
       "      <td>1.0</td>\n",
       "    </tr>\n",
       "    <tr>\n",
       "      <th>3</th>\n",
       "      <td>8886.000</td>\n",
       "      <td>2194.000</td>\n",
       "      <td>5506.000</td>\n",
       "      <td>8.28</td>\n",
       "      <td>24410.000</td>\n",
       "      <td>1432.000</td>\n",
       "      <td>961.000</td>\n",
       "      <td>3535.000</td>\n",
       "      <td>1.0</td>\n",
       "    </tr>\n",
       "    <tr>\n",
       "      <th>4</th>\n",
       "      <td>7479.000</td>\n",
       "      <td>827.000</td>\n",
       "      <td>5548.000</td>\n",
       "      <td>5.63</td>\n",
       "      <td>24462.000</td>\n",
       "      <td>1516.000</td>\n",
       "      <td>213.000</td>\n",
       "      <td>4725.000</td>\n",
       "      <td>1.0</td>\n",
       "    </tr>\n",
       "    <tr>\n",
       "      <th>...</th>\n",
       "      <td>...</td>\n",
       "      <td>...</td>\n",
       "      <td>...</td>\n",
       "      <td>...</td>\n",
       "      <td>...</td>\n",
       "      <td>...</td>\n",
       "      <td>...</td>\n",
       "      <td>...</td>\n",
       "      <td>...</td>\n",
       "    </tr>\n",
       "    <tr>\n",
       "      <th>488</th>\n",
       "      <td>6394.031</td>\n",
       "      <td>2082.388</td>\n",
       "      <td>15465.745</td>\n",
       "      <td>-1.11</td>\n",
       "      <td>29167.541</td>\n",
       "      <td>972.125</td>\n",
       "      <td>-3661.675</td>\n",
       "      <td>5010.115</td>\n",
       "      <td>1.0</td>\n",
       "    </tr>\n",
       "    <tr>\n",
       "      <th>489</th>\n",
       "      <td>6816.082</td>\n",
       "      <td>2544.431</td>\n",
       "      <td>16006.519</td>\n",
       "      <td>-1.08</td>\n",
       "      <td>31002.848</td>\n",
       "      <td>953.245</td>\n",
       "      <td>478.424</td>\n",
       "      <td>1053.507</td>\n",
       "      <td>1.0</td>\n",
       "    </tr>\n",
       "    <tr>\n",
       "      <th>490</th>\n",
       "      <td>7558.467</td>\n",
       "      <td>2663.722</td>\n",
       "      <td>16318.449</td>\n",
       "      <td>-1.24</td>\n",
       "      <td>31894.083</td>\n",
       "      <td>1062.280</td>\n",
       "      <td>714.638</td>\n",
       "      <td>2453.196</td>\n",
       "      <td>1.0</td>\n",
       "    </tr>\n",
       "    <tr>\n",
       "      <th>491</th>\n",
       "      <td>8197.822</td>\n",
       "      <td>2684.021</td>\n",
       "      <td>16325.553</td>\n",
       "      <td>-1.25</td>\n",
       "      <td>32579.272</td>\n",
       "      <td>1134.191</td>\n",
       "      <td>626.969</td>\n",
       "      <td>4102.133</td>\n",
       "      <td>1.0</td>\n",
       "    </tr>\n",
       "    <tr>\n",
       "      <th>492</th>\n",
       "      <td>8071.205</td>\n",
       "      <td>2813.301</td>\n",
       "      <td>16088.054</td>\n",
       "      <td>0.40</td>\n",
       "      <td>30659.042</td>\n",
       "      <td>1285.116</td>\n",
       "      <td>785.900</td>\n",
       "      <td>5569.321</td>\n",
       "      <td>1.0</td>\n",
       "    </tr>\n",
       "  </tbody>\n",
       "</table>\n",
       "<p>493 rows × 9 columns</p>\n",
       "</div>"
      ],
      "text/plain": [
       "     Current Assets - Total      Cash  Long-Term Debt - Total  \\\n",
       "0                  8839.000  2353.000                5541.000   \n",
       "1                  8780.000  1608.000                5537.000   \n",
       "2                  9436.000  1968.000                5517.000   \n",
       "3                  8886.000  2194.000                5506.000   \n",
       "4                  7479.000   827.000                5548.000   \n",
       "..                      ...       ...                     ...   \n",
       "488                6394.031  2082.388               15465.745   \n",
       "489                6816.082  2544.431               16006.519   \n",
       "490                7558.467  2663.722               16318.449   \n",
       "491                8197.822  2684.021               16325.553   \n",
       "492                8071.205  2813.301               16088.054   \n",
       "\n",
       "     Earnings Per Share (Basic) - Including Extraordinary Items - 12 Months Moving  \\\n",
       "0                                                 7.46                               \n",
       "1                                                 6.52                               \n",
       "2                                                 7.64                               \n",
       "3                                                 8.28                               \n",
       "4                                                 5.63                               \n",
       "..                                                 ...                               \n",
       "488                                              -1.11                               \n",
       "489                                              -1.08                               \n",
       "490                                              -1.24                               \n",
       "491                                              -1.25                               \n",
       "492                                               0.40                               \n",
       "\n",
       "     Invested Capital - Total - Quarterly  Inventories - Total  Pretax Income  \\\n",
       "0                               21369.000             1682.000       1291.000   \n",
       "1                               22346.000             1452.000        357.000   \n",
       "2                               23634.000             1552.000       1485.000   \n",
       "3                               24410.000             1432.000        961.000   \n",
       "4                               24462.000             1516.000        213.000   \n",
       "..                                    ...                  ...            ...   \n",
       "488                             29167.541              972.125      -3661.675   \n",
       "489                             31002.848              953.245        478.424   \n",
       "490                             31894.083             1062.280        714.638   \n",
       "491                             32579.272             1134.191        626.969   \n",
       "492                             30659.042             1285.116        785.900   \n",
       "\n",
       "     Operating Income Before Depreciation  rating  \n",
       "0                                4363.000     1.0  \n",
       "1                                5770.000     1.0  \n",
       "2                                1842.000     1.0  \n",
       "3                                3535.000     1.0  \n",
       "4                                4725.000     1.0  \n",
       "..                                    ...     ...  \n",
       "488                              5010.115     1.0  \n",
       "489                              1053.507     1.0  \n",
       "490                              2453.196     1.0  \n",
       "491                              4102.133     1.0  \n",
       "492                              5569.321     1.0  \n",
       "\n",
       "[493 rows x 9 columns]"
      ]
     },
     "execution_count": 89,
     "metadata": {},
     "output_type": "execute_result"
    }
   ],
   "source": [
    "#Using Pearson Correlation\n",
    "plt.figure(figsize=(12,10))\n",
    "\n",
    "xdf = pd.DataFrame(x, columns=numerical)\n",
    "cor = xdf.corr()\n",
    "sns.heatmap(cor, annot=True, cmap=plt.cm.Reds)\n",
    "plt.show()\n",
    "cols = numerical.copy()\n",
    "cols.append('rating')\n",
    "full = pd.DataFrame(np.hstack((x, Y)), columns=cols) \n",
    "full"
   ]
  },
  {
   "cell_type": "code",
   "execution_count": 90,
   "metadata": {
    "ExecuteTime": {
     "end_time": "2021-01-04T03:16:59.044648Z",
     "start_time": "2021-01-04T03:16:58.730664Z"
    },
    "scrolled": false
   },
   "outputs": [
    {
     "data": {
      "text/plain": [
       "<mpl_toolkits.mplot3d.art3d.Path3DCollection at 0x148c7fbcf98>"
      ]
     },
     "execution_count": 90,
     "metadata": {},
     "output_type": "execute_result"
    },
    {
     "data": {
      "image/png": "[encoded data removed]",
      "text/plain": [
       "<Figure size 504x504 with 1 Axes>"
      ]
     },
     "metadata": {
      "needs_background": "light"
     },
     "output_type": "display_data"
    }
   ],
   "source": [
    "fig = plt.figure(figsize = (7,7))\n",
    "ax = fig.add_subplot(111,projection='3d') \n",
    "\n",
    "\n",
    "ax.scatter(full['Long-Term Debt - Total'],full['Pretax Income'], full['Earnings Per Share (Basic) - Including Extraordinary Items - 12 Months Moving'], c=full['rating'], cmap=plt.cm.viridis)\n",
    "# plt.show()\n",
    "# for angle in range(0, 360):\n",
    "#     ax.view_init(120, 0)\n",
    "#     plt.draw()\n",
    "#     plt.pause(.01)\n"
   ]
  },
  {
   "cell_type": "code",
   "execution_count": 91,
   "metadata": {
    "ExecuteTime": {
     "end_time": "2021-01-04T03:16:59.060221Z",
     "start_time": "2021-01-04T03:16:59.048172Z"
    }
   },
   "outputs": [],
   "source": [
    "from sklearn import svm"
   ]
  },
  {
   "cell_type": "code",
   "execution_count": 92,
   "metadata": {
    "ExecuteTime": {
     "end_time": "2021-01-04T03:16:59.076180Z",
     "start_time": "2021-01-04T03:16:59.063215Z"
    }
   },
   "outputs": [],
   "source": [
    "Y=Y.ravel()\n"
   ]
  },
  {
   "cell_type": "code",
   "execution_count": 93,
   "metadata": {
    "ExecuteTime": {
     "end_time": "2021-01-04T03:16:59.091139Z",
     "start_time": "2021-01-04T03:16:59.079172Z"
    }
   },
   "outputs": [],
   "source": [
    "x_temp = merged.loc[ind_to_keep, numerical].values"
   ]
  },
  {
   "cell_type": "code",
   "execution_count": 94,
   "metadata": {
    "ExecuteTime": {
     "end_time": "2021-01-04T03:16:59.107097Z",
     "start_time": "2021-01-04T03:16:59.096130Z"
    }
   },
   "outputs": [],
   "source": [
    "x = x_temp[:, [2, 3, 6]]"
   ]
  },
  {
   "cell_type": "code",
   "execution_count": 95,
   "metadata": {
    "ExecuteTime": {
     "end_time": "2021-01-04T03:18:03.221139Z",
     "start_time": "2021-01-04T03:16:59.110088Z"
    }
   },
   "outputs": [
    {
     "name": "stderr",
     "output_type": "stream",
     "text": [
      "c:\\users\\rodri\\appdata\\local\\programs\\python\\python37\\lib\\site-packages\\sklearn\\svm\\_base.py:977: ConvergenceWarning: Liblinear failed to converge, increase the number of iterations.\n",
      "  \"the number of iterations.\", ConvergenceWarning)\n"
     ]
    },
    {
     "ename": "MemoryError",
     "evalue": "Unable to allocate 82.8 GiB for an array with shape (2092, 5314050) and data type float64",
     "output_type": "error",
     "traceback": [
      "\u001b[1;31m---------------------------------------------------------------------------\u001b[0m",
      "\u001b[1;31mMemoryError\u001b[0m                               Traceback (most recent call last)",
      "\u001b[1;32m<ipython-input-95-69f33e72090c>\u001b[0m in \u001b[0;36m<module>\u001b[1;34m\u001b[0m\n\u001b[0;32m     13\u001b[0m \u001b[0my_min\u001b[0m\u001b[1;33m,\u001b[0m \u001b[0my_max\u001b[0m \u001b[1;33m=\u001b[0m \u001b[0mx\u001b[0m\u001b[1;33m[\u001b[0m\u001b[1;33m:\u001b[0m\u001b[1;33m,\u001b[0m \u001b[1;36m1\u001b[0m\u001b[1;33m]\u001b[0m\u001b[1;33m.\u001b[0m\u001b[0mmin\u001b[0m\u001b[1;33m(\u001b[0m\u001b[1;33m)\u001b[0m \u001b[1;33m-\u001b[0m \u001b[1;36m1\u001b[0m\u001b[1;33m,\u001b[0m \u001b[0mx\u001b[0m\u001b[1;33m[\u001b[0m\u001b[1;33m:\u001b[0m\u001b[1;33m,\u001b[0m \u001b[1;36m1\u001b[0m\u001b[1;33m]\u001b[0m\u001b[1;33m.\u001b[0m\u001b[0mmax\u001b[0m\u001b[1;33m(\u001b[0m\u001b[1;33m)\u001b[0m \u001b[1;33m+\u001b[0m \u001b[1;36m1\u001b[0m\u001b[1;33m\u001b[0m\u001b[0m\n\u001b[0;32m     14\u001b[0m xx, yy = np.meshgrid(np.arange(x_min, x_max, h),\n\u001b[1;32m---> 15\u001b[1;33m                      np.arange(y_min, y_max, h))\n\u001b[0m\u001b[0;32m     16\u001b[0m \u001b[1;33m\u001b[0m\u001b[0m\n\u001b[0;32m     17\u001b[0m \u001b[1;31m# title for the plots\u001b[0m\u001b[1;33m\u001b[0m\u001b[1;33m\u001b[0m\u001b[0m\n",
      "\u001b[1;32m<__array_function__ internals>\u001b[0m in \u001b[0;36mmeshgrid\u001b[1;34m(*args, **kwargs)\u001b[0m\n",
      "\u001b[1;32mc:\\users\\rodri\\appdata\\local\\programs\\python\\python37\\lib\\site-packages\\numpy\\lib\\function_base.py\u001b[0m in \u001b[0;36mmeshgrid\u001b[1;34m(copy, sparse, indexing, *xi)\u001b[0m\n\u001b[0;32m   4225\u001b[0m \u001b[1;33m\u001b[0m\u001b[0m\n\u001b[0;32m   4226\u001b[0m     \u001b[1;32mif\u001b[0m \u001b[0mcopy\u001b[0m\u001b[1;33m:\u001b[0m\u001b[1;33m\u001b[0m\u001b[0m\n\u001b[1;32m-> 4227\u001b[1;33m         \u001b[0moutput\u001b[0m \u001b[1;33m=\u001b[0m \u001b[1;33m[\u001b[0m\u001b[0mx\u001b[0m\u001b[1;33m.\u001b[0m\u001b[0mcopy\u001b[0m\u001b[1;33m(\u001b[0m\u001b[1;33m)\u001b[0m \u001b[1;32mfor\u001b[0m \u001b[0mx\u001b[0m \u001b[1;32min\u001b[0m \u001b[0moutput\u001b[0m\u001b[1;33m]\u001b[0m\u001b[1;33m\u001b[0m\u001b[0m\n\u001b[0m\u001b[0;32m   4228\u001b[0m \u001b[1;33m\u001b[0m\u001b[0m\n\u001b[0;32m   4229\u001b[0m     \u001b[1;32mreturn\u001b[0m \u001b[0moutput\u001b[0m\u001b[1;33m\u001b[0m\u001b[0m\n",
      "\u001b[1;32mc:\\users\\rodri\\appdata\\local\\programs\\python\\python37\\lib\\site-packages\\numpy\\lib\\function_base.py\u001b[0m in \u001b[0;36m<listcomp>\u001b[1;34m(.0)\u001b[0m\n\u001b[0;32m   4225\u001b[0m \u001b[1;33m\u001b[0m\u001b[0m\n\u001b[0;32m   4226\u001b[0m     \u001b[1;32mif\u001b[0m \u001b[0mcopy\u001b[0m\u001b[1;33m:\u001b[0m\u001b[1;33m\u001b[0m\u001b[0m\n\u001b[1;32m-> 4227\u001b[1;33m         \u001b[0moutput\u001b[0m \u001b[1;33m=\u001b[0m \u001b[1;33m[\u001b[0m\u001b[0mx\u001b[0m\u001b[1;33m.\u001b[0m\u001b[0mcopy\u001b[0m\u001b[1;33m(\u001b[0m\u001b[1;33m)\u001b[0m \u001b[1;32mfor\u001b[0m \u001b[0mx\u001b[0m \u001b[1;32min\u001b[0m \u001b[0moutput\u001b[0m\u001b[1;33m]\u001b[0m\u001b[1;33m\u001b[0m\u001b[0m\n\u001b[0m\u001b[0;32m   4228\u001b[0m \u001b[1;33m\u001b[0m\u001b[0m\n\u001b[0;32m   4229\u001b[0m     \u001b[1;32mreturn\u001b[0m \u001b[0moutput\u001b[0m\u001b[1;33m\u001b[0m\u001b[0m\n",
      "\u001b[1;31mMemoryError\u001b[0m: Unable to allocate 82.8 GiB for an array with shape (2092, 5314050) and data type float64"
     ]
    }
   ],
   "source": [
    "h = .02  # step size in the mesh\n",
    "\n",
    "# we create an instance of SVM and fit out data. We do not scale our\n",
    "# data since we want to plot the support vectors\n",
    "C = 1.0  # SVM regularization parameter\n",
    "svc = svm.SVC(kernel='linear', C=C).fit(x, Y)\n",
    "rbf_svc = svm.SVC(kernel='rbf', gamma=0.7, C=C).fit(x, Y)\n",
    "poly_svc = svm.SVC(kernel='poly', degree=3, C=C).fit(x, Y)\n",
    "lin_svc = svm.LinearSVC(C=C).fit(x, Y)\n",
    "\n",
    "# create a mesh to plot in\n",
    "x_min, x_max = x[:, 0].min() - 1, x[:, 0].max() + 1\n",
    "y_min, y_max = x[:, 1].min() - 1, x[:, 1].max() + 1\n",
    "xx, yy = np.meshgrid(np.arange(x_min, x_max, h),\n",
    "                     np.arange(y_min, y_max, h))\n",
    "\n",
    "# title for the plots\n",
    "titles = ['SVC with linear kernel',\n",
    "          'LinearSVC (linear kernel)',\n",
    "          'SVC with RBF kernel',\n",
    "          'SVC with polynomial (degree 3) kernel']\n",
    "\n",
    "\n",
    "for i, clf in enumerate((svc, lin_svc, rbf_svc, poly_svc)):\n",
    "    # Plot the decision boundary. For that, we will assign a color to each\n",
    "    # point in the mesh [x_min, x_max]x[y_min, y_max].\n",
    "    plt.subplot(2, 2, i + 1)\n",
    "    plt.subplots_adjust(wspace=0.4, hspace=0.4)\n",
    "\n",
    "    Z = clf.predict(np.c_[xx.ravel(), yy.ravel()])\n",
    "\n",
    "    # Put the result into a color plot\n",
    "    Z = Z.reshape(xx.shape)\n",
    "    plt.contourf(xx, yy, Z, cmap=plt.cm.coolwarm, alpha=0.8)\n",
    "\n",
    "    # Plot also the training points\n",
    "    plt.scatter(x[:, 0], x[:, 1], c=Y, cmap=plt.cm.coolwarm)\n",
    "    plt.xlabel('Sepal length')\n",
    "    plt.ylabel('Sepal width')\n",
    "    plt.xlim(xx.min(), xx.max())\n",
    "    plt.ylim(yy.min(), yy.max())\n",
    "    plt.xticks(())\n",
    "    plt.yticks(())\n",
    "    plt.title(titles[i])\n",
    "\n",
    "plt.show()"
   ]
  },
  {
   "cell_type": "code",
   "execution_count": 96,
   "metadata": {
    "ExecuteTime": {
     "end_time": "2021-01-04T03:19:21.925634Z",
     "start_time": "2021-01-04T03:18:15.103924Z"
    }
   },
   "outputs": [
    {
     "data": {
      "text/plain": [
       "array([1, 1, 1, 1, 1, 1, 1, 1, 1, 1, 1, 1, 1, 1, 1, 1, 1, 1, 1, 1, 1, 1,\n",
       "       1, 1, 1, 1, 1, 1, 1, 1, 1, 1, 1, 1, 1, 1, 1, 1, 1, 1, 1, 1, 1, 1,\n",
       "       1, 1, 1, 1, 1, 2, 2, 2, 2, 2, 2, 2, 2, 2, 2, 2, 2, 2, 2, 2, 2, 2,\n",
       "       2, 2, 2, 2, 2, 2, 2, 2, 2, 2, 2, 2, 2, 2, 2, 1, 1, 1, 1, 1, 0, 0,\n",
       "       2, 2, 2, 2, 1, 2, 2, 1, 2, 2, 2, 1, 2, 2, 1, 1, 1, 1, 1, 1, 1, 1,\n",
       "       1, 1, 1, 1, 1, 1, 1, 1, 1, 1, 1, 1, 1, 1, 1, 1, 1, 1, 1, 1, 1, 1,\n",
       "       1, 1, 1, 1, 1, 1, 1, 1, 1, 1, 1, 1, 1, 1, 0, 1, 1, 1, 1, 1, 1, 1,\n",
       "       1, 1, 1, 1, 1, 1, 1, 1, 1, 1, 1, 1, 1, 1, 1, 1, 1, 1, 1, 1, 1, 1,\n",
       "       1, 1, 1, 1, 1, 1, 1, 1, 1, 1, 1, 1, 1, 1, 1, 1, 1, 1, 1, 1, 1, 1,\n",
       "       1, 1, 1, 1, 1, 1, 1, 1, 1, 1, 1, 1, 1, 1, 1, 1, 1, 1, 1, 1, 1, 1,\n",
       "       1, 1, 1, 1, 1, 1, 1, 1, 1, 1, 1, 1, 1, 1, 1, 1, 1, 1, 1, 1, 1, 1,\n",
       "       1, 1, 1, 1, 1, 1, 1, 1, 0, 0, 0, 0, 0, 0, 1, 1, 1, 1, 1, 1, 1, 1,\n",
       "       1, 1, 1, 1, 1, 1, 1, 1, 1, 1, 1, 1, 1, 1, 1, 1, 1, 1, 1, 1, 1, 1,\n",
       "       1, 1, 1, 1, 1, 1, 1, 1, 1, 1, 1, 1, 1, 1, 1, 1, 1, 1, 1, 1, 1, 1,\n",
       "       1, 1, 1, 1, 1, 1, 1, 1, 1, 1, 1, 1, 1, 1, 1, 1, 1, 1, 1, 1, 1, 1,\n",
       "       1, 1, 1, 1, 1, 1, 1, 1, 1, 1, 1, 1, 1, 1, 1, 1, 1, 1, 1, 1, 1, 1,\n",
       "       1, 1, 1, 1, 1, 1, 1, 1, 1, 1, 1, 1, 1, 0, 0, 1, 1, 1, 1, 1, 1, 1,\n",
       "       1, 1, 1, 1, 1, 1, 1, 1, 1, 1, 1, 1, 1, 1, 1, 1, 1, 1, 1, 1, 1, 1,\n",
       "       1, 1, 1, 1, 1, 1, 1, 1, 1, 1, 1, 1, 1, 1, 1, 1, 1, 1, 1, 1, 1, 1,\n",
       "       1, 1, 1, 1, 0, 1, 1, 1, 1, 1, 1, 1, 1, 1, 1, 1, 1, 1, 1, 1, 1, 1,\n",
       "       1, 1, 1, 1, 1, 1, 1, 1, 1, 1, 1, 1, 1, 1, 1, 1, 1, 1, 1, 1, 1, 1,\n",
       "       1, 1, 1, 1, 1, 1, 1, 1, 1, 1, 1, 1, 1, 1, 1, 1, 1, 1, 1, 1, 1, 1,\n",
       "       1, 1, 1, 1, 1, 1, 1, 1, 1])"
      ]
     },
     "execution_count": 96,
     "metadata": {},
     "output_type": "execute_result"
    }
   ],
   "source": [
    "C = 1.0  # SVM regularization parameter\n",
    "svc = svm.SVC(kernel='linear', C=C).fit(x, Y)\n",
    "preds = svc.predict(x)\n",
    "preds"
   ]
  },
  {
   "cell_type": "code",
   "execution_count": 97,
   "metadata": {
    "ExecuteTime": {
     "end_time": "2021-01-04T03:19:21.940814Z",
     "start_time": "2021-01-04T03:19:21.928846Z"
    }
   },
   "outputs": [
    {
     "data": {
      "text/plain": [
       "0.9249492900608519"
      ]
     },
     "execution_count": 97,
     "metadata": {},
     "output_type": "execute_result"
    }
   ],
   "source": [
    "sum(Y == preds)/Y.shape[0]"
   ]
  },
  {
   "cell_type": "code",
   "execution_count": 98,
   "metadata": {
    "ExecuteTime": {
     "end_time": "2021-01-04T03:19:21.955739Z",
     "start_time": "2021-01-04T03:19:21.943806Z"
    }
   },
   "outputs": [],
   "source": [
    "from sklearn.metrics import plot_confusion_matrix\n",
    "from sklearn.metrics import classification_report\n"
   ]
  },
  {
   "cell_type": "code",
   "execution_count": 99,
   "metadata": {
    "ExecuteTime": {
     "end_time": "2021-01-04T03:19:22.333778Z",
     "start_time": "2021-01-04T03:19:21.958263Z"
    }
   },
   "outputs": [
    {
     "data": {
      "image/png": "[encoded data removed]",
      "text/plain": [
       "<Figure size 432x288 with 2 Axes>"
      ]
     },
     "metadata": {
      "needs_background": "light"
     },
     "output_type": "display_data"
    }
   ],
   "source": [
    "disp = plot_confusion_matrix(svc, x, Y,\n",
    "                                 display_labels=['B', 'BBB','AAA'],\n",
    "                                 cmap=plt.cm.Blues)\n",
    "disp.ax_.set_title('confusion')\n",
    "\n",
    "# print(title)\n",
    "# print(disp.confusion_matrix)\n",
    "\n",
    "plt.show()"
   ]
  },
  {
   "cell_type": "code",
   "execution_count": 66,
   "metadata": {
    "ExecuteTime": {
     "end_time": "2021-01-04T02:34:41.667939Z",
     "start_time": "2021-01-04T02:34:41.644953Z"
    }
   },
   "outputs": [
    {
     "name": "stdout",
     "output_type": "stream",
     "text": [
      "              precision    recall  f1-score   support\n",
      "\n",
      "           B       0.58      0.39      0.47        18\n",
      "         BBB       0.93      0.99      0.96       409\n",
      "         AAA       1.00      0.65      0.79        66\n",
      "\n",
      "    accuracy                           0.92       493\n",
      "   macro avg       0.84      0.68      0.74       493\n",
      "weighted avg       0.92      0.92      0.92       493\n",
      "\n"
     ]
    }
   ],
   "source": [
    "print(classification_report(Y, preds, target_names=['B', 'BBB','AAA']))"
   ]
  }
 ],
 "metadata": {
  "kernelspec": {
   "display_name": "Python 3",
   "language": "python",
   "name": "python3"
  },
  "language_info": {
   "codemirror_mode": {
    "name": "ipython",
    "version": 3
   },
   "file_extension": ".py",
   "mimetype": "text/x-python",
   "name": "python",
   "nbconvert_exporter": "python",
   "pygments_lexer": "ipython3",
   "version": "3.7.0"
  },
  "toc": {
   "base_numbering": 1,
   "nav_menu": {},
   "number_sections": true,
   "sideBar": true,
   "skip_h1_title": false,
   "title_cell": "Table of Contents",
   "title_sidebar": "Contents",
   "toc_cell": false,
   "toc_position": {},
   "toc_section_display": true,
   "toc_window_display": false
  }
 },
 "nbformat": 4,
 "nbformat_minor": 2
}
