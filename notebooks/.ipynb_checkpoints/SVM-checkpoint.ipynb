{
 "cells": [
  {
   "cell_type": "code",
   "execution_count": 39,
   "metadata": {
    "ExecuteTime": {
     "end_time": "2021-05-10T07:48:33.745869Z",
     "start_time": "2021-05-10T07:48:33.731944Z"
    }
   },
   "outputs": [],
   "source": [
    "import pandas as pd\n",
    "import numpy as np\n",
    "import matplotlib.pyplot as plt\n",
    "# from mpl_toolkits.mplot3d import axes3d  \n",
    "import seaborn as sns\n",
    "from scipy import stats\n",
    "\n",
    "from sklearn.preprocessing import MinMaxScaler, StandardScaler\n",
    "from sklearn.decomposition import PCA\n",
    "\n",
    "from sklearn.metrics import plot_confusion_matrix,mean_absolute_error, classification_report\n",
    "from sklearn import svm\n",
    "import random\n",
    "from imblearn.over_sampling import SMOTE, SVMSMOTE\n",
    "from EDA_helper import *\n",
    "from sklearn.model_selection import cross_val_score\n",
    "from sklearn.model_selection import RepeatedStratifiedKFold\n",
    "from sklearn.discriminant_analysis import LinearDiscriminantAnalysis, QuadraticDiscriminantAnalysis\n",
    "from sklearn.feature_selection import RFE, RFECV\n",
    "from sklearn.model_selection import train_test_split\n",
    "from sklearn.model_selection import GridSearchCV\n",
    "from sklearn.neural_network import MLPClassifier\n",
    "from imblearn.under_sampling import RandomUnderSampler\n",
    "from imblearn.pipeline import Pipeline"
   ]
  },
  {
   "cell_type": "markdown",
   "metadata": {},
   "source": [
    "Run the Following cell to process data"
   ]
  },
  {
   "cell_type": "code",
   "execution_count": 54,
   "metadata": {
    "ExecuteTime": {
     "end_time": "2021-05-10T08:06:27.339139Z",
     "start_time": "2021-05-10T08:06:27.302238Z"
    },
    "code_folding": [
     0
    ]
   },
   "outputs": [],
   "source": [
    "def process_rf(stratified=False):\n",
    "    \"\"\" \n",
    "    1. Read in energ, ratio\n",
    "\n",
    "    2. format_df(ratio, ratings)\n",
    "\n",
    "    2b. format_df(energ, ratings)\n",
    "\n",
    "    merged = left_join(ratio, energ)\n",
    "\n",
    "    3. join_numerical(merged, ratings)\n",
    "\n",
    "    4. data_split to get holdout set (apply drop_na on this)\n",
    "\n",
    "    will have quarterly granularity for test\n",
    "\n",
    "    5. interpolate train data to fill in missing (expand quarterly to monthly) \n",
    "    \"\"\"\n",
    "    ratings = pd.read_excel(\"../datasets/ratings_all_energ_new.xlsx\")\n",
    "    ratio = pd.read_excel(\"../datasets/ratios_2_all_energ_new.xlsx\")\n",
    "    energ = pd.read_excel(\"../datasets/energ_specific_all_new.xlsx\")\n",
    "    # ratings = pd.read_excel(\"../datasets/ratings_2_06-17.xlsx\")\n",
    "    # ratio = pd.read_excel(\"../datasets/ratio_figs_2.xlsx\")\n",
    "    cols = ratio.columns\n",
    "    ratio = ratio.drop(cols[0], axis=1)\n",
    "    ratio = ratio.rename(columns = {'Public Date':'Data Date','EXCHANGE TICKER SYMBOL - HISTORICAL':'Ticker Symbol'})\n",
    "\n",
    "    ratio1, ratings1 = format_df(ratio.copy(), ratings.copy(), \n",
    "                                 ['Trailing P/E to Growth (PEG) ratio','Dividend Yield', \n",
    "                                  'Interest/Average Total Debt', 'Free Cash Flow/Operating Cash Flow'])\n",
    "\n",
    "    numer = list(ratio1.columns[4:-1])\n",
    "    # yr = ['2006', '2007', '2008','2009','2010','2011','2012','2013']\n",
    "    # X1,Y1,full1 = join_numerical(ratio1, ratings1, numerical=numer)\n",
    "    cols = energ.columns\n",
    "#     print(cols)\n",
    "    # aa = cols[[0,1,2,3,4,5,6, 18,19,20,21,22,23,24,25,26,27,28,29,30,31,32,33,34,35]]\n",
    "    aa = cols[[0,1,2,3,4,5,6, 10,11,14,18,19,20,21,22,23,24,25,26,27,28,29,30,31,32,33,34,35]]\n",
    "    energ1 = energ.drop(\n",
    "           aa, \n",
    "        axis=1)\n",
    "    # energ1 = energ_.fillna(energ_.mean()) \n",
    "    # energ1, _ = format_df(energ.copy(), ratings.copy(), \n",
    "    #                             aa)\n",
    "    energ1['Data Date'] = energ1['Data Date'].astype(str)\n",
    "    energ1.shape\n",
    "    features = pd.merge(ratio1, energ1,how='left',on=[\"Data Date\", \"Ticker Symbol\"])\n",
    "#     len(features[\"Ticker Symbol\"].unique())\n",
    "    lst3 = [value for value in ratio[\"Ticker Symbol\"].unique() if value in energ[\"Ticker Symbol\"].unique()]\n",
    "    # ratio1[\"Ticker Symbol\"].unique()\n",
    "#     len(lst3)\n",
    "#     print(len(ratio[\"Ticker Symbol\"].unique()), len(energ[\"Ticker Symbol\"].unique()), \n",
    "#           len(ratio1[\"Ticker Symbol\"].unique()), len(energ1[\"Ticker Symbol\"].unique()))\n",
    "\n",
    "    first_col = features.pop(\"Ticker Symbol\") \n",
    "    ff = len(features.columns)\n",
    "    features.insert(ff, \"Ticker Symbol\", first_col)\n",
    "    numer = list(features.columns[4:-1])\n",
    "\n",
    "    X1,Y1,full1 = join_numerical(features, ratings1, numerical=numer)\n",
    "    \n",
    "    if stratified:\n",
    "        full1 = full1.reset_index()\n",
    "        comps = list(full1['Ticker Symbol'].unique())\n",
    "        labout = []\n",
    "        inout = []\n",
    "        v_labout = []\n",
    "        v_inout = []\n",
    "        t_labout = []\n",
    "        t_inout = []\n",
    "        for c in comps:\n",
    "            curr_in = full1.index[full1['Ticker Symbol'] == c]\n",
    "            indXd = X1[curr_in,:]\n",
    "            indYd = Y1[curr_in]\n",
    "            if np.random.binomial(1, 0.9):\n",
    "                if np.random.binomial(1, 0.8):\n",
    "                    inout.append(indXd)\n",
    "                    labout.append(indYd)\n",
    "                else:\n",
    "                    v_inout.append(indXd)\n",
    "                    v_labout.append(indYd)\n",
    "            else:\n",
    "                t_inout.append(indXd)\n",
    "                t_labout.append(indYd)\n",
    "        X1,Y1, X_val_, Y_val, X_hold_,Y_hold = (np.vstack(inout),np.vstack(labout), np.vstack(v_inout),\n",
    "                                               np.vstack(v_labout), np.vstack(t_inout), np.vstack(t_labout)) \n",
    "        ss = StandardScaler()\n",
    "        scl_X = ss.fit_transform(X1)\n",
    "        scl_X = np.nan_to_num(scl_X)\n",
    "        enc_Y_, _ = encode(Y1, 'full') \n",
    "\n",
    "        X_val = ss.transform(X_val_)\n",
    "        X_val = np.nan_to_num(X_val)\n",
    "        Y_val, _ = encode(Y_val, 'full')\n",
    "        \n",
    "        X_hold = ss.transform(X_hold_)\n",
    "        X_hold = np.nan_to_num(X_hold)\n",
    "\n",
    "        Y_hold, _ = encode(Y_hold, 'full')\n",
    "        minny = np.abs(np.min((np.min(enc_Y_), np.min(Y_val), np.min(Y_hold))))\n",
    "        enc_Y = enc_Y_ + minny\n",
    "        Y_val += minny\n",
    "        Y_hold += minny\n",
    "\n",
    "\n",
    "    else:\n",
    "        X_val, Y_val = np.array([]),np.array([])\n",
    "        X1, X_hold_,Y1, Y_hold = train_test_split(X1, Y1, test_size=0.2, random_state=100)\n",
    "        ss = StandardScaler()\n",
    "        scl_X = ss.fit_transform(X1)\n",
    "        scl_X = np.nan_to_num(scl_X)\n",
    "        enc_Y_, _ = encode(Y1, 'full') \n",
    "\n",
    "        X_hold = ss.transform(X_hold_)\n",
    "        X_hold = np.nan_to_num(X_hold)\n",
    "\n",
    "        Y_hold, _ = encode(Y_hold, 'full')\n",
    "        minny = np.abs(np.min((np.min(enc_Y_), np.min(Y_hold))))\n",
    "        enc_Y = enc_Y_ + minny\n",
    "        Y_hold += minny\n",
    "    print(scl_X.shape, X_val.shape, X_hold.shape)\n",
    "    return scl_X, enc_Y, X_val, Y_val, X_hold, Y_hold"
   ]
  },
  {
   "cell_type": "markdown",
   "metadata": {},
   "source": [
    "Get Holdout set (X_test, Y_test)"
   ]
  },
  {
   "cell_type": "code",
   "execution_count": null,
   "metadata": {
    "ExecuteTime": {
     "start_time": "2021-05-10T08:06:28.737Z"
    }
   },
   "outputs": [],
   "source": [
    "X_train, Y_train, X_val,Y_val, X_test, Y_test = process_rf(False)"
   ]
  },
  {
   "cell_type": "markdown",
   "metadata": {
    "ExecuteTime": {
     "end_time": "2021-05-10T07:19:53.476170Z",
     "start_time": "2021-05-10T07:19:53.457191Z"
    }
   },
   "source": [
    "Produce Train set (X_train, Y_train) and Validation set (X_val, Y_val)"
   ]
  },
  {
   "cell_type": "code",
   "execution_count": 42,
   "metadata": {
    "ExecuteTime": {
     "end_time": "2021-05-10T07:48:58.302002Z",
     "start_time": "2021-05-10T07:48:58.288043Z"
    }
   },
   "outputs": [],
   "source": [
    "\n",
    "X_train, Y_train, _, _,X_val, Y_val = data_split(X_train, Y_train, split=[0.85, 0.0], smote=False, seed = 200, neigh=5)"
   ]
  },
  {
   "cell_type": "code",
   "execution_count": 43,
   "metadata": {
    "ExecuteTime": {
     "end_time": "2021-05-10T07:49:05.670991Z",
     "start_time": "2021-05-10T07:49:05.652038Z"
    },
    "code_folding": []
   },
   "outputs": [],
   "source": [
    "def base_SVM(X_train, X_val, Y_train, Y_val):\n",
    "    svm_cv = svm.SVC(C=2000.0,gamma=0.1)\n",
    "#     svm_cv = svm.SVC(C=1000.0, kernel='linear')\n",
    "    svm_cv.fit(X_train, Y_train)\n",
    "    preds = svm_cv.predict(X_val)\n",
    "\n",
    "    return preds, svm_cv"
   ]
  },
  {
   "cell_type": "code",
   "execution_count": 44,
   "metadata": {
    "ExecuteTime": {
     "end_time": "2021-05-10T07:49:09.208251Z",
     "start_time": "2021-05-10T07:49:06.325961Z"
    }
   },
   "outputs": [
    {
     "name": "stdout",
     "output_type": "stream",
     "text": [
      "              precision    recall  f1-score   support\n",
      "\n",
      "           0       0.50      0.50      0.50         2\n",
      "           1       0.77      0.77      0.77        13\n",
      "           2       0.73      0.79      0.76        38\n",
      "           3       0.83      0.93      0.87       245\n",
      "           4       0.87      0.87      0.87       153\n",
      "           5       0.86      0.85      0.85       119\n",
      "           6       0.91      0.93      0.92       192\n",
      "           7       0.94      0.85      0.89       157\n",
      "           8       0.89      0.91      0.90       135\n",
      "           9       0.98      0.93      0.95       200\n",
      "          10       0.98      0.94      0.96       116\n",
      "          11       0.96      0.84      0.89        81\n",
      "          12       0.97      0.97      0.97        88\n",
      "          13       0.89      1.00      0.94         8\n",
      "          14       1.00      1.00      1.00         4\n",
      "          15       0.89      0.94      0.92        18\n",
      "          16       1.00      1.00      1.00         2\n",
      "          17       1.00      1.00      1.00        23\n",
      "\n",
      "    accuracy                           0.90      1594\n",
      "   macro avg       0.89      0.89      0.89      1594\n",
      "weighted avg       0.91      0.90      0.90      1594\n",
      "\n",
      "val 0.9079497907949791\n",
      "test 0.9027603513174404\n",
      "Test MAE:  0.22208281053952322\n"
     ]
    }
   ],
   "source": [
    "preds, base = base_SVM(X_train, X_val, Y_train, Y_val)\n",
    "t_preds = base.predict(X_test)\n",
    "print(classification_report(Y_test, t_preds))\n",
    "print(\"val\", np.mean(preds == Y_val))\n",
    "print(\"test\", np.mean(t_preds == Y_test))\n",
    "print(\"Test MAE: \", mean_absolute_error(Y_test, t_preds))"
   ]
  },
  {
   "cell_type": "code",
   "execution_count": 45,
   "metadata": {
    "ExecuteTime": {
     "end_time": "2021-05-10T07:49:16.573088Z",
     "start_time": "2021-05-10T07:49:16.556133Z"
    },
    "code_folding": []
   },
   "outputs": [],
   "source": [
    "def SORSVM(X_train, X_val, Y_train, Y_val):\n",
    "    \"\"\" Frank et al., 2001 \"\"\"\n",
    "    classes = np.unique(Y_train)\n",
    "    k = classes.shape[0]\n",
    "    sets = np.zeros((k - 1, X_train.shape[0], X_train.shape[1] + 1))\n",
    "    for i, curr_k in enumerate(classes[:-1]):\n",
    "\n",
    "        new_Y = np.where(Y_train > curr_k, 1, 0)\n",
    "        new_Y = new_Y[:,np.newaxis]\n",
    "        temp_set = np.append(X_train, new_Y, axis=1)\n",
    "        sets[i] = temp_set\n",
    "        assert np.unique(new_Y).shape[0] == 2\n",
    "    # train k - 1 binary models\n",
    "    svms = []\n",
    "    for j in range(k - 1):\n",
    "        param_grid = [\n",
    "            {'C': [10.0, 100.0, 2000.0], 'gamma': [0.1, 0.01, 0.0001], 'kernel': ['rbf']},\n",
    "          {'C': [ 0.01, 1.0, 10.0, 100.0, 2000.0], 'kernel': ['linear']}\n",
    "#   {'C': [0.001, 0.01, 0.1, 0.5, 1.0, 10.0, 100.0, 100.0,2000.0], 'gamma': [0.01, 0.001, 0.0001], 'kernel': ['rbf']},\n",
    "#     {'C': [0.001, 0.01, 0.1, 0.5, 1.0, 10.0, 100.0, 100.0,2000.0], 'degree': [2, 3, 4, 5, 6,7,8,9], 'kernel': ['poly']},\n",
    "                     ]\n",
    "\n",
    "#         svc = svm.SVC(probability=True)\n",
    "#         svc_k = GridSearchCV(svc, param_grid, scoring='accuracy')\n",
    "#         svc_k.fit(X_train, Y_train)\n",
    "        svc_k = svm.SVC(C=4000.0, kernel='rbf',gamma=0.1, probability=True)\n",
    "        x_ = sets[j, :, :-1]\n",
    "        y_ = sets[j, :, -1]\n",
    "        svc_k.fit(x_, y_)\n",
    "        svms.append(svc_k)\n",
    "    # K-1 x N x 2\n",
    "    pred_probs = [svms[b].predict_proba(X_val) for b in range(len(svms))]\n",
    "\n",
    "    # prob of test points being each of k ratings\n",
    "    # K x N\n",
    "    p_classes = []\n",
    "    # 1 - Pr(label > class_1)\n",
    "    p_1 = 1 - pred_probs[0][:,1]\n",
    "    p_classes.append(p_1)\n",
    "\n",
    "    for q in range(1, k - 1):\n",
    "        # Pr(label > class_q-1) - Pr(label > class_q)\n",
    "        p_q = pred_probs[q - 1][:,1] - pred_probs[q][:,1]\n",
    "        p_classes.append(p_q)\n",
    "    p_k = pred_probs[k - 2][:,1]\n",
    "    p_classes.append(p_k)\n",
    "\n",
    "    # N x K\n",
    "    p_final = np.array(p_classes).T\n",
    "    # print(int(np.sum(p_final)),  X_test.shape[0])\n",
    "    print(int(np.sum(p_final)), X_val.shape[0])\n",
    "#     assert int(np.sum(p_final)) == X_val.shape[0]\n",
    "    # N x 1\n",
    "    # max probability rating for each data point in N\n",
    "    p_preds = np.argmax(p_final, axis=1)\n",
    "\n",
    "    return p_preds, svms"
   ]
  },
  {
   "cell_type": "code",
   "execution_count": 46,
   "metadata": {
    "ExecuteTime": {
     "end_time": "2021-05-10T07:52:15.054695Z",
     "start_time": "2021-05-10T07:49:17.412999Z"
    }
   },
   "outputs": [
    {
     "name": "stdout",
     "output_type": "stream",
     "text": [
      "956 956\n",
      "1594 1594\n",
      "              precision    recall  f1-score   support\n",
      "\n",
      "           0       0.33      0.50      0.40         2\n",
      "           1       0.67      0.31      0.42        13\n",
      "           2       0.81      0.76      0.78        38\n",
      "           3       0.88      0.90      0.89       245\n",
      "           4       0.87      0.82      0.84       153\n",
      "           5       0.86      0.82      0.84       119\n",
      "           6       0.87      0.92      0.89       192\n",
      "           7       0.85      0.87      0.86       157\n",
      "           8       0.85      0.87      0.86       135\n",
      "           9       0.91      0.91      0.91       200\n",
      "          10       0.91      0.97      0.94       116\n",
      "          11       0.89      0.79      0.84        81\n",
      "          12       0.92      0.95      0.94        88\n",
      "          13       0.89      1.00      0.94         8\n",
      "          14       1.00      1.00      1.00         4\n",
      "          15       0.89      0.94      0.92        18\n",
      "          16       0.67      1.00      0.80         2\n",
      "          17       1.00      0.96      0.98        23\n",
      "\n",
      "    accuracy                           0.88      1594\n",
      "   macro avg       0.84      0.85      0.84      1594\n",
      "weighted avg       0.88      0.88      0.88      1594\n",
      "\n",
      "val 0.8891213389121339\n",
      "test 0.8776662484316186\n",
      "Test MAE:  0.25094102885821834\n"
     ]
    }
   ],
   "source": [
    "p_preds, sors = SORSVM(X_train, X_val, Y_train, Y_val)\n",
    "\n",
    "tp_preds, t_sors = SORSVM(X_train, X_test, Y_train, Y_test)\n",
    "print(classification_report(Y_test, tp_preds))\n",
    "print(\"val\", np.mean(p_preds == Y_val))\n",
    "print(\"test\", np.mean(tp_preds == Y_test))\n",
    "print(\"Test MAE: \", mean_absolute_error(Y_test, tp_preds))"
   ]
  },
  {
   "cell_type": "code",
   "execution_count": 49,
   "metadata": {
    "ExecuteTime": {
     "end_time": "2021-05-10T07:56:20.921897Z",
     "start_time": "2021-05-10T07:56:20.907934Z"
    },
    "code_folding": [
     0
    ]
   },
   "outputs": [],
   "source": [
    "def OMSVM(X_train, X_val, Y_train, Y_val):\n",
    "    \"\"\" Ahn et al., 2011 \"\"\"\n",
    "    ## One-Against-Followers\n",
    "    classes = np.unique(Y_train)\n",
    "    k = classes.shape[0]\n",
    "    #     sets = np.zeros((k - 1, X_train.shape[0], X_train.shape[1] + 1))\n",
    "    sets = []\n",
    "    for i, curr_k in enumerate(classes[:-1]):\n",
    "        temp_Y = Y_train[Y_train >= curr_k]\n",
    "        new_Y = np.where(temp_Y == curr_k, 1, 0)\n",
    "        new_Y = new_Y[:,np.newaxis]\n",
    "    #         print(len(X_train), len(Y_train))\n",
    "        X_temp = X_train[Y_train >= curr_k,:]\n",
    "        temp_set = np.append(X_temp, new_Y, axis=1)\n",
    "    #         sets[i] = temp_set\n",
    "        sets.append(temp_set)\n",
    "        assert np.unique(new_Y).shape[0] == 2\n",
    "    # train k - 1 binary models\n",
    "\n",
    "    svms = []\n",
    "    for j in range(k - 1):\n",
    "        svc_k = svm.SVC(C=1000.0, kernel='rbf',gamma=0.1, probability=True)\n",
    "        x_ = sets[j][:, :-1]\n",
    "        y_ = sets[j][:, -1]\n",
    "        svc_k.fit(x_, y_)\n",
    "        svms.append(svc_k)\n",
    "    # decision function\n",
    "    unlabeled = X_val\n",
    "    preds = np.zeros_like(Y_val) - 1\n",
    "    for j in range(len(unlabeled)):\n",
    "        for c, clf in enumerate(svms):\n",
    "        # c represents the label\n",
    "    #         print(unlabeled[j,:][:, np.newaxis].T.shape)\n",
    "            temp_pred = clf.predict_proba(unlabeled[j,:][:, np.newaxis].T)\n",
    "    #         print(temp_pred)\n",
    "    #         print(\"pred: \", temp_pred[0], \"point: \",j, \"curr_class: \", c)\n",
    "            if temp_pred[0][1] > 0.5:\n",
    "                preds[j] = c\n",
    "                break\n",
    "        if preds[j] == -1:\n",
    "            preds[j] = c + 1\n",
    "    return preds, svms"
   ]
  },
  {
   "cell_type": "code",
   "execution_count": 50,
   "metadata": {
    "ExecuteTime": {
     "end_time": "2021-05-10T07:56:57.507168Z",
     "start_time": "2021-05-10T07:56:21.029608Z"
    },
    "scrolled": false
   },
   "outputs": [
    {
     "name": "stdout",
     "output_type": "stream",
     "text": [
      "              precision    recall  f1-score   support\n",
      "\n",
      "           0       0.67      1.00      0.80         2\n",
      "           1       0.00      0.00      0.00         5\n",
      "           2       0.94      0.58      0.71        26\n",
      "           3       0.89      0.83      0.86       133\n",
      "           4       0.83      0.85      0.84        82\n",
      "           5       0.84      0.77      0.80        69\n",
      "           6       0.89      0.88      0.89       120\n",
      "           7       0.81      0.85      0.83        98\n",
      "           8       0.89      0.80      0.84        91\n",
      "           9       0.83      0.94      0.88       136\n",
      "          10       0.93      1.00      0.96        64\n",
      "          11       0.88      0.90      0.89        31\n",
      "          12       0.89      0.98      0.93        58\n",
      "          13       1.00      1.00      1.00         3\n",
      "          14       1.00      0.50      0.67         2\n",
      "          15       0.90      1.00      0.95        19\n",
      "          17       1.00      1.00      1.00        17\n",
      "\n",
      "    accuracy                           0.87       956\n",
      "   macro avg       0.83      0.82      0.82       956\n",
      "weighted avg       0.87      0.87      0.86       956\n",
      "\n",
      "val 0.8682008368200836\n",
      "test 0.8644918444165621\n",
      "Test MAE:  0.32747804265997493\n"
     ]
    }
   ],
   "source": [
    "opp_preds, opps = OMSVM(X_train, X_val, Y_train, Y_val)\n",
    "\n",
    "topp_preds, topps = OMSVM(X_train, X_test, Y_train, Y_test)\n",
    "print(classification_report(Y_val, opp_preds))\n",
    "print(\"val\", np.mean(opp_preds == Y_val))\n",
    "print(\"test\", np.mean(topp_preds == Y_test))\n",
    "print(\"Test MAE: \", mean_absolute_error(Y_test, topp_preds))"
   ]
  },
  {
   "cell_type": "code",
   "execution_count": 53,
   "metadata": {
    "ExecuteTime": {
     "end_time": "2021-05-10T08:03:57.778080Z",
     "start_time": "2021-05-10T08:03:56.060544Z"
    },
    "scrolled": true
   },
   "outputs": [
    {
     "data": {
      "image/png": "[encoded data removed]",
      "text/plain": [
       "<Figure size 432x288 with 2 Axes>"
      ]
     },
     "metadata": {
      "needs_background": "light"
     },
     "output_type": "display_data"
    }
   ],
   "source": [
    "disp = plot_confusion_matrix(base, X_test, Y_test,\n",
    "                                 display_labels=np.unique(Y_test),\n",
    "                                 cmap=plt.cm.Blues)\n",
    "disp.ax_.set_title('Baseline SVM Confusion Matrix')\n",
    "\n",
    "plt.show()"
   ]
  },
  {
   "cell_type": "code",
   "execution_count": null,
   "metadata": {},
   "outputs": [],
   "source": []
  },
  {
   "cell_type": "code",
   "execution_count": null,
   "metadata": {},
   "outputs": [],
   "source": []
  },
  {
   "cell_type": "markdown",
   "metadata": {},
   "source": [
    "## Hyperparameter Tuning (For experimenting with model at will)"
   ]
  },
  {
   "cell_type": "code",
   "execution_count": null,
   "metadata": {
    "ExecuteTime": {
     "start_time": "2021-05-05T04:20:35.801Z"
    }
   },
   "outputs": [],
   "source": [
    "\n",
    "param_grid = [\n",
    "#     {'C': [2000.0, 3000.0, 5000.0], 'gamma': [0.1, 0.01, 0.001, 0.0001], 'kernel': ['rbf']}\n",
    "  {'C': [0.01, 0.5,  10.0,2000.0], 'kernel': ['linear']},\n",
    "  {'C': [0.01, 0.5,  10.0,2000.0], 'gamma': [0.01, 0.001, 0.0001], 'kernel': ['rbf']},\n",
    "#     {'C': [0.001, 0.01, 0.1, 0.5, 1.0, 10.0, 100.0, 100.0,2000.0], 'degree': [2, 3, 4, 5, 6,7,8,9], 'kernel': ['poly']},\n",
    " ]\n",
    "# strat = RepeatedStratifiedKFold(n_splits=3, n_repeats=3, random_state=1)\n",
    "\n",
    "svc = svm.SVC()\n",
    "svm_cv = GridSearchCV(svc, param_grid, scoring='accuracy')\n",
    "# svm_cv_strat = GridSearchCV(svc, param_grid, scoring='accuracy', cv=strat)\n",
    "\n",
    "svm_cv.fit(X_train, Y_train)\n",
    "# svm_cv_strat.fit(X_train, Y_train)"
   ]
  },
  {
   "cell_type": "code",
   "execution_count": 10,
   "metadata": {
    "ExecuteTime": {
     "end_time": "2021-04-15T22:41:01.869712Z",
     "start_time": "2021-04-15T22:41:01.851937Z"
    }
   },
   "outputs": [
    {
     "name": "stdout",
     "output_type": "stream",
     "text": [
      "{'C': 3000.0, 'gamma': 0.1, 'kernel': 'rbf'} 0.8605882352941177\n",
      "{'C': 2000.0, 'gamma': 0.1, 'kernel': 'rbf'} 0.8349673202614379\n"
     ]
    }
   ],
   "source": [
    "print(svm_cv.best_params_,svm_cv.best_score_)\n",
    "print(svm_cv_strat.best_params_, svm_cv_strat.best_score_)"
   ]
  },
  {
   "cell_type": "code",
   "execution_count": 24,
   "metadata": {
    "ExecuteTime": {
     "end_time": "2021-04-15T23:11:08.859559Z",
     "start_time": "2021-04-15T23:11:08.430559Z"
    }
   },
   "outputs": [
    {
     "name": "stdout",
     "output_type": "stream",
     "text": [
      "Test Acc:  0.9002509410288582\n",
      "              precision    recall  f1-score   support\n",
      "\n",
      "           0       0.50      0.50      0.50         2\n",
      "           1       0.77      0.77      0.77        13\n",
      "           2       0.71      0.76      0.73        38\n",
      "           3       0.82      0.91      0.86       245\n",
      "           4       0.87      0.87      0.87       153\n",
      "           5       0.91      0.87      0.89       119\n",
      "           6       0.90      0.94      0.92       192\n",
      "           7       0.94      0.85      0.89       157\n",
      "           8       0.89      0.92      0.90       135\n",
      "           9       0.96      0.92      0.94       200\n",
      "          10       0.97      0.91      0.94       116\n",
      "          11       0.93      0.88      0.90        81\n",
      "          12       0.99      0.95      0.97        88\n",
      "          13       0.89      1.00      0.94         8\n",
      "          14       1.00      1.00      1.00         4\n",
      "          15       0.89      0.94      0.92        18\n",
      "          16       1.00      1.00      1.00         2\n",
      "          17       1.00      1.00      1.00        23\n",
      "\n",
      "    accuracy                           0.90      1594\n",
      "   macro avg       0.89      0.89      0.89      1594\n",
      "weighted avg       0.90      0.90      0.90      1594\n",
      "\n"
     ]
    }
   ],
   "source": [
    "preds = svm_cv.predict(X_test)\n",
    "print(\"Test Acc: \", np.mean(preds == Y_test))\n",
    "print(classification_report(Y_test, preds))"
   ]
  },
  {
   "cell_type": "code",
   "execution_count": 14,
   "metadata": {
    "ExecuteTime": {
     "end_time": "2021-04-15T22:50:36.188273Z",
     "start_time": "2021-04-15T22:50:34.990668Z"
    }
   },
   "outputs": [
    {
     "data": {
      "image/png": "[encoded data removed]",
      "text/plain": [
       "<Figure size 432x288 with 2 Axes>"
      ]
     },
     "metadata": {
      "needs_background": "light"
     },
     "output_type": "display_data"
    }
   ],
   "source": [
    "disp = plot_confusion_matrix(svm_cv, X_test, Y_test,\n",
    "                                 display_labels=np.arange(17),\n",
    "                                 cmap=plt.cm.Blues)\n",
    "disp.ax_.set_title('confusion')\n",
    "\n",
    "plt.show()"
   ]
  },
  {
   "cell_type": "code",
   "execution_count": 73,
   "metadata": {
    "ExecuteTime": {
     "end_time": "2021-03-15T07:41:55.406262Z",
     "start_time": "2021-03-15T07:41:53.522266Z"
    }
   },
   "outputs": [
    {
     "data": {
      "text/plain": [
       "SVC(C=2000.0, gamma=0.1)"
      ]
     },
     "execution_count": 73,
     "metadata": {},
     "output_type": "execute_result"
    }
   ],
   "source": [
    "svm_cv = svm.SVC(C=2000.0,gamma=0.1)\n",
    "svm_cv.fit(X_train, Y_train)"
   ]
  },
  {
   "cell_type": "code",
   "execution_count": 75,
   "metadata": {
    "ExecuteTime": {
     "end_time": "2021-03-15T07:42:00.434112Z",
     "start_time": "2021-03-15T07:41:59.432142Z"
    }
   },
   "outputs": [
    {
     "name": "stdout",
     "output_type": "stream",
     "text": [
      "Train Acc:  0.991764705882353\n",
      "              precision    recall  f1-score   support\n",
      "\n",
      "           0       1.00      1.00      1.00        17\n",
      "           1       1.00      1.00      1.00        21\n",
      "           2       0.99      0.98      0.99       173\n",
      "           3       0.99      0.99      0.99       765\n",
      "           4       0.99      0.99      0.99       470\n",
      "           5       1.00      0.99      0.99       371\n",
      "           6       0.99      0.99      0.99       626\n",
      "           7       0.99      0.99      0.99       465\n",
      "           8       0.99      0.99      0.99       404\n",
      "           9       0.99      1.00      0.99       697\n",
      "          10       0.99      0.99      0.99       365\n",
      "          11       0.99      0.99      0.99       239\n",
      "          12       1.00      1.00      1.00       300\n",
      "          13       1.00      0.94      0.97        16\n",
      "          14       1.00      1.00      1.00         6\n",
      "          15       1.00      1.00      1.00        79\n",
      "          16       1.00      1.00      1.00         8\n",
      "          17       1.00      1.00      1.00        78\n",
      "\n",
      "    accuracy                           0.99      5100\n",
      "   macro avg       0.99      0.99      0.99      5100\n",
      "weighted avg       0.99      0.99      0.99      5100\n",
      "\n"
     ]
    }
   ],
   "source": [
    "train_pred = svm_cv.predict(X_train)\n",
    "print(\"Train Acc: \", np.mean(train_pred == Y_train))\n",
    "print(classification_report(Y_train, train_pred))"
   ]
  },
  {
   "cell_type": "code",
   "execution_count": 32,
   "metadata": {
    "ExecuteTime": {
     "end_time": "2021-03-01T08:54:22.001143Z",
     "start_time": "2021-03-01T08:54:21.637789Z"
    }
   },
   "outputs": [
    {
     "data": {
      "image/png": "[encoded data removed]",
      "text/plain": [
       "<Figure size 432x288 with 1 Axes>"
      ]
     },
     "metadata": {
      "needs_background": "light"
     },
     "output_type": "display_data"
    }
   ],
   "source": [
    "def plot_grid_search(cv_results, grid_param_1, grid_param_2, name_param_1, name_param_2):\n",
    "    # Get Test Scores Mean and std for each grid search\n",
    "    scores_mean = cv_results['mean_test_score']\n",
    "    scores_mean = np.array(scores_mean).reshape(len(grid_param_2),len(grid_param_1))\n",
    "\n",
    "    scores_sd = cv_results['std_test_score']\n",
    "    scores_sd = np.array(scores_sd).reshape(len(grid_param_2),len(grid_param_1))\n",
    "\n",
    "    # Plot Grid search scores\n",
    "    _, ax = plt.subplots(1,1)\n",
    "\n",
    "    # Param1 is the X-axis, Param 2 is represented as a different curve (color line)\n",
    "    for idx, val in enumerate(grid_param_2):\n",
    "        ax.plot(grid_param_1, scores_mean[idx,:], '-o', label= name_param_2 + ': ' + str(val))\n",
    "\n",
    "    ax.set_title(\"Grid Search Scores\", fontsize=20, fontweight='bold')\n",
    "    ax.set_xlabel(name_param_1, fontsize=16)\n",
    "    ax.set_ylabel('CV Average Score', fontsize=16)\n",
    "    ax.legend(loc=\"best\", fontsize=15)\n",
    "    ax.grid('on')\n",
    "\n",
    "# Calling Method \n",
    "plot_grid_search(svm_cv.cv_results_, Cs, Gammas, 'C', 'gamma')"
   ]
  },
  {
   "cell_type": "code",
   "execution_count": 6,
   "metadata": {
    "ExecuteTime": {
     "end_time": "2021-05-10T07:18:09.702016Z",
     "start_time": "2021-05-10T07:18:09.696034Z"
    },
    "code_folding": [
     0
    ]
   },
   "outputs": [],
   "source": [
    "# ## DEPRECATED\n",
    "# def process_svm(stratified=False):\n",
    "#     ratings = pd.read_excel(\"../datasets/ratings_all_energ_new.xlsx\")\n",
    "#     ratio = pd.read_excel(\"../datasets/ratios_2_all_energ_new.xlsx\")\n",
    "#     energ = pd.read_excel(\"../datasets/energ_specific_all_new.xlsx\")\n",
    "#     # ratings = pd.read_excel(\"../datasets/ratings_2_06-17.xlsx\")\n",
    "#     # ratio = pd.read_excel(\"../datasets/ratio_figs_2.xlsx\")\n",
    "#     cols = ratio.columns\n",
    "#     ratio = ratio.drop(cols[0], axis=1)\n",
    "#     ratio = ratio.rename(columns = {'Public Date':'Data Date','EXCHANGE TICKER SYMBOL - HISTORICAL':'Ticker Symbol'})\n",
    "\n",
    "#     ratio1, ratings1 = format_df(ratio.copy(), ratings.copy(), \n",
    "#                                  ['Trailing P/E to Growth (PEG) ratio','Dividend Yield', \n",
    "#                                   'Interest/Average Total Debt', 'Free Cash Flow/Operating Cash Flow'])\n",
    "\n",
    "#     numer = list(ratio1.columns[4:-1])\n",
    "#     # yr = ['2006', '2007', '2008','2009','2010','2011','2012','2013']\n",
    "#     # X1,Y1,full1 = join_numerical(ratio1, ratings1, numerical=numer)\n",
    "#     cols = energ.columns\n",
    "# #     print(cols)\n",
    "#     # aa = cols[[0,1,2,3,4,5,6, 18,19,20,21,22,23,24,25,26,27,28,29,30,31,32,33,34,35]]\n",
    "#     aa = cols[[0,1,2,3,4,5,6, 10,11,14,18,19,20,21,22,23,24,25,26,27,28,29,30,31,32,33,34,35]]\n",
    "#     energ1 = energ.drop(\n",
    "#            aa, \n",
    "#         axis=1)\n",
    "#     # energ1 = energ_.fillna(energ_.mean()) \n",
    "#     # energ1, _ = format_df(energ.copy(), ratings.copy(), \n",
    "#     #                             aa)\n",
    "#     energ1['Data Date'] = energ1['Data Date'].astype(str)\n",
    "#     energ1.shape\n",
    "#     features = pd.merge(ratio1, energ1,how='left',on=[\"Data Date\", \"Ticker Symbol\"])\n",
    "# #     len(features[\"Ticker Symbol\"].unique())\n",
    "#     lst3 = [value for value in ratio[\"Ticker Symbol\"].unique() if value in energ[\"Ticker Symbol\"].unique()]\n",
    "#     # ratio1[\"Ticker Symbol\"].unique()\n",
    "# #     len(lst3)\n",
    "# #     print(len(ratio[\"Ticker Symbol\"].unique()), len(energ[\"Ticker Symbol\"].unique()), \n",
    "# #           len(ratio1[\"Ticker Symbol\"].unique()), len(energ1[\"Ticker Symbol\"].unique()))\n",
    "\n",
    "#     first_col = features.pop(\"Ticker Symbol\") \n",
    "#     ff = len(features.columns)\n",
    "#     features.insert(ff, \"Ticker Symbol\", first_col)\n",
    "#     numer = list(features.columns[4:-1])\n",
    "\n",
    "#     X1,Y1,full1 = join_numerical(features, ratings1, numerical=numer)\n",
    "\n",
    "#     if stratified:\n",
    "#         pass\n",
    "#     else:\n",
    "#         X1, X_hold_,Y1, Y_hold = train_test_split(X1, Y1, test_size=0.1, random_state=100)\n",
    "\n",
    "#     ss = StandardScaler()\n",
    "#     scl_X = ss.fit_transform(X1)\n",
    "#     scl_X = np.nan_to_num(scl_X)\n",
    "#     enc_Y_, _ = encode(Y1, 'full') \n",
    "\n",
    "#     X_hold = ss.transform(X_hold_)\n",
    "#     X_hold = np.nan_to_num(X_hold)\n",
    "\n",
    "#     Y_hold, _ = encode(Y_hold, 'full')\n",
    "\n",
    "#     enc_Y = enc_Y_ + np.abs(np.min(enc_Y_))\n",
    "#     Y_hold = Y_hold + np.abs(np.min(Y_hold))    \n",
    "#     return scl_X, enc_Y, X_hold, Y_hold"
   ]
  },
  {
   "cell_type": "code",
   "execution_count": null,
   "metadata": {
    "code_folding": [
     0
    ]
   },
   "outputs": [],
   "source": [
    "# def join_numerical(figs_1, ratings1, numerical=[], ind_to_keep=[], years=[]):\n",
    "#     \"\"\"\n",
    "#     in\n",
    "#     figs_1: Pandas df, features\n",
    "#     ratings1: Pandas df, labels\n",
    "#     numerical: List of str col. names of numerical columns to keep\n",
    "\n",
    "#     out\n",
    "#     x: np array\n",
    "#     y: np array\n",
    "#     merged: Pandas df\n",
    "#     \"\"\"\n",
    "#     merged = pd.merge(figs_1, ratings1, how='inner', on=[\"Data Date\", \"Ticker Symbol\"])\n",
    "#     merged = merged.rename(columns = {'S&P Domestic Long Term Issuer Credit Rating':'rating'})\n",
    "\n",
    "#     if len(numerical) == 0:\n",
    "#         numerical = ['Current Assets - Total', 'Cash','Long-Term Debt - Total',\n",
    "#         'Earnings Per Share (Basic) - Including Extraordinary Items - 12 Months Moving',\n",
    "#         'Invested Capital - Total - Quarterly','Inventories - Total', 'Pretax Income',\n",
    "#         'Operating Income Before Depreciation']\n",
    "#     vals = merged['Data Date'].str[:4]\n",
    "#     merged['year'] = vals\n",
    "#     # yrs =\n",
    "\n",
    "\n",
    "\n",
    "#     merged = merged[(merged['rating'] != 'D') & (merged['rating'] != 'SD')]\n",
    "\n",
    "#     counts =  merged['rating'].value_counts()\n",
    "#     good_classes = [counts.index[j] for j in range(len(counts)) if counts[j] >=7]\n",
    "#     merged = merged[merged['rating'].isin(good_classes)]\n",
    "#     if len(years) != 0:\n",
    "#         merged = merged[merged['year'].isin(years)]\n",
    "#     # merged = merged.drop(['year'], axis=1)\n",
    "#     if len(ind_to_keep) == 0:\n",
    "#         ind_to_keep = [True]*len(merged)\n",
    "\n",
    "#     x = merged.loc[ind_to_keep, numerical].values\n",
    "#     y = merged.loc[ind_to_keep,['rating']].values\n",
    "#     full = numerical.copy()\n",
    "#     print(merged.columns)\n",
    "#     full.append('rating')\n",
    "#     full.append('year')\n",
    "#     full.append('Ticker Symbol')\n",
    "\n",
    "\n",
    "\n",
    "#     merged = merged.loc[ind_to_keep, set(full)]\n",
    "\n",
    "# #     print(merged.columns)\n",
    "#     print(\"Intersection of Companies: \", len(merged['Ticker Symbol'].unique()))\n",
    "#     return x, y, merged\n"
   ]
  }
 ],
 "metadata": {
  "kernelspec": {
   "display_name": "Python 3",
   "language": "python",
   "name": "python3"
  },
  "language_info": {
   "codemirror_mode": {
    "name": "ipython",
    "version": 3
   },
   "file_extension": ".py",
   "mimetype": "text/x-python",
   "name": "python",
   "nbconvert_exporter": "python",
   "pygments_lexer": "ipython3",
   "version": "3.7.0"
  },
  "toc": {
   "base_numbering": 1,
   "nav_menu": {},
   "number_sections": true,
   "sideBar": true,
   "skip_h1_title": false,
   "title_cell": "Table of Contents",
   "title_sidebar": "Contents",
   "toc_cell": false,
   "toc_position": {},
   "toc_section_display": true,
   "toc_window_display": false
  }
 },
 "nbformat": 4,
 "nbformat_minor": 4
}
